{
 "cells": [
  {
   "cell_type": "code",
   "execution_count": 1,
   "id": "f2ebb5b0",
   "metadata": {},
   "outputs": [],
   "source": [
    "from sklearn.ensemble import RandomForestClassifier\n",
    "from sklearn.model_selection import train_test_split, GridSearchCV\n",
    "from sklearn.metrics import roc_curve, auc\n",
    "from sklearn.preprocessing import label_binarize\n",
    "from sklearn.metrics import roc_curve, roc_auc_score,accuracy_score,make_scorer\n",
    "import pandas as pd\n",
    "import numpy as np\n",
    "import matplotlib.pyplot as plt\n",
    "from eli5.sklearn import PermutationImportance\n",
    "from sklearn.model_selection import cross_val_score\n",
    "import eli5\n",
    "import ast\n",
    "from sklearn.metrics import confusion_matrix\n",
    "import seaborn as sns\n",
    "from sklearn.feature_selection import RFE, RFECV\n",
    "from sklearn.metrics import precision_recall_curve\n",
    "from sklearn.metrics import f1_score, precision_score, recall_score\n",
    "from sklearn.metrics import precision_recall_curve\n",
    "from sklearn.model_selection import cross_val_score, StratifiedKFold"
   ]
  },
  {
   "cell_type": "code",
   "execution_count": 2,
   "id": "baade61e",
   "metadata": {},
   "outputs": [],
   "source": [
    "piRNA_rf=pd.read_csv(\"R/GEO_count/pan_train.csv\")"
   ]
  },
  {
   "cell_type": "code",
   "execution_count": 4,
   "id": "549f329c",
   "metadata": {},
   "outputs": [],
   "source": [
    "X = piRNA_rf.drop(columns=['group'])\n",
    "y=piRNA_rf['group']"
   ]
  },
  {
   "cell_type": "code",
   "execution_count": 5,
   "id": "75113437",
   "metadata": {},
   "outputs": [],
   "source": [
    "rf_classifier = RandomForestClassifier(n_estimators=100, random_state=42)"
   ]
  },
  {
   "cell_type": "code",
   "execution_count": null,
   "id": "d4744603",
   "metadata": {},
   "outputs": [],
   "source": [
    "cv=StratifiedKFold(n_splits=5)\n",
    "selector = RFECV(estimator=rf_classifier,\n",
    "                 min_features_to_select=5, \n",
    "                 step=1,\n",
    "                 cv=5,\n",
    "                 importance_getter='auto',\n",
    "                 n_jobs=20)"
   ]
  },
  {
   "cell_type": "code",
   "execution_count": null,
   "id": "2f83f0a0",
   "metadata": {},
   "outputs": [],
   "source": [
    "def evaluate_model(X, y, model, cv, n_resamples=5):\n",
    "    scores = []\n",
    "    for i in range(n_resamples):\n",
    "        # Apply RF-RFE\n",
    "        model.fit(X, y)\n",
    "        # Get selected features\n",
    "        X_selected = X.iloc[:, model.support_]\n",
    "        # Evaluate model with cross-validation\n",
    "        score = cross_val_score(model.estimator_, X_selected, y, scoring='accuracy', cv=cv).mean()\n",
    "        scores.append(score)\n",
    "    return np.array(scores)"
   ]
  },
  {
   "cell_type": "code",
   "execution_count": null,
   "id": "a7dc36a4",
   "metadata": {},
   "outputs": [],
   "source": [
    "scores = evaluate_model(X, y, selector, cv, n_resamples=5)\n",
    "print(\"Scores from each resampling: \", scores)\n",
    "print(\"Mean Score: \", scores.mean())"
   ]
  },
  {
   "cell_type": "code",
   "execution_count": null,
   "id": "78997d1b",
   "metadata": {},
   "outputs": [],
   "source": [
    "print(\"Optimal number of features: %d\" % selector.n_features_)"
   ]
  },
  {
   "cell_type": "code",
   "execution_count": null,
   "id": "ed034824",
   "metadata": {},
   "outputs": [],
   "source": [
    "selector.cv_results_"
   ]
  },
  {
   "cell_type": "code",
   "execution_count": null,
   "id": "fd8f0e40",
   "metadata": {},
   "outputs": [],
   "source": [
    "selected_features = [feature for mask, feature in zip(selector.support_, feature_names) if mask]\n",
    "print(\"Selected features:\", selected_features)"
   ]
  },
  {
   "cell_type": "code",
   "execution_count": null,
   "id": "f21271b9",
   "metadata": {},
   "outputs": [],
   "source": [
    "min_features_to_select=5\n",
    "\n",
    "\n",
    "n_scores = len(selector.cv_results_[\"mean_test_score\"])\n",
    "plt.figure()\n",
    "plt.xlabel(\"Number of features selected\")\n",
    "plt.ylabel(\"Mean test accuracy\")\n",
    "plt.errorbar(\n",
    "    range(min_features_to_select, n_scores + min_features_to_select),\n",
    "    selector.cv_results_[\"mean_test_score\"],\n",
    "    yerr=selector.cv_results_[\"std_test_score\"],\n",
    ")\n",
    "plt.title(\"Recursive Feature Elimination \\nwith correlated features\")\n",
    "plt.show()"
   ]
  }
 ],
 "metadata": {
  "kernelspec": {
   "display_name": "Python 3",
   "language": "python",
   "name": "python3"
  },
  "language_info": {
   "codemirror_mode": {
    "name": "ipython",
    "version": 3
   },
   "file_extension": ".py",
   "mimetype": "text/x-python",
   "name": "python",
   "nbconvert_exporter": "python",
   "pygments_lexer": "ipython3",
   "version": "3.8.8"
  }
 },
 "nbformat": 4,
 "nbformat_minor": 5
}
