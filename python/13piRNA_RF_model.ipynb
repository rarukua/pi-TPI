{
 "cells": [
  {
   "cell_type": "code",
   "execution_count": 47,
   "id": "8d5b3708",
   "metadata": {},
   "outputs": [],
   "source": [
    "from sklearn.ensemble import RandomForestClassifier\n",
    "from sklearn.model_selection import train_test_split, GridSearchCV\n",
    "from sklearn.metrics import roc_curve, auc\n",
    "from sklearn.preprocessing import label_binarize\n",
    "from sklearn.metrics import roc_curve, roc_auc_score,accuracy_score,make_scorer\n",
    "import pandas as pd\n",
    "import numpy as np\n",
    "import matplotlib.pyplot as plt\n",
    "from eli5.sklearn import PermutationImportance\n",
    "from sklearn.model_selection import cross_val_score\n",
    "import eli5\n",
    "import ast\n",
    "from sklearn.metrics import confusion_matrix\n",
    "import seaborn as sns\n",
    "from sklearn.feature_selection import RFE, RFECV\n",
    "from sklearn.metrics import precision_recall_curve\n",
    "from sklearn.metrics import f1_score, precision_score, recall_score\n",
    "from sklearn.metrics import precision_recall_curve\n",
    "from sklearn.model_selection import cross_val_score, StratifiedKFold\n",
    "from sklearn.linear_model import LogisticRegression"
   ]
  },
  {
   "cell_type": "markdown",
   "id": "8c2e1197",
   "metadata": {},
   "source": [
    "# RFE feature selection"
   ]
  },
  {
   "cell_type": "code",
   "execution_count": 2,
   "id": "fd77cbd0",
   "metadata": {},
   "outputs": [],
   "source": [
    "tissue_rf=pd.read_csv(\"/home/zgao/R/GEO_count/pan_train.csv\")"
   ]
  },
  {
   "cell_type": "code",
   "execution_count": 3,
   "id": "68fc3b75",
   "metadata": {},
   "outputs": [
    {
     "data": {
      "text/plain": [
       "(812, 15)"
      ]
     },
     "execution_count": 3,
     "metadata": {},
     "output_type": "execute_result"
    }
   ],
   "source": [
    "tissue_rf.iloc[:,0]\n",
    "tissue_rf = tissue_rf.drop(columns=['Unnamed: 0'])\n",
    "tissue_rf.shape"
   ]
  },
  {
   "cell_type": "code",
   "execution_count": 4,
   "id": "89eb8f33",
   "metadata": {},
   "outputs": [],
   "source": [
    "X = tissue_rf.drop(columns=['group'])\n",
    "y = tissue_rf['group']"
   ]
  },
  {
   "cell_type": "code",
   "execution_count": 5,
   "id": "fbc189e3",
   "metadata": {},
   "outputs": [
    {
     "name": "stdout",
     "output_type": "stream",
     "text": [
      "['piR-hsa-100956', 'piR-hsa-1288731', 'piR-hsa-131631', 'piR-hsa-138412', 'piR-hsa-141155', 'piR-hsa-148273', 'piR-hsa-2499988', 'piR-hsa-2826866', 'piR-hsa-2826956', 'piR-hsa-2831324', 'piR-hsa-2833690', 'piR-hsa-2838249', 'piR-hsa-2851625', 'piR-hsa-2851799']\n"
     ]
    }
   ],
   "source": [
    "rf_classifier = RandomForestClassifier(n_estimators=100, random_state=42)\n",
    "feature_names = X.columns.tolist()\n",
    "print(feature_names)"
   ]
  },
  {
   "cell_type": "code",
   "execution_count": 6,
   "id": "e0739088",
   "metadata": {},
   "outputs": [],
   "source": [
    "selector = RFE(estimator=rf_classifier)\n",
    "param_grid = {\n",
    "    'estimator__n_estimators': [50, 100, 200],\n",
    "    'estimator__max_depth': [None, 10, 20],\n",
    "    'n_features_to_select': [i for i in range(10,30,1)]\n",
    "}"
   ]
  },
  {
   "cell_type": "code",
   "execution_count": 7,
   "id": "f4bc69c4",
   "metadata": {},
   "outputs": [
    {
     "data": {
      "text/plain": [
       "GridSearchCV(cv=5,\n",
       "             estimator=RFE(estimator=RandomForestClassifier(random_state=42)),\n",
       "             n_jobs=50,\n",
       "             param_grid={'estimator__max_depth': [None, 10, 20],\n",
       "                         'estimator__n_estimators': [50, 100, 200],\n",
       "                         'n_features_to_select': [10, 11, 12, 13, 14, 15, 16,\n",
       "                                                  17, 18, 19, 20, 21, 22, 23,\n",
       "                                                  24, 25, 26, 27, 28, 29]})"
      ]
     },
     "execution_count": 7,
     "metadata": {},
     "output_type": "execute_result"
    }
   ],
   "source": [
    "grid_search = GridSearchCV(selector, param_grid, cv=5,n_jobs=50)\n",
    "grid_search.fit(X, y)"
   ]
  },
  {
   "cell_type": "code",
   "execution_count": 8,
   "id": "15350f7e",
   "metadata": {},
   "outputs": [
    {
     "name": "stdout",
     "output_type": "stream",
     "text": [
      "Best parameters found:  {'estimator__max_depth': None, 'estimator__n_estimators': 100, 'n_features_to_select': 13}\n"
     ]
    }
   ],
   "source": [
    "best_params = grid_search.best_params_\n",
    "print(\"Best parameters found: \", best_params)"
   ]
  },
  {
   "cell_type": "code",
   "execution_count": 9,
   "id": "98cd867f",
   "metadata": {},
   "outputs": [],
   "source": [
    "best_estimator = grid_search.best_estimator_"
   ]
  },
  {
   "cell_type": "code",
   "execution_count": 10,
   "id": "e2832589",
   "metadata": {},
   "outputs": [
    {
     "name": "stdout",
     "output_type": "stream",
     "text": [
      "Fold 1: 0.8528\n",
      "Fold 2: 0.8466\n",
      "Fold 3: 0.7901\n",
      "Fold 4: 0.7407\n",
      "Fold 5: 0.7407\n",
      "Average CV Accuracy: 0.7942 ± 0.0488\n"
     ]
    }
   ],
   "source": [
    "scores = cross_val_score(best_estimator, X, y, cv=5)\n",
    "for i, score in enumerate(scores, 1):\n",
    "    print(f\"Fold {i}: {score:.4f}\")\n",
    "\n",
    "# Print the average accuracy\n",
    "print(f\"Average CV Accuracy: {scores.mean():.4f} ± {scores.std():.4f}\")"
   ]
  },
  {
   "cell_type": "code",
   "execution_count": 11,
   "id": "f56e6c2b",
   "metadata": {},
   "outputs": [],
   "source": [
    "selected_features_mask = best_estimator.support_\n",
    "feature_names = X.columns\n",
    "selected_feature_names = feature_names[selected_features_mask]"
   ]
  },
  {
   "cell_type": "code",
   "execution_count": 12,
   "id": "161b93e8",
   "metadata": {},
   "outputs": [],
   "source": [
    "feature_importances = best_estimator.estimator_.feature_importances_"
   ]
  },
  {
   "cell_type": "code",
   "execution_count": 13,
   "id": "11e22557",
   "metadata": {},
   "outputs": [],
   "source": [
    "importance_df = pd.DataFrame({\n",
    "    'Feature': selected_feature_names,\n",
    "    'Importance': feature_importances\n",
    "})"
   ]
  },
  {
   "cell_type": "code",
   "execution_count": 14,
   "id": "a0c57750",
   "metadata": {
    "scrolled": true
   },
   "outputs": [
    {
     "name": "stdout",
     "output_type": "stream",
     "text": [
      "            Feature  Importance\n",
      "0    piR-hsa-100956    0.121713\n",
      "12  piR-hsa-2851799    0.097606\n",
      "2    piR-hsa-131631    0.082284\n",
      "5   piR-hsa-2499988    0.077210\n",
      "10  piR-hsa-2838249    0.074041\n",
      "1   piR-hsa-1288731    0.073504\n",
      "3    piR-hsa-138412    0.071882\n",
      "8   piR-hsa-2831324    0.070847\n",
      "9   piR-hsa-2833690    0.069865\n",
      "4    piR-hsa-141155    0.068907\n",
      "6   piR-hsa-2826866    0.067721\n",
      "7   piR-hsa-2826956    0.062570\n",
      "11  piR-hsa-2851625    0.061850\n"
     ]
    }
   ],
   "source": [
    "sorted_importance_df = importance_df.sort_values(by='Importance', ascending=False)\n",
    "print(sorted_importance_df)"
   ]
  },
  {
   "cell_type": "code",
   "execution_count": 17,
   "id": "4214b1a1",
   "metadata": {},
   "outputs": [
    {
     "data": {
      "image/png": "[encoded data removed]",
      "text/plain": [
       "<Figure size 864x432 with 1 Axes>"
      ]
     },
     "metadata": {
      "needs_background": "light"
     },
     "output_type": "display_data"
    }
   ],
   "source": [
    "# Bar Plot\n",
    "plt.figure(figsize=(12, 6))\n",
    "sns.barplot(x='Importance', y='Feature', data=sorted_importance_df,palette='YlGnBu')\n",
    "plt.xlabel('Importance')\n",
    "plt.ylabel('Features')\n",
    "plt.title('Feature Importances')\n",
    "#plt.savefig(\"/home/zgao/R/GEO_count/plot_new/TCGA_match_feature_importance.pdf\", format='pdf')\n",
    "plt.show()"
   ]
  },
  {
   "cell_type": "markdown",
   "id": "b1af88c9",
   "metadata": {},
   "source": [
    "# 13 piRNA training in random forest(e.g. GSE62182)"
   ]
  },
  {
   "cell_type": "code",
   "execution_count": 18,
   "id": "12da60d2",
   "metadata": {},
   "outputs": [],
   "source": [
    "piRNA_rf=pd.read_csv(\"/home/zgao/R/GEO_count/pan_train2.csv\")"
   ]
  },
  {
   "cell_type": "code",
   "execution_count": 19,
   "id": "50c696cb",
   "metadata": {},
   "outputs": [],
   "source": [
    "piRNA_rf=piRNA_rf.drop(columns=['Unnamed: 0'])"
   ]
  },
  {
   "cell_type": "code",
   "execution_count": 20,
   "id": "45cf20af",
   "metadata": {},
   "outputs": [],
   "source": [
    "X_train = piRNA_rf.drop(columns=['group'])\n",
    "y_train = piRNA_rf['group']"
   ]
  },
  {
   "cell_type": "code",
   "execution_count": 21,
   "id": "117bae04",
   "metadata": {},
   "outputs": [],
   "source": [
    "test=pd.read_csv(\"/home/zgao/R/GEO_count/pan_test2.csv\")\n",
    "test=pd.read_csv(\"/home/zgao/R/GEO_count/tissue_test2.csv\")\n",
    "test=pd.read_csv(\"/home/zgao/R/GEO_count/plasma_test2.csv\")\n",
    "test=pd.read_csv(\"/home/zgao/R/GEO_count/exosome_test2.csv\")\n",
    "test=pd.read_csv(\"/home/zgao/R/GEO_count/exosome_test2_CH.csv\")\n",
    "test=pd.read_csv(\"/home/zgao/R/GEO_count/exosome_test2_BC.csv\")\n",
    "#independent cohort\n",
    "test=pd.read_csv(\"/home/zgao/R/GEO_count/GSE62182_rf.csv\")\n",
    "#test=pd.read_csv(\"/home/zgao/R/GEO_count/GSE83527_rf.csv\")"
   ]
  },
  {
   "cell_type": "code",
   "execution_count": 22,
   "id": "69b15646",
   "metadata": {},
   "outputs": [],
   "source": [
    "test=test.drop(columns=['Unnamed: 0'])\n",
    "X_test=test.drop(columns=['group'])\n",
    "y_test=test['group']"
   ]
  },
  {
   "cell_type": "code",
   "execution_count": 23,
   "id": "075b687f",
   "metadata": {},
   "outputs": [
    {
     "data": {
      "text/plain": [
       "RandomForestClassifier(random_state=42)"
      ]
     },
     "execution_count": 23,
     "metadata": {},
     "output_type": "execute_result"
    }
   ],
   "source": [
    "rf_classifier_13 = RandomForestClassifier(random_state=42)\n",
    "rf_classifier_13.fit(X_train, y_train)"
   ]
  },
  {
   "cell_type": "code",
   "execution_count": 24,
   "id": "189e8a8d",
   "metadata": {},
   "outputs": [],
   "source": [
    "param_grid = {\n",
    "    'n_estimators': [50, 100, 200,300],\n",
    "    'max_features': ['sqrt', 2, 3, 4, 5],\n",
    "    'max_depth': [2, 3, 4, 5, None],\n",
    "    'min_samples_split': [2, 3, 4],\n",
    "   'min_samples_leaf': [1, 2, 3],\n",
    "    'bootstrap': [True, False]\n",
    "}"
   ]
  },
  {
   "cell_type": "code",
   "execution_count": 25,
   "id": "6c5a7b1c",
   "metadata": {},
   "outputs": [
    {
     "name": "stdout",
     "output_type": "stream",
     "text": [
      "Fitting 5 folds for each of 1800 candidates, totalling 9000 fits\n"
     ]
    },
    {
     "data": {
      "text/plain": [
       "GridSearchCV(cv=5, estimator=RandomForestClassifier(random_state=42), n_jobs=50,\n",
       "             param_grid={'bootstrap': [True, False],\n",
       "                         'max_depth': [2, 3, 4, 5, None],\n",
       "                         'max_features': ['sqrt', 2, 3, 4, 5],\n",
       "                         'min_samples_leaf': [1, 2, 3],\n",
       "                         'min_samples_split': [2, 3, 4],\n",
       "                         'n_estimators': [50, 100, 200, 300]},\n",
       "             verbose=2)"
      ]
     },
     "execution_count": 25,
     "metadata": {},
     "output_type": "execute_result"
    }
   ],
   "source": [
    "grid_search = GridSearchCV(estimator=rf_classifier, param_grid=param_grid,\n",
    "                           cv=5, n_jobs=50, verbose=2)\n",
    "grid_search.fit(X_train, y_train)"
   ]
  },
  {
   "cell_type": "code",
   "execution_count": 27,
   "id": "b15fc3f0",
   "metadata": {},
   "outputs": [
    {
     "name": "stdout",
     "output_type": "stream",
     "text": [
      "Best parameters found:  {'bootstrap': True, 'max_depth': None, 'max_features': 'sqrt', 'min_samples_leaf': 3, 'min_samples_split': 2, 'n_estimators': 50}\n"
     ]
    }
   ],
   "source": [
    "best_params = grid_search.best_params_\n",
    "best_params = {'bootstrap': True, 'max_depth': None, 'max_features': 'sqrt', 'min_samples_leaf': 3, 'min_samples_split': 2, 'n_estimators': 50}\n",
    "print(\"Best parameters found: \", best_params)"
   ]
  },
  {
   "cell_type": "code",
   "execution_count": 28,
   "id": "1c3e2c81",
   "metadata": {},
   "outputs": [
    {
     "data": {
      "text/plain": [
       "RandomForestClassifier(max_features='sqrt', min_samples_leaf=3, n_estimators=50,\n",
       "                       random_state=42)"
      ]
     },
     "execution_count": 28,
     "metadata": {},
     "output_type": "execute_result"
    }
   ],
   "source": [
    "best_rf_classifier = RandomForestClassifier(**best_params,random_state=42)\n",
    "best_rf_classifier.fit(X_train, y_train)"
   ]
  },
  {
   "cell_type": "code",
   "execution_count": 29,
   "id": "2b636c77",
   "metadata": {},
   "outputs": [
    {
     "name": "stdout",
     "output_type": "stream",
     "text": [
      "train set accuracy:  0.958128078817734\n",
      "Average CV accuracy:  0.7929485722941754\n",
      "Test set accuracy:  0.8928571428571429\n"
     ]
    }
   ],
   "source": [
    "accuracy_train = best_rf_classifier.score(X_train, y_train)\n",
    "print(\"train set accuracy: \", accuracy_train)\n",
    "\n",
    "average_cv_accuracy = grid_search.best_score_\n",
    "print(\"Average CV accuracy: \", average_cv_accuracy)\n",
    "\n",
    "accuracy_test = best_rf_classifier.score(X_test, y_test)\n",
    "print(\"Test set accuracy: \", accuracy_test)"
   ]
  },
  {
   "cell_type": "code",
   "execution_count": 31,
   "id": "732e03db",
   "metadata": {},
   "outputs": [],
   "source": [
    "def evaluate_performance_youden(y_true, y_proba, pos_label='tumor'):\n",
    "    # ROC curve\n",
    "    fpr_youden, tpr_youden, thresholds = roc_curve(y_true, y_proba, pos_label=pos_label)\n",
    "    auc_value = roc_auc_score(y_true, y_proba)\n",
    "\n",
    "    print(\"AUC:\", auc_value)\n",
    "\n",
    "    # Youden's J statistic\n",
    "    youden_J = tpr_youden - fpr_youden\n",
    "    optimal_idx_youden = np.argmax(youden_J)\n",
    "    optimal_threshold_youden = thresholds[optimal_idx_youden]\n",
    "    best_youden_J = youden_J[optimal_idx_youden]\n",
    "\n",
    "    print(f\"Best Threshold (Youden): {optimal_threshold_youden}\")\n",
    "    print(f\"Best Youden's J: {best_youden_J}\")\n",
    "\n",
    "    # Predict based on optimal threshold\n",
    "    y_pred_labels = np.where(y_proba >= optimal_threshold_youden, pos_label, 'normal')\n",
    "\n",
    "    # Confusion matrix\n",
    "    tn, fp, fn, tp = confusion_matrix(y_true, y_pred_labels, labels=[\"normal\", pos_label]).ravel()\n",
    "\n",
    "    # Calculate metrics\n",
    "    sensitivity_youden = tp / (tp + fn) if (tp + fn) != 0 else 0  # Recall\n",
    "    specificity_youden = tn / (tn + fp) if (tn + fp) != 0 else 0\n",
    "\n",
    "    print(f\"Sensitivity (Recall): {sensitivity_youden}\")\n",
    "    print(f\"Specificity: {specificity_youden}\")\n",
    "\n",
    "    return {\n",
    "        'auc': auc_value,\n",
    "        'optimal_threshold': optimal_threshold_youden,\n",
    "        'best_youden_J': best_youden_J,\n",
    "        'sensitivity': sensitivity_youden,\n",
    "        'specificity': specificity_youden,\n",
    "        'y_pred_labels': y_pred_labels\n",
    "    }"
   ]
  },
  {
   "cell_type": "code",
   "execution_count": 32,
   "id": "65311139",
   "metadata": {},
   "outputs": [
    {
     "name": "stdout",
     "output_type": "stream",
     "text": [
      "AUC: 0.9956791135298168\n",
      "Best Threshold (Youden): 0.5624285714285713\n",
      "Best Youden's J: 0.9399796741304134\n",
      "Sensitivity (Recall): 0.9806576402321083\n",
      "Specificity: 0.9593220338983051\n",
      "{'auc': 0.9956791135298168, 'optimal_threshold': 0.5624285714285713, 'best_youden_J': 0.9399796741304134, 'sensitivity': 0.9806576402321083, 'specificity': 0.9593220338983051, 'y_pred_labels': array(['tumor', 'tumor', 'normal', 'tumor', 'normal', 'tumor', 'tumor',\n",
      "       'normal', 'tumor', 'normal', 'tumor', 'tumor', 'normal', 'tumor',\n",
      "       'tumor', 'tumor', 'tumor', 'tumor', 'tumor', 'normal', 'tumor',\n",
      "       'normal', 'tumor', 'normal', 'tumor', 'tumor', 'tumor', 'tumor',\n",
      "       'normal', 'tumor', 'tumor', 'tumor', 'normal', 'tumor', 'tumor',\n",
      "       'tumor', 'tumor', 'normal', 'tumor', 'tumor', 'normal', 'tumor',\n",
      "       'tumor', 'normal', 'normal', 'normal', 'tumor', 'tumor', 'tumor',\n",
      "       'normal', 'tumor', 'tumor', 'tumor', 'normal', 'tumor', 'tumor',\n",
      "       'normal', 'tumor', 'normal', 'normal', 'normal', 'normal',\n",
      "       'normal', 'normal', 'tumor', 'normal', 'normal', 'tumor', 'tumor',\n",
      "       'tumor', 'tumor', 'tumor', 'tumor', 'tumor', 'tumor', 'tumor',\n",
      "       'tumor', 'tumor', 'tumor', 'normal', 'tumor', 'tumor', 'tumor',\n",
      "       'normal', 'tumor', 'tumor', 'normal', 'normal', 'normal', 'normal',\n",
      "       'normal', 'tumor', 'tumor', 'normal', 'tumor', 'tumor', 'tumor',\n",
      "       'tumor', 'tumor', 'tumor', 'tumor', 'tumor', 'normal', 'normal',\n",
      "       'normal', 'tumor', 'tumor', 'normal', 'tumor', 'normal', 'tumor',\n",
      "       'tumor', 'tumor', 'tumor', 'tumor', 'tumor', 'tumor', 'tumor',\n",
      "       'tumor', 'tumor', 'tumor', 'normal', 'tumor', 'normal', 'normal',\n",
      "       'tumor', 'tumor', 'tumor', 'tumor', 'normal', 'normal', 'tumor',\n",
      "       'normal', 'tumor', 'normal', 'tumor', 'tumor', 'tumor', 'tumor',\n",
      "       'tumor', 'tumor', 'tumor', 'normal', 'tumor', 'tumor', 'tumor',\n",
      "       'tumor', 'tumor', 'tumor', 'normal', 'tumor', 'tumor', 'normal',\n",
      "       'tumor', 'tumor', 'tumor', 'tumor', 'tumor', 'tumor', 'tumor',\n",
      "       'tumor', 'tumor', 'tumor', 'normal', 'tumor', 'normal', 'tumor',\n",
      "       'normal', 'tumor', 'tumor', 'tumor', 'tumor', 'normal', 'tumor',\n",
      "       'tumor', 'normal', 'tumor', 'tumor', 'tumor', 'tumor', 'tumor',\n",
      "       'normal', 'tumor', 'tumor', 'tumor', 'tumor', 'tumor', 'tumor',\n",
      "       'tumor', 'tumor', 'tumor', 'tumor', 'normal', 'tumor', 'tumor',\n",
      "       'tumor', 'tumor', 'tumor', 'tumor', 'normal', 'tumor', 'normal',\n",
      "       'normal', 'normal', 'tumor', 'tumor', 'tumor', 'normal', 'tumor',\n",
      "       'tumor', 'normal', 'tumor', 'tumor', 'tumor', 'tumor', 'tumor',\n",
      "       'tumor', 'tumor', 'tumor', 'normal', 'tumor', 'tumor', 'normal',\n",
      "       'tumor', 'tumor', 'normal', 'tumor', 'tumor', 'tumor', 'tumor',\n",
      "       'tumor', 'tumor', 'tumor', 'tumor', 'normal', 'tumor', 'normal',\n",
      "       'tumor', 'tumor', 'tumor', 'tumor', 'tumor', 'tumor', 'tumor',\n",
      "       'tumor', 'tumor', 'tumor', 'tumor', 'tumor', 'tumor', 'tumor',\n",
      "       'normal', 'normal', 'tumor', 'normal', 'tumor', 'normal', 'tumor',\n",
      "       'tumor', 'tumor', 'normal', 'normal', 'tumor', 'tumor', 'tumor',\n",
      "       'tumor', 'tumor', 'tumor', 'tumor', 'normal', 'tumor', 'tumor',\n",
      "       'tumor', 'tumor', 'tumor', 'tumor', 'tumor', 'normal', 'tumor',\n",
      "       'tumor', 'tumor', 'tumor', 'tumor', 'tumor', 'tumor', 'tumor',\n",
      "       'tumor', 'tumor', 'normal', 'tumor', 'tumor', 'normal', 'tumor',\n",
      "       'tumor', 'tumor', 'tumor', 'tumor', 'tumor', 'normal', 'tumor',\n",
      "       'tumor', 'normal', 'tumor', 'tumor', 'normal', 'normal', 'tumor',\n",
      "       'normal', 'tumor', 'tumor', 'tumor', 'tumor', 'normal', 'tumor',\n",
      "       'tumor', 'normal', 'normal', 'tumor', 'tumor', 'tumor', 'tumor',\n",
      "       'tumor', 'tumor', 'tumor', 'tumor', 'tumor', 'tumor', 'tumor',\n",
      "       'tumor', 'tumor', 'normal', 'normal', 'tumor', 'tumor', 'tumor',\n",
      "       'tumor', 'normal', 'tumor', 'tumor', 'normal', 'tumor', 'tumor',\n",
      "       'tumor', 'normal', 'normal', 'tumor', 'tumor', 'normal', 'tumor',\n",
      "       'tumor', 'normal', 'tumor', 'normal', 'tumor', 'tumor', 'normal',\n",
      "       'tumor', 'tumor', 'tumor', 'tumor', 'tumor', 'tumor', 'normal',\n",
      "       'normal', 'tumor', 'tumor', 'tumor', 'normal', 'tumor', 'tumor',\n",
      "       'tumor', 'normal', 'tumor', 'tumor', 'tumor', 'tumor', 'tumor',\n",
      "       'tumor', 'tumor', 'tumor', 'tumor', 'tumor', 'tumor', 'tumor',\n",
      "       'tumor', 'tumor', 'tumor', 'tumor', 'tumor', 'normal', 'normal',\n",
      "       'normal', 'normal', 'normal', 'tumor', 'tumor', 'normal', 'normal',\n",
      "       'tumor', 'normal', 'tumor', 'tumor', 'tumor', 'normal', 'tumor',\n",
      "       'tumor', 'tumor', 'normal', 'normal', 'normal', 'tumor', 'tumor',\n",
      "       'tumor', 'normal', 'normal', 'tumor', 'tumor', 'tumor', 'normal',\n",
      "       'tumor', 'tumor', 'tumor', 'tumor', 'normal', 'normal', 'tumor',\n",
      "       'normal', 'tumor', 'tumor', 'tumor', 'normal', 'tumor', 'tumor',\n",
      "       'tumor', 'normal', 'tumor', 'tumor', 'tumor', 'normal', 'normal',\n",
      "       'tumor', 'normal', 'normal', 'tumor', 'tumor', 'tumor', 'tumor',\n",
      "       'tumor', 'tumor', 'tumor', 'tumor', 'tumor', 'normal', 'tumor',\n",
      "       'normal', 'tumor', 'tumor', 'normal', 'tumor', 'tumor', 'tumor',\n",
      "       'normal', 'tumor', 'normal', 'tumor', 'tumor', 'tumor', 'normal',\n",
      "       'tumor', 'tumor', 'tumor', 'tumor', 'normal', 'tumor', 'tumor',\n",
      "       'tumor', 'tumor', 'tumor', 'tumor', 'normal', 'tumor', 'normal',\n",
      "       'tumor', 'tumor', 'normal', 'normal', 'tumor', 'tumor', 'tumor',\n",
      "       'normal', 'normal', 'tumor', 'normal', 'tumor', 'tumor', 'tumor',\n",
      "       'tumor', 'tumor', 'tumor', 'tumor', 'normal', 'normal', 'tumor',\n",
      "       'tumor', 'tumor', 'tumor', 'tumor', 'tumor', 'tumor', 'tumor',\n",
      "       'tumor', 'normal', 'normal', 'normal', 'tumor', 'tumor', 'normal',\n",
      "       'normal', 'normal', 'normal', 'tumor', 'tumor', 'tumor', 'normal',\n",
      "       'tumor', 'normal', 'tumor', 'normal', 'tumor', 'tumor', 'normal',\n",
      "       'tumor', 'normal', 'tumor', 'normal', 'tumor', 'normal', 'normal',\n",
      "       'normal', 'tumor', 'tumor', 'tumor', 'tumor', 'tumor', 'normal',\n",
      "       'normal', 'tumor', 'normal', 'tumor', 'normal', 'tumor', 'normal',\n",
      "       'normal', 'normal', 'tumor', 'normal', 'normal', 'tumor', 'normal',\n",
      "       'normal', 'normal', 'tumor', 'tumor', 'normal', 'normal', 'normal',\n",
      "       'normal', 'normal', 'normal', 'tumor', 'normal', 'normal',\n",
      "       'normal', 'tumor', 'normal', 'normal', 'normal', 'normal', 'tumor',\n",
      "       'normal', 'tumor', 'normal', 'normal', 'tumor', 'tumor', 'normal',\n",
      "       'normal', 'tumor', 'normal', 'tumor', 'normal', 'tumor', 'tumor',\n",
      "       'tumor', 'normal', 'tumor', 'tumor', 'normal', 'normal', 'tumor',\n",
      "       'tumor', 'normal', 'tumor', 'normal', 'normal', 'normal', 'tumor',\n",
      "       'tumor', 'normal', 'normal', 'normal', 'tumor', 'tumor', 'tumor',\n",
      "       'normal', 'normal', 'normal', 'normal', 'normal', 'tumor', 'tumor',\n",
      "       'normal', 'tumor', 'tumor', 'tumor', 'normal', 'normal', 'normal',\n",
      "       'normal', 'normal', 'normal', 'normal', 'tumor', 'tumor', 'normal',\n",
      "       'normal', 'normal', 'tumor', 'tumor', 'tumor', 'normal', 'normal',\n",
      "       'normal', 'normal', 'normal', 'normal', 'tumor', 'tumor', 'tumor',\n",
      "       'normal', 'tumor', 'normal', 'tumor', 'tumor', 'normal', 'normal',\n",
      "       'normal', 'normal', 'normal', 'normal', 'tumor', 'tumor', 'tumor',\n",
      "       'tumor', 'normal', 'normal', 'normal', 'normal', 'tumor', 'tumor',\n",
      "       'normal', 'normal', 'normal', 'tumor', 'normal', 'normal', 'tumor',\n",
      "       'normal', 'tumor', 'normal', 'normal', 'normal', 'tumor', 'tumor',\n",
      "       'tumor', 'tumor', 'normal', 'normal', 'tumor', 'tumor', 'tumor',\n",
      "       'tumor', 'normal', 'tumor', 'tumor', 'normal', 'normal', 'tumor',\n",
      "       'normal', 'normal', 'normal', 'normal', 'normal', 'normal',\n",
      "       'tumor', 'tumor', 'tumor', 'normal', 'tumor', 'tumor', 'normal',\n",
      "       'normal', 'tumor', 'normal', 'tumor', 'tumor', 'normal', 'normal',\n",
      "       'tumor', 'tumor', 'tumor', 'tumor', 'tumor', 'tumor', 'normal',\n",
      "       'tumor', 'tumor', 'tumor', 'tumor', 'tumor', 'normal', 'normal',\n",
      "       'tumor', 'tumor', 'tumor', 'tumor', 'tumor', 'tumor', 'tumor',\n",
      "       'tumor', 'tumor', 'normal', 'tumor', 'tumor', 'normal', 'normal',\n",
      "       'tumor', 'tumor', 'tumor', 'normal', 'tumor', 'tumor', 'tumor',\n",
      "       'normal', 'tumor', 'tumor', 'normal', 'tumor', 'normal', 'tumor',\n",
      "       'normal', 'tumor', 'normal', 'normal', 'tumor', 'tumor', 'tumor',\n",
      "       'tumor', 'tumor', 'normal', 'normal', 'normal', 'normal', 'tumor',\n",
      "       'tumor', 'normal', 'normal', 'tumor', 'tumor', 'normal', 'tumor',\n",
      "       'normal', 'tumor', 'tumor', 'tumor', 'tumor', 'normal', 'tumor',\n",
      "       'normal', 'normal', 'normal', 'tumor', 'normal', 'normal',\n",
      "       'normal', 'tumor', 'tumor', 'tumor', 'normal', 'normal', 'tumor',\n",
      "       'tumor', 'tumor', 'tumor', 'tumor', 'normal', 'normal', 'normal',\n",
      "       'normal', 'normal', 'tumor', 'normal'], dtype='<U6')}\n",
      "AUC: 0.9210884353741496\n",
      "Best Threshold (Youden): 0.5276904761904763\n",
      "Best Youden's J: 0.8285714285714285\n",
      "Sensitivity (Recall): 0.9714285714285714\n",
      "Specificity: 0.8571428571428571\n",
      "{'auc': 0.9210884353741496, 'optimal_threshold': 0.5276904761904763, 'best_youden_J': 0.8285714285714285, 'sensitivity': 0.9714285714285714, 'specificity': 0.8571428571428571, 'y_pred_labels': array(['tumor', 'tumor', 'tumor', 'tumor', 'tumor', 'tumor', 'tumor',\n",
      "       'tumor', 'tumor', 'tumor', 'tumor', 'tumor', 'tumor', 'tumor',\n",
      "       'tumor', 'tumor', 'tumor', 'tumor', 'tumor', 'tumor', 'tumor',\n",
      "       'tumor', 'tumor', 'tumor', 'tumor', 'tumor', 'tumor', 'tumor',\n",
      "       'tumor', 'tumor', 'tumor', 'normal', 'tumor', 'tumor', 'tumor',\n",
      "       'normal', 'normal', 'normal', 'normal', 'normal', 'normal',\n",
      "       'normal', 'normal', 'tumor', 'normal', 'tumor', 'normal', 'tumor',\n",
      "       'normal', 'normal', 'normal', 'normal', 'normal', 'normal',\n",
      "       'normal', 'normal'], dtype='<U6')}\n"
     ]
    }
   ],
   "source": [
    "y_pred_proba_train = best_rf_classifier.predict_proba(X_train)[:, 1]\n",
    "y_pred_proba_test = best_rf_classifier.predict_proba(X_test)[:, 1]\n",
    "\n",
    "print(evaluate_performance_youden(y_train, y_pred_proba_train))\n",
    "print(evaluate_performance_youden(y_test, y_pred_proba_test))"
   ]
  },
  {
   "cell_type": "code",
   "execution_count": 33,
   "id": "2ebedc90",
   "metadata": {},
   "outputs": [
    {
     "name": "stdout",
     "output_type": "stream",
     "text": [
      "F1-Score_train: 0.9678030303030303\n",
      "Precision_train: 0.948051948051948\n",
      "Recall_train: 0.988394584139265\n",
      "F1-Score_test: 0.9189189189189189\n",
      "Precision_test: 0.8717948717948718\n",
      "Recall_test: 0.9714285714285714\n"
     ]
    }
   ],
   "source": [
    "#threshold at 0.5\n",
    "y_pred_train=best_rf_classifier.predict(X_train)\n",
    "f1_train=f1_score(y_train,y_pred_train,pos_label='tumor')\n",
    "precision_train_score = precision_score(y_train, y_pred_train, pos_label='tumor')\n",
    "recall_train_score = recall_score(y_train, y_pred_train, pos_label='tumor')\n",
    "print(f\"F1-Score_train: {f1_train}\")\n",
    "print(f\"Precision_train: {precision_train_score}\")\n",
    "print(f\"Recall_train: {recall_train_score}\")\n",
    "\n",
    "y_pred_test=best_rf_classifier.predict(X_test)\n",
    "f1_test=f1_score(y_test,y_pred_test,pos_label='tumor')\n",
    "precision_test_score = precision_score(y_test, y_pred_test, pos_label='tumor')\n",
    "recall_test_score = recall_score(y_test, y_pred_test, pos_label='tumor')\n",
    "print(f\"F1-Score_test: {f1_test}\")\n",
    "print(f\"Precision_test: {precision_test_score}\")\n",
    "print(f\"Recall_test: {recall_test_score}\")"
   ]
  },
  {
   "cell_type": "code",
   "execution_count": 34,
   "id": "fcaaeee1",
   "metadata": {},
   "outputs": [],
   "source": [
    "def evaluate_performance(y_true, y_proba, pos_label='tumor'):\n",
    "    # Compute precision, recall, and optimal thresholds\n",
    "    precision, recall, thresholds = precision_recall_curve(y_true, y_proba, pos_label=pos_label)\n",
    "    \n",
    "    # Calculate F1 scores\n",
    "    f1_scores = 2 * (precision * recall) / (precision + recall)\n",
    "    f1_scores = np.nan_to_num(f1_scores)  # Handle division by zero\n",
    "    \n",
    "    # Find optimal threshold\n",
    "    optimal_idx = np.argmax(f1_scores)\n",
    "    optimal_threshold = thresholds[optimal_idx]\n",
    "    best_f1_score = f1_scores[optimal_idx]\n",
    "    \n",
    "    # Apply threshold to get predicted labels\n",
    "    y_pred_labels = np.where(y_proba >= optimal_threshold, pos_label, 'normal')\n",
    "    \n",
    "    # Compute confusion matrix\n",
    "    tn, fp, fn, tp = confusion_matrix(y_true, y_pred_labels, labels=['normal', pos_label]).ravel()\n",
    "    \n",
    "    # Compute metrics\n",
    "    ppv = tp / (tp + fp) if (tp + fp) != 0 else 0\n",
    "    npv = tn / (tn + fn) if (tn + fn) != 0 else 0\n",
    "    sensitivity = tp / (tp + fn) if (tp + fn) != 0 else 0\n",
    "    specificity = tn / (tn + fp) if (tn + fp) != 0 else 0\n",
    "    auprc = auc(recall, precision)\n",
    "    \n",
    "    # Print results\n",
    "    print(\"Optimal threshold:\", optimal_threshold)\n",
    "    print(\"Best F1 score:\", best_f1_score)\n",
    "    print(\"AUPRC:\", auprc)\n",
    "    print(f\"PPV/Precision: {ppv}\")\n",
    "    print(f\"NPV: {npv}\")\n",
    "    print(f\"Sensitivity/Recall: {sensitivity}\")\n",
    "    print(f\"Specificity: {specificity}\")\n",
    "    \n",
    "    return {\n",
    "        'optimal_threshold': optimal_threshold,\n",
    "        'best_f1_score': best_f1_score,\n",
    "        'auprc': auprc,\n",
    "        'ppv': ppv,\n",
    "        'npv': npv,\n",
    "        'sensitivity': sensitivity,\n",
    "        'specificity': specificity,\n",
    "        'y_pred_labels': y_pred_labels\n",
    "    }\n"
   ]
  },
  {
   "cell_type": "code",
   "execution_count": 35,
   "id": "dfab3845",
   "metadata": {},
   "outputs": [
    {
     "name": "stdout",
     "output_type": "stream",
     "text": [
      "Optimal threshold: 0.5624285714285713\n",
      "Best F1 score: 0.9787644787644788\n",
      "AUPRC: 0.9976260120765177\n",
      "PPV/Precision: 0.976878612716763\n",
      "NPV: 0.9658703071672355\n",
      "Sensitivity/Recall: 0.9806576402321083\n",
      "Specificity: 0.9593220338983051\n",
      "{'optimal_threshold': 0.5624285714285713, 'best_f1_score': 0.9787644787644788, 'auprc': 0.9976260120765177, 'ppv': 0.976878612716763, 'npv': 0.9658703071672355, 'sensitivity': 0.9806576402321083, 'specificity': 0.9593220338983051, 'y_pred_labels': array(['tumor', 'tumor', 'normal', 'tumor', 'normal', 'tumor', 'tumor',\n",
      "       'normal', 'tumor', 'normal', 'tumor', 'tumor', 'normal', 'tumor',\n",
      "       'tumor', 'tumor', 'tumor', 'tumor', 'tumor', 'normal', 'tumor',\n",
      "       'normal', 'tumor', 'normal', 'tumor', 'tumor', 'tumor', 'tumor',\n",
      "       'normal', 'tumor', 'tumor', 'tumor', 'normal', 'tumor', 'tumor',\n",
      "       'tumor', 'tumor', 'normal', 'tumor', 'tumor', 'normal', 'tumor',\n",
      "       'tumor', 'normal', 'normal', 'normal', 'tumor', 'tumor', 'tumor',\n",
      "       'normal', 'tumor', 'tumor', 'tumor', 'normal', 'tumor', 'tumor',\n",
      "       'normal', 'tumor', 'normal', 'normal', 'normal', 'normal',\n",
      "       'normal', 'normal', 'tumor', 'normal', 'normal', 'tumor', 'tumor',\n",
      "       'tumor', 'tumor', 'tumor', 'tumor', 'tumor', 'tumor', 'tumor',\n",
      "       'tumor', 'tumor', 'tumor', 'normal', 'tumor', 'tumor', 'tumor',\n",
      "       'normal', 'tumor', 'tumor', 'normal', 'normal', 'normal', 'normal',\n",
      "       'normal', 'tumor', 'tumor', 'normal', 'tumor', 'tumor', 'tumor',\n",
      "       'tumor', 'tumor', 'tumor', 'tumor', 'tumor', 'normal', 'normal',\n",
      "       'normal', 'tumor', 'tumor', 'normal', 'tumor', 'normal', 'tumor',\n",
      "       'tumor', 'tumor', 'tumor', 'tumor', 'tumor', 'tumor', 'tumor',\n",
      "       'tumor', 'tumor', 'tumor', 'normal', 'tumor', 'normal', 'normal',\n",
      "       'tumor', 'tumor', 'tumor', 'tumor', 'normal', 'normal', 'tumor',\n",
      "       'normal', 'tumor', 'normal', 'tumor', 'tumor', 'tumor', 'tumor',\n",
      "       'tumor', 'tumor', 'tumor', 'normal', 'tumor', 'tumor', 'tumor',\n",
      "       'tumor', 'tumor', 'tumor', 'normal', 'tumor', 'tumor', 'normal',\n",
      "       'tumor', 'tumor', 'tumor', 'tumor', 'tumor', 'tumor', 'tumor',\n",
      "       'tumor', 'tumor', 'tumor', 'normal', 'tumor', 'normal', 'tumor',\n",
      "       'normal', 'tumor', 'tumor', 'tumor', 'tumor', 'normal', 'tumor',\n",
      "       'tumor', 'normal', 'tumor', 'tumor', 'tumor', 'tumor', 'tumor',\n",
      "       'normal', 'tumor', 'tumor', 'tumor', 'tumor', 'tumor', 'tumor',\n",
      "       'tumor', 'tumor', 'tumor', 'tumor', 'normal', 'tumor', 'tumor',\n",
      "       'tumor', 'tumor', 'tumor', 'tumor', 'normal', 'tumor', 'normal',\n",
      "       'normal', 'normal', 'tumor', 'tumor', 'tumor', 'normal', 'tumor',\n",
      "       'tumor', 'normal', 'tumor', 'tumor', 'tumor', 'tumor', 'tumor',\n",
      "       'tumor', 'tumor', 'tumor', 'normal', 'tumor', 'tumor', 'normal',\n",
      "       'tumor', 'tumor', 'normal', 'tumor', 'tumor', 'tumor', 'tumor',\n",
      "       'tumor', 'tumor', 'tumor', 'tumor', 'normal', 'tumor', 'normal',\n",
      "       'tumor', 'tumor', 'tumor', 'tumor', 'tumor', 'tumor', 'tumor',\n",
      "       'tumor', 'tumor', 'tumor', 'tumor', 'tumor', 'tumor', 'tumor',\n",
      "       'normal', 'normal', 'tumor', 'normal', 'tumor', 'normal', 'tumor',\n",
      "       'tumor', 'tumor', 'normal', 'normal', 'tumor', 'tumor', 'tumor',\n",
      "       'tumor', 'tumor', 'tumor', 'tumor', 'normal', 'tumor', 'tumor',\n",
      "       'tumor', 'tumor', 'tumor', 'tumor', 'tumor', 'normal', 'tumor',\n",
      "       'tumor', 'tumor', 'tumor', 'tumor', 'tumor', 'tumor', 'tumor',\n",
      "       'tumor', 'tumor', 'normal', 'tumor', 'tumor', 'normal', 'tumor',\n",
      "       'tumor', 'tumor', 'tumor', 'tumor', 'tumor', 'normal', 'tumor',\n",
      "       'tumor', 'normal', 'tumor', 'tumor', 'normal', 'normal', 'tumor',\n",
      "       'normal', 'tumor', 'tumor', 'tumor', 'tumor', 'normal', 'tumor',\n",
      "       'tumor', 'normal', 'normal', 'tumor', 'tumor', 'tumor', 'tumor',\n",
      "       'tumor', 'tumor', 'tumor', 'tumor', 'tumor', 'tumor', 'tumor',\n",
      "       'tumor', 'tumor', 'normal', 'normal', 'tumor', 'tumor', 'tumor',\n",
      "       'tumor', 'normal', 'tumor', 'tumor', 'normal', 'tumor', 'tumor',\n",
      "       'tumor', 'normal', 'normal', 'tumor', 'tumor', 'normal', 'tumor',\n",
      "       'tumor', 'normal', 'tumor', 'normal', 'tumor', 'tumor', 'normal',\n",
      "       'tumor', 'tumor', 'tumor', 'tumor', 'tumor', 'tumor', 'normal',\n",
      "       'normal', 'tumor', 'tumor', 'tumor', 'normal', 'tumor', 'tumor',\n",
      "       'tumor', 'normal', 'tumor', 'tumor', 'tumor', 'tumor', 'tumor',\n",
      "       'tumor', 'tumor', 'tumor', 'tumor', 'tumor', 'tumor', 'tumor',\n",
      "       'tumor', 'tumor', 'tumor', 'tumor', 'tumor', 'normal', 'normal',\n",
      "       'normal', 'normal', 'normal', 'tumor', 'tumor', 'normal', 'normal',\n",
      "       'tumor', 'normal', 'tumor', 'tumor', 'tumor', 'normal', 'tumor',\n",
      "       'tumor', 'tumor', 'normal', 'normal', 'normal', 'tumor', 'tumor',\n",
      "       'tumor', 'normal', 'normal', 'tumor', 'tumor', 'tumor', 'normal',\n",
      "       'tumor', 'tumor', 'tumor', 'tumor', 'normal', 'normal', 'tumor',\n",
      "       'normal', 'tumor', 'tumor', 'tumor', 'normal', 'tumor', 'tumor',\n",
      "       'tumor', 'normal', 'tumor', 'tumor', 'tumor', 'normal', 'normal',\n",
      "       'tumor', 'normal', 'normal', 'tumor', 'tumor', 'tumor', 'tumor',\n",
      "       'tumor', 'tumor', 'tumor', 'tumor', 'tumor', 'normal', 'tumor',\n",
      "       'normal', 'tumor', 'tumor', 'normal', 'tumor', 'tumor', 'tumor',\n",
      "       'normal', 'tumor', 'normal', 'tumor', 'tumor', 'tumor', 'normal',\n",
      "       'tumor', 'tumor', 'tumor', 'tumor', 'normal', 'tumor', 'tumor',\n",
      "       'tumor', 'tumor', 'tumor', 'tumor', 'normal', 'tumor', 'normal',\n",
      "       'tumor', 'tumor', 'normal', 'normal', 'tumor', 'tumor', 'tumor',\n",
      "       'normal', 'normal', 'tumor', 'normal', 'tumor', 'tumor', 'tumor',\n",
      "       'tumor', 'tumor', 'tumor', 'tumor', 'normal', 'normal', 'tumor',\n",
      "       'tumor', 'tumor', 'tumor', 'tumor', 'tumor', 'tumor', 'tumor',\n",
      "       'tumor', 'normal', 'normal', 'normal', 'tumor', 'tumor', 'normal',\n",
      "       'normal', 'normal', 'normal', 'tumor', 'tumor', 'tumor', 'normal',\n",
      "       'tumor', 'normal', 'tumor', 'normal', 'tumor', 'tumor', 'normal',\n",
      "       'tumor', 'normal', 'tumor', 'normal', 'tumor', 'normal', 'normal',\n",
      "       'normal', 'tumor', 'tumor', 'tumor', 'tumor', 'tumor', 'normal',\n",
      "       'normal', 'tumor', 'normal', 'tumor', 'normal', 'tumor', 'normal',\n",
      "       'normal', 'normal', 'tumor', 'normal', 'normal', 'tumor', 'normal',\n",
      "       'normal', 'normal', 'tumor', 'tumor', 'normal', 'normal', 'normal',\n",
      "       'normal', 'normal', 'normal', 'tumor', 'normal', 'normal',\n",
      "       'normal', 'tumor', 'normal', 'normal', 'normal', 'normal', 'tumor',\n",
      "       'normal', 'tumor', 'normal', 'normal', 'tumor', 'tumor', 'normal',\n",
      "       'normal', 'tumor', 'normal', 'tumor', 'normal', 'tumor', 'tumor',\n",
      "       'tumor', 'normal', 'tumor', 'tumor', 'normal', 'normal', 'tumor',\n",
      "       'tumor', 'normal', 'tumor', 'normal', 'normal', 'normal', 'tumor',\n",
      "       'tumor', 'normal', 'normal', 'normal', 'tumor', 'tumor', 'tumor',\n",
      "       'normal', 'normal', 'normal', 'normal', 'normal', 'tumor', 'tumor',\n",
      "       'normal', 'tumor', 'tumor', 'tumor', 'normal', 'normal', 'normal',\n",
      "       'normal', 'normal', 'normal', 'normal', 'tumor', 'tumor', 'normal',\n",
      "       'normal', 'normal', 'tumor', 'tumor', 'tumor', 'normal', 'normal',\n",
      "       'normal', 'normal', 'normal', 'normal', 'tumor', 'tumor', 'tumor',\n",
      "       'normal', 'tumor', 'normal', 'tumor', 'tumor', 'normal', 'normal',\n",
      "       'normal', 'normal', 'normal', 'normal', 'tumor', 'tumor', 'tumor',\n",
      "       'tumor', 'normal', 'normal', 'normal', 'normal', 'tumor', 'tumor',\n",
      "       'normal', 'normal', 'normal', 'tumor', 'normal', 'normal', 'tumor',\n",
      "       'normal', 'tumor', 'normal', 'normal', 'normal', 'tumor', 'tumor',\n",
      "       'tumor', 'tumor', 'normal', 'normal', 'tumor', 'tumor', 'tumor',\n",
      "       'tumor', 'normal', 'tumor', 'tumor', 'normal', 'normal', 'tumor',\n",
      "       'normal', 'normal', 'normal', 'normal', 'normal', 'normal',\n",
      "       'tumor', 'tumor', 'tumor', 'normal', 'tumor', 'tumor', 'normal',\n",
      "       'normal', 'tumor', 'normal', 'tumor', 'tumor', 'normal', 'normal',\n",
      "       'tumor', 'tumor', 'tumor', 'tumor', 'tumor', 'tumor', 'normal',\n",
      "       'tumor', 'tumor', 'tumor', 'tumor', 'tumor', 'normal', 'normal',\n",
      "       'tumor', 'tumor', 'tumor', 'tumor', 'tumor', 'tumor', 'tumor',\n",
      "       'tumor', 'tumor', 'normal', 'tumor', 'tumor', 'normal', 'normal',\n",
      "       'tumor', 'tumor', 'tumor', 'normal', 'tumor', 'tumor', 'tumor',\n",
      "       'normal', 'tumor', 'tumor', 'normal', 'tumor', 'normal', 'tumor',\n",
      "       'normal', 'tumor', 'normal', 'normal', 'tumor', 'tumor', 'tumor',\n",
      "       'tumor', 'tumor', 'normal', 'normal', 'normal', 'normal', 'tumor',\n",
      "       'tumor', 'normal', 'normal', 'tumor', 'tumor', 'normal', 'tumor',\n",
      "       'normal', 'tumor', 'tumor', 'tumor', 'tumor', 'normal', 'tumor',\n",
      "       'normal', 'normal', 'normal', 'tumor', 'normal', 'normal',\n",
      "       'normal', 'tumor', 'tumor', 'tumor', 'normal', 'normal', 'tumor',\n",
      "       'tumor', 'tumor', 'tumor', 'tumor', 'normal', 'normal', 'normal',\n",
      "       'normal', 'normal', 'tumor', 'normal'], dtype='<U6')}\n",
      "Optimal threshold: 0.5276904761904763\n",
      "Best F1 score: 0.9444444444444445\n",
      "AUPRC: 0.933513414249995\n",
      "PPV/Precision: 0.918918918918919\n",
      "NPV: 0.9473684210526315\n",
      "Sensitivity/Recall: 0.9714285714285714\n",
      "Specificity: 0.8571428571428571\n",
      "{'optimal_threshold': 0.5276904761904763, 'best_f1_score': 0.9444444444444445, 'auprc': 0.933513414249995, 'ppv': 0.918918918918919, 'npv': 0.9473684210526315, 'sensitivity': 0.9714285714285714, 'specificity': 0.8571428571428571, 'y_pred_labels': array(['tumor', 'tumor', 'tumor', 'tumor', 'tumor', 'tumor', 'tumor',\n",
      "       'tumor', 'tumor', 'tumor', 'tumor', 'tumor', 'tumor', 'tumor',\n",
      "       'tumor', 'tumor', 'tumor', 'tumor', 'tumor', 'tumor', 'tumor',\n",
      "       'tumor', 'tumor', 'tumor', 'tumor', 'tumor', 'tumor', 'tumor',\n",
      "       'tumor', 'tumor', 'tumor', 'normal', 'tumor', 'tumor', 'tumor',\n",
      "       'normal', 'normal', 'normal', 'normal', 'normal', 'normal',\n",
      "       'normal', 'normal', 'tumor', 'normal', 'tumor', 'normal', 'tumor',\n",
      "       'normal', 'normal', 'normal', 'normal', 'normal', 'normal',\n",
      "       'normal', 'normal'], dtype='<U6')}\n"
     ]
    }
   ],
   "source": [
    "print(evaluate_performance(y_train, y_pred_proba_train))\n",
    "print(evaluate_performance(y_test, y_pred_proba_test))"
   ]
  },
  {
   "cell_type": "code",
   "execution_count": 36,
   "id": "6e23c1ab",
   "metadata": {},
   "outputs": [
    {
     "data": {
      "image/png": "[encoded data removed]",
      "text/plain": [
       "<Figure size 360x360 with 1 Axes>"
      ]
     },
     "metadata": {
      "needs_background": "light"
     },
     "output_type": "display_data"
    }
   ],
   "source": [
    "#AUC curve\n",
    "# Assuming fpr_val, tpr_val, and auc_val contain the FPR, TPR, and AUC for the validation set\n",
    "fpr_train, tpr_train, thresholds_train = roc_curve(y_train, y_pred_proba_train, pos_label='tumor')\n",
    "fpr_test, tpr_test, thresholds_test = roc_curve(y_test, y_pred_proba_test, pos_label='tumor')\n",
    "auc_value_train = roc_auc_score(y_train, y_pred_proba_train)\n",
    "auc_value_test = roc_auc_score(y_test, y_pred_proba_test)\n",
    "\n",
    "plt.figure(figsize=(5, 5))\n",
    "\n",
    "# plot ROC curve for the train set\n",
    "plt.plot(fpr_train, tpr_train, label=f'Train Set AUC = {auc_value_train:.2f}')\n",
    "\n",
    "# Plot ROC curve for the test set\n",
    "plt.plot(fpr_test, tpr_test, label=f'Test Set AUC = {auc_value_test:.2f}')\n",
    "\n",
    "# Plot ROC curve for the validation set\n",
    "# plt.plot(fpr_val, tpr_val, label=f'Validation Set AUC = {auc_value_val:.2f}', linestyle='-.')  # You can change the linestyle as you like\n",
    "\n",
    "# Plot diagonal line\n",
    "plt.plot([0, 1], [0, 1], linestyle='--', color='gray')\n",
    "\n",
    "# Labels, title, and other settings\n",
    "plt.xlabel('1 - Specificity (False Positive Rate)', fontweight='bold')\n",
    "plt.ylabel('Sensitivity (True Positive Rate)', fontweight='bold')\n",
    "legend = plt.legend(loc='lower right')\n",
    "plt.grid(False)\n",
    "plt.show()"
   ]
  },
  {
   "cell_type": "code",
   "execution_count": 37,
   "id": "0531574c",
   "metadata": {},
   "outputs": [
    {
     "name": "stdout",
     "output_type": "stream",
     "text": [
      "auprc_train: 0.9976260120765177\n",
      "auprc_test: 0.933513414249995\n"
     ]
    },
    {
     "data": {
      "image/png": "[encoded data removed]",
      "text/plain": [
       "<Figure size 360x360 with 1 Axes>"
      ]
     },
     "metadata": {
      "needs_background": "light"
     },
     "output_type": "display_data"
    }
   ],
   "source": [
    "#precision-recall\n",
    "precision_train, recall_train, _ = precision_recall_curve(y_train, y_pred_proba_train,pos_label='tumor')\n",
    "precision_test, recall_test, _ = precision_recall_curve(y_test, y_pred_proba_test,pos_label='tumor')\n",
    "auprc_train = auc(recall_train, precision_train)\n",
    "print(\"auprc_train:\", auprc_train)\n",
    "auprc_test = auc(recall_test, precision_test)\n",
    "print(\"auprc_test:\", auprc_test)\n",
    "\n",
    "# precision_val, recall_val, _ = precision_recall_curve(y_val, y_pred_proba_val,pos_label='tumor')\n",
    "\n",
    "\n",
    "plt.figure(figsize=(5, 5))\n",
    "plt.plot(recall_train, precision_train, marker='.', label=f'Train Set AUCPRC = {auprc_train:.2f}', color='blue')\n",
    "\n",
    "# Plot for test set\n",
    "plt.plot(recall_test, precision_test, marker='.', label=f'Test Set AUCPRC = {auprc_test:.2f}', color='green')\n",
    "\n",
    "# Plot for validation set\n",
    "# plt.plot(recall_val, precision_val, marker='.', label='Validation', color='red')\n",
    "\n",
    "# Labeling the axes and setting the title\n",
    "plt.xlabel('Recall',fontweight='bold')\n",
    "plt.ylabel('Precision',fontweight='bold')\n",
    "#plt.title('Exosome Cohort benign vs cancer',fontweight='bold')\n",
    "\n",
    "# Display the legend\n",
    "plt.legend()\n",
    "# Show the plot\n",
    "plt.show()"
   ]
  },
  {
   "cell_type": "code",
   "execution_count": 38,
   "id": "e14325e4",
   "metadata": {},
   "outputs": [],
   "source": [
    "def compute_metrics_from_cm(cm):\n",
    "    # Extracting values from the confusion matrix\n",
    "    TN = cm[0, 0]\n",
    "    FP = cm[0, 1]\n",
    "    FN = cm[1, 0]\n",
    "    TP = cm[1, 1]\n",
    "\n",
    "    # Calculating Sensitivity and Specificity\n",
    "    sensitivity = TP / (TP + FN)\n",
    "    specificity = TN / (TN + FP)\n",
    "    \n",
    "\n",
    "    return sensitivity, specificity"
   ]
  },
  {
   "cell_type": "code",
   "execution_count": 39,
   "id": "edf3c7f4",
   "metadata": {},
   "outputs": [],
   "source": [
    "#p is the optimal value\n",
    "y_pred_train_labels = [\"tumor\" if p >= 0.56 else \"normal\" for p in y_pred_proba_train]\n",
    "y_pred_test_labels = [\"tumor\" if p >= 0.5276904761904763  else \"normal\" for p in y_pred_proba_test]"
   ]
  },
  {
   "cell_type": "code",
   "execution_count": 40,
   "id": "249acd33",
   "metadata": {},
   "outputs": [
    {
     "name": "stdout",
     "output_type": "stream",
     "text": [
      "Confusion Matrix:\n",
      "[[18  3]\n",
      " [ 1 34]]\n",
      "sensitivity_test, specificity_test:\n",
      "0.9714285714285714 0.8571428571428571\n",
      "sensitivity_train, specificity_train:\n",
      "0.9806576402321083 0.9491525423728814\n"
     ]
    }
   ],
   "source": [
    "cm_test = confusion_matrix(y_test, y_pred_test_labels)\n",
    "print(\"Confusion Matrix:\")\n",
    "print(cm_test)\n",
    "sensitivity_test, specificity_test = compute_metrics_from_cm(cm_test)\n",
    "print(\"sensitivity_test, specificity_test:\")\n",
    "print(sensitivity_test, specificity_test)\n",
    "\n",
    "cm_train = confusion_matrix(y_train, y_pred_train_labels)\n",
    "sensitivity_train, specificity_train = compute_metrics_from_cm(cm_train)\n",
    "print(\"sensitivity_train, specificity_train:\")\n",
    "print(sensitivity_train, specificity_train)"
   ]
  },
  {
   "cell_type": "code",
   "execution_count": 41,
   "id": "eed46da9",
   "metadata": {},
   "outputs": [],
   "source": [
    "import numpy as np\n",
    "import matplotlib.pyplot as plt\n",
    "from sklearn.metrics import confusion_matrix\n",
    "import itertools\n",
    "\n",
    "def plot_confusion_matrix(y_true, y_pred, classes=None, figsize=(7, 5), text_size=14):\n",
    "    cm = confusion_matrix(y_true, y_pred)\n",
    "    cm_norm = cm.astype('float') / cm.sum(axis=1)[:, np.newaxis]\n",
    "    n_classes = cm.shape[0]\n",
    "\n",
    "    if classes is None:\n",
    "        classes = [str(i) for i in range(n_classes)]\n",
    "        \n",
    "    fig, ax = plt.subplots(figsize=figsize)\n",
    "    cax = ax.matshow(cm_norm, cmap=plt.cm.Blues)\n",
    "    fig.colorbar(cax)\n",
    "\n",
    "    ax.set(title='', \n",
    "           xlabel='Predicted Label', \n",
    "           ylabel='True Label', \n",
    "           xticks=np.arange(n_classes), \n",
    "           yticks=np.arange(n_classes), \n",
    "           xticklabels=classes, \n",
    "           yticklabels=classes)\n",
    "    ax.xaxis.set_label_position('bottom')\n",
    "    ax.xaxis.tick_bottom()\n",
    "\n",
    "    ax.yaxis.label.set_size(text_size)\n",
    "    ax.xaxis.label.set_size(text_size)\n",
    "    ax.title.set_size(text_size * 1.2)\n",
    "    \n",
    "    threshold = (cm_norm.max() + cm_norm.min()) / 2\n",
    "    for i, j in itertools.product(range(cm.shape[0]), range(cm.shape[1])):\n",
    "        plt.text(j, i, f'{cm[i, j]} ({cm_norm[i, j]*100:.1f}%)', \n",
    "                 horizontalalignment='center', \n",
    "                 color='white' if cm_norm[i, j] > threshold else 'black', \n",
    "                 size=text_size)\n",
    "    "
   ]
  },
  {
   "cell_type": "code",
   "execution_count": 42,
   "id": "19cdc2f7",
   "metadata": {},
   "outputs": [
    {
     "data": {
      "image/png": "[encoded data removed]",
      "text/plain": [
       "<Figure size 504x360 with 2 Axes>"
      ]
     },
     "metadata": {
      "needs_background": "light"
     },
     "output_type": "display_data"
    }
   ],
   "source": [
    "classes = ['non-cancer', 'cancer']\n",
    "plot_confusion_matrix(y_test, y_pred_test_labels, classes)\n",
    "plt.show()"
   ]
  },
  {
   "cell_type": "markdown",
   "id": "5aedb6a8",
   "metadata": {},
   "source": [
    "# Logistic regression"
   ]
  },
  {
   "cell_type": "code",
   "execution_count": 43,
   "id": "269d0b78",
   "metadata": {},
   "outputs": [],
   "source": [
    "piRNA_logit=pd.read_csv(\"/home/zgao/R/GEO_count/pan_train_new.csv\")\n",
    "piRNA_logit=piRNA_logit.set_index('Unnamed: 0')\n",
    "X_train = piRNA_logit.drop(columns=['group'])\n",
    "y_train = piRNA_logit['group']"
   ]
  },
  {
   "cell_type": "code",
   "execution_count": 44,
   "id": "5741bec8",
   "metadata": {},
   "outputs": [],
   "source": [
    "# test_logit=pd.read_csv(\"R/GEO_count/pan_test_new.csv\")\n",
    "# test_logit=pd.read_csv(\"R/GEO_count/tissue_test_new.csv\")\n",
    "# test_logit=pd.read_csv(\"R/GEO_count/plasma_test.csv\")\n",
    "# test_logit=pd.read_csv(\"R/GEO_count/exosome_test_new.csv\")\n",
    "# test_logit=pd.read_csv(\"R/GEO_count/pan_test_new_CH.csv\")\n",
    "# test_logit=pd.read_csv(\"R/GEO_count/exosome_test_new_BC.csv\")\n",
    "# test_logit=pd.read_csv(\"R/GEO_count/GSE83527_rf2.csv\")\n",
    "test_logit=pd.read_csv(\"/home/zgao/R/GEO_count/GSE62182_rf2.csv\")"
   ]
  },
  {
   "cell_type": "code",
   "execution_count": 45,
   "id": "c16e4a03",
   "metadata": {},
   "outputs": [],
   "source": [
    "test_logit=test_logit.set_index('Unnamed: 0')\n",
    "X_test=test_logit.drop(columns=['group'])\n",
    "y_test = test_logit['group']"
   ]
  },
  {
   "cell_type": "code",
   "execution_count": 48,
   "id": "e00946bb",
   "metadata": {},
   "outputs": [],
   "source": [
    "model = LogisticRegression()\n",
    "model.fit(X_train, y_train)\n",
    "y_pred_log = model.predict(X_test)"
   ]
  },
  {
   "cell_type": "code",
   "execution_count": 49,
   "id": "2482e710",
   "metadata": {},
   "outputs": [
    {
     "name": "stdout",
     "output_type": "stream",
     "text": [
      "AUC: 0.8122742025374553\n",
      "Best Threshold (Youden): 0.5598421624836722\n",
      "Best Youden's J: 0.5217716290200964\n",
      "Sensitivity (Recall): 0.8471953578336557\n",
      "Specificity: 0.6745762711864407\n",
      "{'auc': 0.8122742025374553, 'optimal_threshold': 0.5598421624836722, 'best_youden_J': 0.5217716290200964, 'sensitivity': 0.8471953578336557, 'specificity': 0.6745762711864407, 'y_pred_labels': array(['tumor', 'tumor', 'normal', 'normal', 'tumor', 'tumor', 'tumor',\n",
      "       'normal', 'tumor', 'tumor', 'tumor', 'normal', 'normal', 'tumor',\n",
      "       'tumor', 'tumor', 'tumor', 'normal', 'normal', 'normal', 'tumor',\n",
      "       'normal', 'tumor', 'normal', 'tumor', 'tumor', 'tumor', 'tumor',\n",
      "       'normal', 'normal', 'tumor', 'tumor', 'tumor', 'normal', 'tumor',\n",
      "       'tumor', 'tumor', 'normal', 'normal', 'tumor', 'normal', 'tumor',\n",
      "       'tumor', 'normal', 'normal', 'tumor', 'tumor', 'tumor', 'normal',\n",
      "       'normal', 'tumor', 'tumor', 'tumor', 'normal', 'tumor', 'tumor',\n",
      "       'normal', 'normal', 'normal', 'tumor', 'normal', 'normal',\n",
      "       'normal', 'normal', 'tumor', 'normal', 'normal', 'tumor', 'tumor',\n",
      "       'tumor', 'tumor', 'tumor', 'tumor', 'normal', 'tumor', 'tumor',\n",
      "       'tumor', 'tumor', 'tumor', 'normal', 'tumor', 'tumor', 'tumor',\n",
      "       'normal', 'tumor', 'tumor', 'normal', 'normal', 'normal', 'normal',\n",
      "       'normal', 'tumor', 'tumor', 'tumor', 'tumor', 'tumor', 'tumor',\n",
      "       'tumor', 'normal', 'tumor', 'tumor', 'normal', 'normal', 'normal',\n",
      "       'normal', 'tumor', 'tumor', 'normal', 'normal', 'normal', 'tumor',\n",
      "       'tumor', 'tumor', 'tumor', 'tumor', 'tumor', 'tumor', 'tumor',\n",
      "       'tumor', 'tumor', 'tumor', 'normal', 'tumor', 'normal', 'normal',\n",
      "       'tumor', 'normal', 'tumor', 'tumor', 'normal', 'normal', 'tumor',\n",
      "       'normal', 'tumor', 'tumor', 'normal', 'tumor', 'tumor', 'normal',\n",
      "       'tumor', 'normal', 'tumor', 'normal', 'tumor', 'tumor', 'tumor',\n",
      "       'tumor', 'tumor', 'tumor', 'normal', 'normal', 'normal', 'tumor',\n",
      "       'tumor', 'tumor', 'tumor', 'tumor', 'tumor', 'tumor', 'tumor',\n",
      "       'tumor', 'tumor', 'tumor', 'tumor', 'normal', 'tumor', 'tumor',\n",
      "       'normal', 'normal', 'tumor', 'tumor', 'tumor', 'normal', 'tumor',\n",
      "       'tumor', 'normal', 'tumor', 'tumor', 'tumor', 'tumor', 'tumor',\n",
      "       'normal', 'tumor', 'normal', 'tumor', 'tumor', 'tumor', 'tumor',\n",
      "       'tumor', 'tumor', 'tumor', 'normal', 'normal', 'normal', 'tumor',\n",
      "       'tumor', 'tumor', 'tumor', 'tumor', 'normal', 'tumor', 'normal',\n",
      "       'normal', 'normal', 'tumor', 'tumor', 'tumor', 'tumor', 'tumor',\n",
      "       'tumor', 'normal', 'tumor', 'tumor', 'tumor', 'normal', 'tumor',\n",
      "       'tumor', 'tumor', 'tumor', 'normal', 'normal', 'tumor', 'tumor',\n",
      "       'tumor', 'tumor', 'normal', 'tumor', 'tumor', 'normal', 'tumor',\n",
      "       'tumor', 'tumor', 'tumor', 'tumor', 'normal', 'normal', 'normal',\n",
      "       'tumor', 'tumor', 'tumor', 'tumor', 'tumor', 'tumor', 'tumor',\n",
      "       'tumor', 'tumor', 'tumor', 'normal', 'tumor', 'tumor', 'normal',\n",
      "       'tumor', 'normal', 'tumor', 'normal', 'tumor', 'normal', 'tumor',\n",
      "       'tumor', 'tumor', 'normal', 'normal', 'tumor', 'tumor', 'tumor',\n",
      "       'tumor', 'tumor', 'tumor', 'normal', 'normal', 'tumor', 'tumor',\n",
      "       'tumor', 'tumor', 'tumor', 'tumor', 'tumor', 'normal', 'tumor',\n",
      "       'tumor', 'tumor', 'tumor', 'tumor', 'tumor', 'tumor', 'tumor',\n",
      "       'tumor', 'tumor', 'normal', 'tumor', 'normal', 'tumor', 'tumor',\n",
      "       'tumor', 'tumor', 'normal', 'tumor', 'tumor', 'normal', 'tumor',\n",
      "       'normal', 'normal', 'tumor', 'tumor', 'tumor', 'normal', 'tumor',\n",
      "       'normal', 'tumor', 'tumor', 'tumor', 'tumor', 'tumor', 'tumor',\n",
      "       'normal', 'tumor', 'normal', 'tumor', 'tumor', 'tumor', 'tumor',\n",
      "       'tumor', 'tumor', 'tumor', 'tumor', 'tumor', 'tumor', 'tumor',\n",
      "       'tumor', 'tumor', 'normal', 'tumor', 'tumor', 'tumor', 'tumor',\n",
      "       'normal', 'tumor', 'tumor', 'tumor', 'normal', 'tumor', 'tumor',\n",
      "       'tumor', 'normal', 'normal', 'tumor', 'tumor', 'normal', 'tumor',\n",
      "       'tumor', 'normal', 'tumor', 'normal', 'normal', 'tumor', 'normal',\n",
      "       'normal', 'tumor', 'tumor', 'tumor', 'tumor', 'tumor', 'tumor',\n",
      "       'tumor', 'tumor', 'normal', 'tumor', 'normal', 'normal', 'tumor',\n",
      "       'tumor', 'tumor', 'normal', 'tumor', 'normal', 'tumor', 'tumor',\n",
      "       'tumor', 'tumor', 'normal', 'tumor', 'tumor', 'tumor', 'tumor',\n",
      "       'tumor', 'tumor', 'tumor', 'tumor', 'normal', 'normal', 'tumor',\n",
      "       'tumor', 'normal', 'normal', 'tumor', 'tumor', 'normal', 'normal',\n",
      "       'tumor', 'normal', 'tumor', 'normal', 'tumor', 'normal', 'normal',\n",
      "       'tumor', 'tumor', 'normal', 'normal', 'normal', 'tumor', 'tumor',\n",
      "       'normal', 'normal', 'normal', 'tumor', 'tumor', 'tumor', 'normal',\n",
      "       'tumor', 'normal', 'tumor', 'tumor', 'normal', 'normal', 'tumor',\n",
      "       'normal', 'tumor', 'tumor', 'tumor', 'normal', 'normal', 'tumor',\n",
      "       'tumor', 'normal', 'tumor', 'tumor', 'tumor', 'normal', 'normal',\n",
      "       'tumor', 'normal', 'normal', 'tumor', 'tumor', 'normal', 'tumor',\n",
      "       'tumor', 'tumor', 'tumor', 'tumor', 'tumor', 'normal', 'tumor',\n",
      "       'normal', 'tumor', 'tumor', 'normal', 'tumor', 'tumor', 'tumor',\n",
      "       'normal', 'tumor', 'normal', 'normal', 'tumor', 'tumor', 'normal',\n",
      "       'tumor', 'tumor', 'tumor', 'tumor', 'normal', 'tumor', 'tumor',\n",
      "       'tumor', 'tumor', 'tumor', 'tumor', 'tumor', 'tumor', 'normal',\n",
      "       'tumor', 'tumor', 'tumor', 'normal', 'tumor', 'tumor', 'tumor',\n",
      "       'tumor', 'normal', 'tumor', 'normal', 'tumor', 'tumor', 'tumor',\n",
      "       'tumor', 'tumor', 'tumor', 'tumor', 'normal', 'normal', 'normal',\n",
      "       'tumor', 'tumor', 'normal', 'tumor', 'normal', 'tumor', 'tumor',\n",
      "       'tumor', 'normal', 'normal', 'normal', 'tumor', 'tumor', 'normal',\n",
      "       'normal', 'normal', 'normal', 'tumor', 'tumor', 'tumor', 'tumor',\n",
      "       'tumor', 'tumor', 'tumor', 'tumor', 'tumor', 'tumor', 'normal',\n",
      "       'tumor', 'normal', 'tumor', 'normal', 'tumor', 'normal', 'normal',\n",
      "       'tumor', 'tumor', 'tumor', 'tumor', 'normal', 'tumor', 'tumor',\n",
      "       'normal', 'tumor', 'normal', 'tumor', 'normal', 'tumor', 'normal',\n",
      "       'normal', 'tumor', 'tumor', 'normal', 'normal', 'tumor', 'tumor',\n",
      "       'tumor', 'normal', 'tumor', 'tumor', 'normal', 'normal', 'tumor',\n",
      "       'normal', 'tumor', 'normal', 'tumor', 'tumor', 'tumor', 'tumor',\n",
      "       'tumor', 'normal', 'normal', 'normal', 'tumor', 'normal', 'normal',\n",
      "       'tumor', 'normal', 'tumor', 'tumor', 'tumor', 'normal', 'normal',\n",
      "       'tumor', 'tumor', 'tumor', 'normal', 'tumor', 'tumor', 'tumor',\n",
      "       'normal', 'tumor', 'tumor', 'normal', 'normal', 'tumor', 'tumor',\n",
      "       'tumor', 'tumor', 'normal', 'normal', 'normal', 'tumor', 'tumor',\n",
      "       'normal', 'normal', 'tumor', 'tumor', 'tumor', 'tumor', 'tumor',\n",
      "       'normal', 'normal', 'tumor', 'normal', 'tumor', 'tumor', 'normal',\n",
      "       'tumor', 'tumor', 'tumor', 'tumor', 'normal', 'normal', 'normal',\n",
      "       'tumor', 'tumor', 'tumor', 'tumor', 'tumor', 'tumor', 'tumor',\n",
      "       'normal', 'tumor', 'tumor', 'normal', 'normal', 'normal', 'normal',\n",
      "       'tumor', 'tumor', 'tumor', 'tumor', 'tumor', 'tumor', 'normal',\n",
      "       'tumor', 'normal', 'tumor', 'tumor', 'normal', 'normal', 'normal',\n",
      "       'tumor', 'tumor', 'normal', 'tumor', 'tumor', 'tumor', 'tumor',\n",
      "       'normal', 'tumor', 'normal', 'tumor', 'tumor', 'tumor', 'normal',\n",
      "       'tumor', 'normal', 'tumor', 'tumor', 'normal', 'tumor', 'normal',\n",
      "       'tumor', 'normal', 'tumor', 'normal', 'normal', 'tumor', 'normal',\n",
      "       'tumor', 'normal', 'tumor', 'normal', 'normal', 'tumor', 'normal',\n",
      "       'normal', 'normal', 'tumor', 'normal', 'normal', 'tumor', 'normal',\n",
      "       'tumor', 'normal', 'tumor', 'normal', 'tumor', 'tumor', 'tumor',\n",
      "       'normal', 'normal', 'tumor', 'tumor', 'normal', 'tumor', 'tumor',\n",
      "       'normal', 'tumor', 'tumor', 'normal', 'normal', 'tumor', 'tumor',\n",
      "       'tumor', 'tumor', 'normal', 'tumor', 'normal', 'tumor', 'tumor',\n",
      "       'tumor', 'tumor', 'normal', 'tumor', 'tumor', 'tumor', 'tumor',\n",
      "       'tumor', 'tumor', 'tumor', 'tumor', 'tumor', 'tumor', 'tumor',\n",
      "       'tumor', 'tumor', 'tumor', 'tumor', 'normal', 'tumor', 'tumor',\n",
      "       'tumor', 'tumor', 'tumor', 'tumor', 'normal', 'tumor', 'tumor',\n",
      "       'tumor', 'tumor', 'tumor', 'normal', 'tumor', 'tumor', 'normal',\n",
      "       'normal', 'tumor', 'tumor', 'tumor', 'tumor', 'tumor', 'tumor',\n",
      "       'normal', 'normal', 'normal', 'normal', 'tumor', 'tumor', 'normal',\n",
      "       'tumor', 'tumor', 'tumor', 'normal', 'tumor', 'tumor', 'tumor',\n",
      "       'normal', 'tumor', 'tumor', 'tumor', 'tumor', 'tumor', 'tumor',\n",
      "       'tumor', 'tumor', 'normal', 'normal', 'normal', 'tumor', 'tumor',\n",
      "       'tumor', 'normal', 'normal', 'tumor', 'normal', 'tumor', 'tumor',\n",
      "       'tumor', 'tumor', 'normal', 'tumor', 'normal', 'normal', 'tumor',\n",
      "       'normal'], dtype='<U6')}\n",
      "AUC: 0.8911564625850339\n",
      "Best Threshold (Youden): 0.6949441478842547\n",
      "Best Youden's J: 0.7428571428571429\n",
      "Sensitivity (Recall): 0.8857142857142857\n",
      "Specificity: 0.8571428571428571\n",
      "{'auc': 0.8911564625850339, 'optimal_threshold': 0.6949441478842547, 'best_youden_J': 0.7428571428571429, 'sensitivity': 0.8857142857142857, 'specificity': 0.8571428571428571, 'y_pred_labels': array(['tumor', 'tumor', 'tumor', 'tumor', 'tumor', 'tumor', 'tumor',\n",
      "       'tumor', 'tumor', 'tumor', 'tumor', 'tumor', 'tumor', 'tumor',\n",
      "       'tumor', 'tumor', 'tumor', 'tumor', 'tumor', 'tumor', 'tumor',\n",
      "       'tumor', 'normal', 'tumor', 'tumor', 'tumor', 'tumor', 'tumor',\n",
      "       'normal', 'normal', 'tumor', 'normal', 'tumor', 'tumor', 'tumor',\n",
      "       'normal', 'normal', 'normal', 'normal', 'normal', 'normal',\n",
      "       'normal', 'normal', 'tumor', 'normal', 'normal', 'normal',\n",
      "       'normal', 'tumor', 'normal', 'tumor', 'normal', 'normal', 'normal',\n",
      "       'normal', 'normal'], dtype='<U6')}\n"
     ]
    }
   ],
   "source": [
    "y_pred_proba_train = y_prob_log = model.predict_proba(X_train)[:, 1]\n",
    "y_pred_proba_test = y_prob_log = model.predict_proba(X_test)[:, 1]\n",
    "\n",
    "print(evaluate_performance_youden(y_train, y_pred_proba_train))\n",
    "print(evaluate_performance_youden(y_test, y_pred_proba_test))"
   ]
  },
  {
   "cell_type": "code",
   "execution_count": 50,
   "id": "c4f0e0a5",
   "metadata": {},
   "outputs": [
    {
     "name": "stdout",
     "output_type": "stream",
     "text": [
      "Optimal threshold: 0.47432911654214915\n",
      "Best F1 score: 0.8369565217391305\n",
      "AUPRC: 0.8607623883166957\n",
      "PPV/Precision: 0.787052810902896\n",
      "NPV: 0.7555555555555555\n",
      "Sensitivity/Recall: 0.8936170212765957\n",
      "Specificity: 0.576271186440678\n",
      "{'optimal_threshold': 0.47432911654214915, 'best_f1_score': 0.8369565217391305, 'auprc': 0.8607623883166957, 'ppv': 0.787052810902896, 'npv': 0.7555555555555555, 'sensitivity': 0.8936170212765957, 'specificity': 0.576271186440678, 'y_pred_labels': array(['tumor', 'tumor', 'normal', 'tumor', 'tumor', 'tumor', 'tumor',\n",
      "       'tumor', 'tumor', 'tumor', 'tumor', 'normal', 'normal', 'tumor',\n",
      "       'tumor', 'tumor', 'tumor', 'normal', 'normal', 'tumor', 'tumor',\n",
      "       'normal', 'tumor', 'normal', 'tumor', 'tumor', 'tumor', 'tumor',\n",
      "       'normal', 'normal', 'tumor', 'tumor', 'tumor', 'tumor', 'tumor',\n",
      "       'tumor', 'tumor', 'normal', 'normal', 'tumor', 'normal', 'tumor',\n",
      "       'tumor', 'normal', 'normal', 'tumor', 'tumor', 'tumor', 'tumor',\n",
      "       'normal', 'tumor', 'tumor', 'tumor', 'normal', 'tumor', 'tumor',\n",
      "       'normal', 'normal', 'tumor', 'tumor', 'normal', 'tumor', 'normal',\n",
      "       'tumor', 'tumor', 'normal', 'normal', 'tumor', 'tumor', 'tumor',\n",
      "       'tumor', 'tumor', 'tumor', 'normal', 'tumor', 'tumor', 'tumor',\n",
      "       'tumor', 'tumor', 'normal', 'tumor', 'tumor', 'tumor', 'normal',\n",
      "       'tumor', 'tumor', 'normal', 'normal', 'normal', 'normal', 'tumor',\n",
      "       'tumor', 'tumor', 'tumor', 'tumor', 'tumor', 'tumor', 'tumor',\n",
      "       'tumor', 'tumor', 'tumor', 'normal', 'normal', 'normal', 'normal',\n",
      "       'tumor', 'tumor', 'tumor', 'normal', 'normal', 'tumor', 'tumor',\n",
      "       'tumor', 'tumor', 'tumor', 'tumor', 'tumor', 'tumor', 'tumor',\n",
      "       'tumor', 'tumor', 'normal', 'tumor', 'normal', 'normal', 'tumor',\n",
      "       'normal', 'tumor', 'tumor', 'normal', 'normal', 'tumor', 'normal',\n",
      "       'tumor', 'tumor', 'tumor', 'tumor', 'tumor', 'tumor', 'tumor',\n",
      "       'normal', 'tumor', 'normal', 'tumor', 'tumor', 'tumor', 'tumor',\n",
      "       'tumor', 'tumor', 'normal', 'tumor', 'normal', 'tumor', 'tumor',\n",
      "       'tumor', 'tumor', 'tumor', 'tumor', 'tumor', 'tumor', 'tumor',\n",
      "       'tumor', 'tumor', 'tumor', 'normal', 'tumor', 'tumor', 'normal',\n",
      "       'tumor', 'tumor', 'tumor', 'tumor', 'tumor', 'tumor', 'tumor',\n",
      "       'normal', 'tumor', 'tumor', 'tumor', 'tumor', 'tumor', 'normal',\n",
      "       'tumor', 'normal', 'tumor', 'tumor', 'tumor', 'tumor', 'tumor',\n",
      "       'tumor', 'tumor', 'tumor', 'normal', 'tumor', 'tumor', 'tumor',\n",
      "       'tumor', 'tumor', 'tumor', 'normal', 'tumor', 'normal', 'normal',\n",
      "       'normal', 'tumor', 'tumor', 'tumor', 'tumor', 'tumor', 'tumor',\n",
      "       'normal', 'tumor', 'tumor', 'tumor', 'tumor', 'tumor', 'tumor',\n",
      "       'tumor', 'tumor', 'normal', 'normal', 'tumor', 'tumor', 'tumor',\n",
      "       'tumor', 'normal', 'tumor', 'tumor', 'normal', 'tumor', 'tumor',\n",
      "       'tumor', 'tumor', 'tumor', 'normal', 'normal', 'normal', 'tumor',\n",
      "       'tumor', 'tumor', 'tumor', 'tumor', 'tumor', 'tumor', 'tumor',\n",
      "       'tumor', 'tumor', 'tumor', 'tumor', 'tumor', 'normal', 'tumor',\n",
      "       'normal', 'tumor', 'normal', 'tumor', 'normal', 'tumor', 'tumor',\n",
      "       'tumor', 'normal', 'normal', 'tumor', 'tumor', 'tumor', 'tumor',\n",
      "       'tumor', 'tumor', 'normal', 'normal', 'tumor', 'tumor', 'tumor',\n",
      "       'tumor', 'tumor', 'tumor', 'tumor', 'tumor', 'tumor', 'tumor',\n",
      "       'tumor', 'tumor', 'tumor', 'tumor', 'tumor', 'tumor', 'tumor',\n",
      "       'tumor', 'normal', 'tumor', 'normal', 'tumor', 'tumor', 'tumor',\n",
      "       'tumor', 'normal', 'tumor', 'tumor', 'normal', 'tumor', 'normal',\n",
      "       'normal', 'tumor', 'tumor', 'tumor', 'normal', 'tumor', 'normal',\n",
      "       'tumor', 'tumor', 'tumor', 'tumor', 'tumor', 'tumor', 'tumor',\n",
      "       'tumor', 'normal', 'tumor', 'tumor', 'tumor', 'tumor', 'tumor',\n",
      "       'tumor', 'tumor', 'tumor', 'tumor', 'tumor', 'tumor', 'tumor',\n",
      "       'tumor', 'normal', 'tumor', 'tumor', 'tumor', 'tumor', 'normal',\n",
      "       'tumor', 'tumor', 'tumor', 'normal', 'tumor', 'tumor', 'tumor',\n",
      "       'normal', 'normal', 'tumor', 'tumor', 'tumor', 'tumor', 'tumor',\n",
      "       'normal', 'tumor', 'normal', 'tumor', 'tumor', 'normal', 'normal',\n",
      "       'tumor', 'tumor', 'tumor', 'tumor', 'tumor', 'tumor', 'tumor',\n",
      "       'tumor', 'normal', 'tumor', 'normal', 'normal', 'tumor', 'tumor',\n",
      "       'tumor', 'normal', 'tumor', 'normal', 'tumor', 'tumor', 'tumor',\n",
      "       'tumor', 'normal', 'tumor', 'tumor', 'tumor', 'tumor', 'tumor',\n",
      "       'tumor', 'tumor', 'tumor', 'normal', 'normal', 'tumor', 'tumor',\n",
      "       'normal', 'normal', 'tumor', 'tumor', 'normal', 'tumor', 'tumor',\n",
      "       'normal', 'tumor', 'normal', 'tumor', 'normal', 'normal', 'tumor',\n",
      "       'tumor', 'normal', 'normal', 'normal', 'tumor', 'tumor', 'normal',\n",
      "       'normal', 'normal', 'tumor', 'tumor', 'tumor', 'normal', 'tumor',\n",
      "       'tumor', 'tumor', 'tumor', 'tumor', 'normal', 'tumor', 'normal',\n",
      "       'tumor', 'tumor', 'tumor', 'normal', 'normal', 'tumor', 'tumor',\n",
      "       'tumor', 'tumor', 'tumor', 'tumor', 'normal', 'normal', 'tumor',\n",
      "       'normal', 'normal', 'tumor', 'tumor', 'normal', 'tumor', 'tumor',\n",
      "       'tumor', 'tumor', 'tumor', 'tumor', 'normal', 'tumor', 'normal',\n",
      "       'tumor', 'tumor', 'normal', 'tumor', 'tumor', 'tumor', 'normal',\n",
      "       'tumor', 'normal', 'normal', 'tumor', 'tumor', 'normal', 'tumor',\n",
      "       'tumor', 'tumor', 'tumor', 'tumor', 'tumor', 'tumor', 'tumor',\n",
      "       'tumor', 'tumor', 'tumor', 'tumor', 'tumor', 'normal', 'tumor',\n",
      "       'tumor', 'tumor', 'normal', 'tumor', 'tumor', 'tumor', 'tumor',\n",
      "       'normal', 'tumor', 'normal', 'tumor', 'tumor', 'tumor', 'tumor',\n",
      "       'tumor', 'tumor', 'tumor', 'normal', 'normal', 'tumor', 'tumor',\n",
      "       'tumor', 'normal', 'tumor', 'tumor', 'tumor', 'tumor', 'tumor',\n",
      "       'normal', 'normal', 'normal', 'tumor', 'tumor', 'normal', 'normal',\n",
      "       'normal', 'normal', 'tumor', 'tumor', 'tumor', 'tumor', 'tumor',\n",
      "       'tumor', 'tumor', 'tumor', 'tumor', 'tumor', 'normal', 'tumor',\n",
      "       'normal', 'tumor', 'normal', 'tumor', 'normal', 'normal', 'tumor',\n",
      "       'tumor', 'tumor', 'tumor', 'normal', 'tumor', 'tumor', 'normal',\n",
      "       'tumor', 'normal', 'tumor', 'normal', 'tumor', 'normal', 'normal',\n",
      "       'tumor', 'tumor', 'tumor', 'normal', 'tumor', 'tumor', 'tumor',\n",
      "       'tumor', 'tumor', 'tumor', 'normal', 'normal', 'tumor', 'normal',\n",
      "       'tumor', 'normal', 'tumor', 'tumor', 'tumor', 'tumor', 'tumor',\n",
      "       'normal', 'normal', 'normal', 'tumor', 'tumor', 'normal', 'tumor',\n",
      "       'tumor', 'tumor', 'tumor', 'tumor', 'normal', 'normal', 'tumor',\n",
      "       'tumor', 'tumor', 'normal', 'tumor', 'tumor', 'tumor', 'normal',\n",
      "       'tumor', 'tumor', 'normal', 'normal', 'tumor', 'tumor', 'tumor',\n",
      "       'tumor', 'normal', 'normal', 'normal', 'tumor', 'tumor', 'normal',\n",
      "       'normal', 'tumor', 'tumor', 'tumor', 'tumor', 'tumor', 'normal',\n",
      "       'normal', 'tumor', 'tumor', 'tumor', 'tumor', 'normal', 'tumor',\n",
      "       'tumor', 'tumor', 'tumor', 'tumor', 'tumor', 'normal', 'tumor',\n",
      "       'tumor', 'tumor', 'tumor', 'tumor', 'tumor', 'tumor', 'tumor',\n",
      "       'tumor', 'tumor', 'tumor', 'normal', 'normal', 'normal', 'tumor',\n",
      "       'tumor', 'tumor', 'tumor', 'tumor', 'tumor', 'normal', 'tumor',\n",
      "       'normal', 'tumor', 'tumor', 'normal', 'normal', 'normal', 'tumor',\n",
      "       'tumor', 'normal', 'tumor', 'tumor', 'tumor', 'tumor', 'normal',\n",
      "       'tumor', 'normal', 'tumor', 'tumor', 'tumor', 'normal', 'tumor',\n",
      "       'normal', 'tumor', 'tumor', 'normal', 'tumor', 'tumor', 'tumor',\n",
      "       'tumor', 'tumor', 'normal', 'normal', 'tumor', 'normal', 'tumor',\n",
      "       'tumor', 'tumor', 'normal', 'normal', 'tumor', 'normal', 'normal',\n",
      "       'tumor', 'tumor', 'normal', 'normal', 'tumor', 'normal', 'tumor',\n",
      "       'tumor', 'tumor', 'normal', 'tumor', 'tumor', 'tumor', 'normal',\n",
      "       'normal', 'tumor', 'tumor', 'normal', 'tumor', 'tumor', 'tumor',\n",
      "       'tumor', 'tumor', 'tumor', 'normal', 'tumor', 'tumor', 'tumor',\n",
      "       'tumor', 'normal', 'tumor', 'tumor', 'tumor', 'tumor', 'tumor',\n",
      "       'tumor', 'normal', 'tumor', 'tumor', 'tumor', 'tumor', 'tumor',\n",
      "       'tumor', 'tumor', 'tumor', 'tumor', 'tumor', 'tumor', 'tumor',\n",
      "       'tumor', 'tumor', 'tumor', 'normal', 'tumor', 'tumor', 'tumor',\n",
      "       'tumor', 'tumor', 'tumor', 'normal', 'tumor', 'tumor', 'tumor',\n",
      "       'tumor', 'tumor', 'normal', 'tumor', 'tumor', 'normal', 'normal',\n",
      "       'tumor', 'tumor', 'tumor', 'tumor', 'tumor', 'tumor', 'tumor',\n",
      "       'normal', 'tumor', 'normal', 'tumor', 'tumor', 'normal', 'tumor',\n",
      "       'tumor', 'tumor', 'normal', 'tumor', 'tumor', 'tumor', 'normal',\n",
      "       'tumor', 'tumor', 'tumor', 'tumor', 'tumor', 'tumor', 'tumor',\n",
      "       'tumor', 'tumor', 'normal', 'tumor', 'tumor', 'tumor', 'tumor',\n",
      "       'normal', 'normal', 'tumor', 'tumor', 'tumor', 'tumor', 'tumor',\n",
      "       'tumor', 'normal', 'tumor', 'normal', 'normal', 'tumor', 'normal'],\n",
      "      dtype='<U6')}\n",
      "Optimal threshold: 0.6106001377095276\n",
      "Best F1 score: 0.904109589041096\n",
      "AUPRC: 0.9050383291939963\n",
      "PPV/Precision: 0.868421052631579\n",
      "NPV: 0.8888888888888888\n",
      "Sensitivity/Recall: 0.9428571428571428\n",
      "Specificity: 0.7619047619047619\n",
      "{'optimal_threshold': 0.6106001377095276, 'best_f1_score': 0.904109589041096, 'auprc': 0.9050383291939963, 'ppv': 0.868421052631579, 'npv': 0.8888888888888888, 'sensitivity': 0.9428571428571428, 'specificity': 0.7619047619047619, 'y_pred_labels': array(['tumor', 'tumor', 'tumor', 'tumor', 'tumor', 'tumor', 'tumor',\n",
      "       'tumor', 'tumor', 'tumor', 'tumor', 'tumor', 'tumor', 'tumor',\n",
      "       'tumor', 'tumor', 'tumor', 'tumor', 'tumor', 'tumor', 'tumor',\n",
      "       'tumor', 'tumor', 'tumor', 'tumor', 'tumor', 'tumor', 'tumor',\n",
      "       'tumor', 'normal', 'tumor', 'normal', 'tumor', 'tumor', 'tumor',\n",
      "       'normal', 'normal', 'normal', 'normal', 'tumor', 'normal',\n",
      "       'normal', 'normal', 'tumor', 'normal', 'normal', 'normal', 'tumor',\n",
      "       'tumor', 'normal', 'tumor', 'normal', 'normal', 'normal', 'normal',\n",
      "       'normal'], dtype='<U6')}\n"
     ]
    }
   ],
   "source": [
    "print(evaluate_performance(y_train, y_pred_proba_train))\n",
    "print(evaluate_performance(y_test, y_pred_proba_test))"
   ]
  },
  {
   "cell_type": "code",
   "execution_count": 51,
   "id": "46bd8882",
   "metadata": {},
   "outputs": [
    {
     "data": {
      "image/png": "[encoded data removed]",
      "text/plain": [
       "<Figure size 360x360 with 1 Axes>"
      ]
     },
     "metadata": {
      "needs_background": "light"
     },
     "output_type": "display_data"
    }
   ],
   "source": [
    "#AUC curve\n",
    "# Assuming fpr_val, tpr_val, and auc_val contain the FPR, TPR, and AUC for the validation set\n",
    "fpr_train, tpr_train, thresholds_train = roc_curve(y_train, y_pred_proba_train, pos_label='tumor')\n",
    "fpr_test, tpr_test, thresholds_test = roc_curve(y_test, y_pred_proba_test, pos_label='tumor')\n",
    "auc_value_train = roc_auc_score(y_train, y_pred_proba_train)\n",
    "auc_value_test = roc_auc_score(y_test, y_pred_proba_test)\n",
    "\n",
    "plt.figure(figsize=(5, 5))\n",
    "\n",
    "# plot ROC curve for the train set\n",
    "plt.plot(fpr_train, tpr_train, label=f'Train Set AUC = {auc_value_train:.2f}')\n",
    "\n",
    "# Plot ROC curve for the test set\n",
    "plt.plot(fpr_test, tpr_test, label=f'Test Set AUC = {auc_value_test:.2f}')\n",
    "\n",
    "# Plot ROC curve for the validation set\n",
    "# plt.plot(fpr_val, tpr_val, label=f'Validation Set AUC = {auc_value_val:.2f}', linestyle='-.')  # You can change the linestyle as you like\n",
    "\n",
    "# Plot diagonal line\n",
    "plt.plot([0, 1], [0, 1], linestyle='--', color='gray')\n",
    "\n",
    "# Labels, title, and other settings\n",
    "plt.xlabel('1 - Specificity (False Positive Rate)', fontweight='bold')\n",
    "plt.ylabel('Sensitivity (True Positive Rate)', fontweight='bold')\n",
    "legend = plt.legend(loc='lower right')\n",
    "plt.grid(False)\n",
    "plt.show()"
   ]
  },
  {
   "cell_type": "code",
   "execution_count": 52,
   "id": "f65db087",
   "metadata": {},
   "outputs": [
    {
     "name": "stdout",
     "output_type": "stream",
     "text": [
      "auprc_train: 0.8607623883166957\n",
      "auprc_test: 0.9050383291939963\n"
     ]
    },
    {
     "data": {
      "image/png": "[encoded data removed]",
      "text/plain": [
       "<Figure size 360x360 with 1 Axes>"
      ]
     },
     "metadata": {
      "needs_background": "light"
     },
     "output_type": "display_data"
    }
   ],
   "source": [
    "#precision-recall\n",
    "precision_train, recall_train, _ = precision_recall_curve(y_train, y_pred_proba_train,pos_label='tumor')\n",
    "precision_test, recall_test, _ = precision_recall_curve(y_test, y_pred_proba_test,pos_label='tumor')\n",
    "auprc_train = auc(recall_train, precision_train)\n",
    "print(\"auprc_train:\", auprc_train)\n",
    "auprc_test = auc(recall_test, precision_test)\n",
    "print(\"auprc_test:\", auprc_test)\n",
    "\n",
    "# precision_val, recall_val, _ = precision_recall_curve(y_val, y_pred_proba_val,pos_label='tumor')\n",
    "\n",
    "\n",
    "plt.figure(figsize=(5, 5))\n",
    "plt.plot(recall_train, precision_train, marker='.', label=f'Train Set AUCPRC = {auprc_train:.2f}', color='blue')\n",
    "\n",
    "# Plot for test set\n",
    "plt.plot(recall_test, precision_test, marker='.', label=f'Test Set AUCPRC = {auprc_test:.2f}', color='green')\n",
    "\n",
    "# Plot for validation set\n",
    "# plt.plot(recall_val, precision_val, marker='.', label='Validation', color='red')\n",
    "\n",
    "# Labeling the axes and setting the title\n",
    "plt.xlabel('Recall',fontweight='bold')\n",
    "plt.ylabel('Precision',fontweight='bold')\n",
    "#plt.title('Exosome Cohort benign vs cancer',fontweight='bold')\n",
    "\n",
    "# Display the legend\n",
    "plt.legend()\n",
    "# Show the plot\n",
    "plt.show()"
   ]
  },
  {
   "cell_type": "code",
   "execution_count": 53,
   "id": "ce933543",
   "metadata": {},
   "outputs": [],
   "source": [
    "#p is the optimal value\n",
    "y_pred_train_labels = [\"tumor\" if p >= 0.56 else \"normal\" for p in y_pred_proba_train]\n",
    "y_pred_test_labels = [\"tumor\" if p >= 0.69  else \"normal\" for p in y_pred_proba_test]"
   ]
  },
  {
   "cell_type": "code",
   "execution_count": 54,
   "id": "623dba33",
   "metadata": {},
   "outputs": [
    {
     "data": {
      "image/png": "[encoded data removed]",
      "text/plain": [
       "<Figure size 504x360 with 2 Axes>"
      ]
     },
     "metadata": {
      "needs_background": "light"
     },
     "output_type": "display_data"
    }
   ],
   "source": [
    "classes = ['non-cancer', 'cancer']\n",
    "plot_confusion_matrix(y_test, y_pred_test_labels, classes)\n",
    "plt.show()"
   ]
  },
  {
   "cell_type": "code",
   "execution_count": null,
   "id": "b6eb1f72",
   "metadata": {},
   "outputs": [],
   "source": []
  }
 ],
 "metadata": {
  "kernelspec": {
   "display_name": "Python 3",
   "language": "python",
   "name": "python3"
  },
  "language_info": {
   "codemirror_mode": {
    "name": "ipython",
    "version": 3
   },
   "file_extension": ".py",
   "mimetype": "text/x-python",
   "name": "python",
   "nbconvert_exporter": "python",
   "pygments_lexer": "ipython3",
   "version": "3.8.8"
  }
 },
 "nbformat": 4,
 "nbformat_minor": 5
}
