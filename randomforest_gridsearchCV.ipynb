{
 "cells": [
  {
   "cell_type": "code",
   "execution_count": 1,
   "id": "3fee336b",
   "metadata": {},
   "outputs": [],
   "source": [
    "from sklearn.ensemble import RandomForestClassifier\n",
    "from sklearn.model_selection import train_test_split, GridSearchCV\n",
    "from sklearn.metrics import roc_curve, auc\n",
    "from sklearn.preprocessing import label_binarize\n",
    "from sklearn.metrics import roc_curve, roc_auc_score,accuracy_score\n",
    "import pandas as pd\n",
    "import numpy as np\n",
    "import matplotlib.pyplot as plt\n",
    "from eli5.sklearn import PermutationImportance\n",
    "from sklearn.model_selection import cross_val_score\n",
    "import eli5\n",
    "import ast\n",
    "from sklearn.metrics import confusion_matrix\n",
    "import seaborn as sns\n",
    "from sklearn.linear_model import LogisticRegression\n",
    "from imblearn.over_sampling import SMOTE\n",
    "from imblearn.under_sampling import RandomUnderSampler\n",
    "from imblearn.pipeline import Pipeline\n",
    "from sklearn.feature_selection import f_classif\n",
    "from sklearn.metrics import f1_score, precision_score, recall_score\n",
    "from sklearn.metrics import precision_recall_curve,auc\n",
    "import seaborn as sns\n",
    "from sklearn.metrics import confusion_matrix, ConfusionMatrixDisplay\n",
    "from pretty_confusion_matrix import pp_matrix"
   ]
  },
  {
   "cell_type": "code",
   "execution_count": 14,
   "id": "0fc6565b",
   "metadata": {},
   "outputs": [],
   "source": [
    "plasma_rf=pd.read_csv(\"R/GEO_count/pan_train2.csv\")"
   ]
  },
  {
   "cell_type": "code",
   "execution_count": 15,
   "id": "9fd03d76",
   "metadata": {},
   "outputs": [
    {
     "data": {
      "text/plain": [
       "0      TCGA.73.4675.01A.01T.1207.13\n",
       "1      TCGA.58.8388.01A.11H.2325.13\n",
       "2                        SRR6757411\n",
       "3      TCGA.55.6972.01A.11H.1948.13\n",
       "4                        SRR6757427\n",
       "                   ...             \n",
       "807                             BR1\n",
       "808                     SRR11563525\n",
       "809                     SRR19423144\n",
       "810                     SRR11563486\n",
       "811                     SRR19423142\n",
       "Name: Unnamed: 0, Length: 812, dtype: object"
      ]
     },
     "execution_count": 15,
     "metadata": {},
     "output_type": "execute_result"
    }
   ],
   "source": [
    "plasma_rf.iloc[:,0]"
   ]
  },
  {
   "cell_type": "code",
   "execution_count": 16,
   "id": "10288d9e",
   "metadata": {},
   "outputs": [],
   "source": [
    "plasma_rf=plasma_rf.drop(columns=['Unnamed: 0'])"
   ]
  },
  {
   "cell_type": "code",
   "execution_count": 17,
   "id": "33e9cebc",
   "metadata": {},
   "outputs": [
    {
     "data": {
      "text/html": [
       "<div>\n",
       "<style scoped>\n",
       "    .dataframe tbody tr th:only-of-type {\n",
       "        vertical-align: middle;\n",
       "    }\n",
       "\n",
       "    .dataframe tbody tr th {\n",
       "        vertical-align: top;\n",
       "    }\n",
       "\n",
       "    .dataframe thead th {\n",
       "        text-align: right;\n",
       "    }\n",
       "</style>\n",
       "<table border=\"1\" class=\"dataframe\">\n",
       "  <thead>\n",
       "    <tr style=\"text-align: right;\">\n",
       "      <th></th>\n",
       "      <th>group</th>\n",
       "      <th>piR.hsa.100956</th>\n",
       "      <th>piR.hsa.1288731</th>\n",
       "      <th>piR.hsa.131631</th>\n",
       "      <th>piR.hsa.138412</th>\n",
       "      <th>piR.hsa.141155</th>\n",
       "      <th>piR.hsa.2499988</th>\n",
       "      <th>piR.hsa.2826866</th>\n",
       "      <th>piR.hsa.2826956</th>\n",
       "      <th>piR.hsa.2831324</th>\n",
       "      <th>piR.hsa.2833690</th>\n",
       "      <th>piR.hsa.2838249</th>\n",
       "      <th>piR.hsa.2851625</th>\n",
       "      <th>piR.hsa.2851799</th>\n",
       "    </tr>\n",
       "  </thead>\n",
       "  <tbody>\n",
       "    <tr>\n",
       "      <th>0</th>\n",
       "      <td>tumor</td>\n",
       "      <td>5.743220</td>\n",
       "      <td>4.033169</td>\n",
       "      <td>5.101342</td>\n",
       "      <td>4.804209</td>\n",
       "      <td>3.429994</td>\n",
       "      <td>4.317952</td>\n",
       "      <td>3.674104</td>\n",
       "      <td>3.578989</td>\n",
       "      <td>3.419414</td>\n",
       "      <td>3.679712</td>\n",
       "      <td>3.200914</td>\n",
       "      <td>3.075845</td>\n",
       "      <td>4.246273</td>\n",
       "    </tr>\n",
       "    <tr>\n",
       "      <th>1</th>\n",
       "      <td>tumor</td>\n",
       "      <td>5.693867</td>\n",
       "      <td>2.831566</td>\n",
       "      <td>5.098610</td>\n",
       "      <td>4.801477</td>\n",
       "      <td>2.140202</td>\n",
       "      <td>1.845942</td>\n",
       "      <td>1.348611</td>\n",
       "      <td>1.299557</td>\n",
       "      <td>2.150402</td>\n",
       "      <td>3.676979</td>\n",
       "      <td>1.927951</td>\n",
       "      <td>3.073113</td>\n",
       "      <td>1.439445</td>\n",
       "    </tr>\n",
       "    <tr>\n",
       "      <th>2</th>\n",
       "      <td>normal</td>\n",
       "      <td>6.834785</td>\n",
       "      <td>3.176711</td>\n",
       "      <td>6.192690</td>\n",
       "      <td>5.637031</td>\n",
       "      <td>1.733974</td>\n",
       "      <td>2.252934</td>\n",
       "      <td>1.409741</td>\n",
       "      <td>1.443442</td>\n",
       "      <td>1.702423</td>\n",
       "      <td>3.862559</td>\n",
       "      <td>1.654281</td>\n",
       "      <td>3.032894</td>\n",
       "      <td>1.362492</td>\n",
       "    </tr>\n",
       "    <tr>\n",
       "      <th>3</th>\n",
       "      <td>tumor</td>\n",
       "      <td>5.993028</td>\n",
       "      <td>3.916697</td>\n",
       "      <td>5.377336</td>\n",
       "      <td>5.080203</td>\n",
       "      <td>2.111314</td>\n",
       "      <td>2.450450</td>\n",
       "      <td>0.667291</td>\n",
       "      <td>0.630895</td>\n",
       "      <td>2.127008</td>\n",
       "      <td>3.955769</td>\n",
       "      <td>1.904427</td>\n",
       "      <td>3.351802</td>\n",
       "      <td>0.374061</td>\n",
       "    </tr>\n",
       "    <tr>\n",
       "      <th>4</th>\n",
       "      <td>normal</td>\n",
       "      <td>5.789100</td>\n",
       "      <td>2.239036</td>\n",
       "      <td>4.978135</td>\n",
       "      <td>4.581443</td>\n",
       "      <td>1.651842</td>\n",
       "      <td>2.247118</td>\n",
       "      <td>1.235217</td>\n",
       "      <td>1.190970</td>\n",
       "      <td>1.633585</td>\n",
       "      <td>3.513568</td>\n",
       "      <td>1.563778</td>\n",
       "      <td>3.040022</td>\n",
       "      <td>1.349626</td>\n",
       "    </tr>\n",
       "    <tr>\n",
       "      <th>...</th>\n",
       "      <td>...</td>\n",
       "      <td>...</td>\n",
       "      <td>...</td>\n",
       "      <td>...</td>\n",
       "      <td>...</td>\n",
       "      <td>...</td>\n",
       "      <td>...</td>\n",
       "      <td>...</td>\n",
       "      <td>...</td>\n",
       "      <td>...</td>\n",
       "      <td>...</td>\n",
       "      <td>...</td>\n",
       "      <td>...</td>\n",
       "      <td>...</td>\n",
       "    </tr>\n",
       "    <tr>\n",
       "      <th>807</th>\n",
       "      <td>normal</td>\n",
       "      <td>5.804358</td>\n",
       "      <td>3.520249</td>\n",
       "      <td>5.200158</td>\n",
       "      <td>4.903017</td>\n",
       "      <td>2.475427</td>\n",
       "      <td>2.551951</td>\n",
       "      <td>1.539480</td>\n",
       "      <td>1.512872</td>\n",
       "      <td>2.502757</td>\n",
       "      <td>3.778824</td>\n",
       "      <td>2.286861</td>\n",
       "      <td>3.174470</td>\n",
       "      <td>1.953297</td>\n",
       "    </tr>\n",
       "    <tr>\n",
       "      <th>808</th>\n",
       "      <td>normal</td>\n",
       "      <td>6.505323</td>\n",
       "      <td>2.606157</td>\n",
       "      <td>5.923824</td>\n",
       "      <td>5.703046</td>\n",
       "      <td>1.952790</td>\n",
       "      <td>2.447231</td>\n",
       "      <td>1.275477</td>\n",
       "      <td>1.289074</td>\n",
       "      <td>1.935499</td>\n",
       "      <td>4.591121</td>\n",
       "      <td>1.712571</td>\n",
       "      <td>3.939730</td>\n",
       "      <td>1.349920</td>\n",
       "    </tr>\n",
       "    <tr>\n",
       "      <th>809</th>\n",
       "      <td>normal</td>\n",
       "      <td>6.084680</td>\n",
       "      <td>3.030814</td>\n",
       "      <td>5.455097</td>\n",
       "      <td>5.157140</td>\n",
       "      <td>1.146391</td>\n",
       "      <td>2.821909</td>\n",
       "      <td>1.865689</td>\n",
       "      <td>1.388315</td>\n",
       "      <td>0.811309</td>\n",
       "      <td>3.293189</td>\n",
       "      <td>0.182048</td>\n",
       "      <td>3.267501</td>\n",
       "      <td>2.159927</td>\n",
       "    </tr>\n",
       "    <tr>\n",
       "      <th>810</th>\n",
       "      <td>tumor</td>\n",
       "      <td>4.548335</td>\n",
       "      <td>3.105186</td>\n",
       "      <td>3.951804</td>\n",
       "      <td>3.706991</td>\n",
       "      <td>2.000541</td>\n",
       "      <td>2.113264</td>\n",
       "      <td>1.390500</td>\n",
       "      <td>1.430642</td>\n",
       "      <td>2.011856</td>\n",
       "      <td>2.578835</td>\n",
       "      <td>1.800838</td>\n",
       "      <td>1.947216</td>\n",
       "      <td>1.340982</td>\n",
       "    </tr>\n",
       "    <tr>\n",
       "      <th>811</th>\n",
       "      <td>normal</td>\n",
       "      <td>6.180164</td>\n",
       "      <td>2.902810</td>\n",
       "      <td>5.552771</td>\n",
       "      <td>5.251229</td>\n",
       "      <td>1.291975</td>\n",
       "      <td>2.952959</td>\n",
       "      <td>1.342962</td>\n",
       "      <td>1.213875</td>\n",
       "      <td>0.583261</td>\n",
       "      <td>3.291361</td>\n",
       "      <td>0.182048</td>\n",
       "      <td>3.122799</td>\n",
       "      <td>1.751319</td>\n",
       "    </tr>\n",
       "  </tbody>\n",
       "</table>\n",
       "<p>812 rows × 14 columns</p>\n",
       "</div>"
      ],
      "text/plain": [
       "      group  piR.hsa.100956  piR.hsa.1288731  piR.hsa.131631  piR.hsa.138412  \\\n",
       "0     tumor        5.743220         4.033169        5.101342        4.804209   \n",
       "1     tumor        5.693867         2.831566        5.098610        4.801477   \n",
       "2    normal        6.834785         3.176711        6.192690        5.637031   \n",
       "3     tumor        5.993028         3.916697        5.377336        5.080203   \n",
       "4    normal        5.789100         2.239036        4.978135        4.581443   \n",
       "..      ...             ...              ...             ...             ...   \n",
       "807  normal        5.804358         3.520249        5.200158        4.903017   \n",
       "808  normal        6.505323         2.606157        5.923824        5.703046   \n",
       "809  normal        6.084680         3.030814        5.455097        5.157140   \n",
       "810   tumor        4.548335         3.105186        3.951804        3.706991   \n",
       "811  normal        6.180164         2.902810        5.552771        5.251229   \n",
       "\n",
       "     piR.hsa.141155  piR.hsa.2499988  piR.hsa.2826866  piR.hsa.2826956  \\\n",
       "0          3.429994         4.317952         3.674104         3.578989   \n",
       "1          2.140202         1.845942         1.348611         1.299557   \n",
       "2          1.733974         2.252934         1.409741         1.443442   \n",
       "3          2.111314         2.450450         0.667291         0.630895   \n",
       "4          1.651842         2.247118         1.235217         1.190970   \n",
       "..              ...              ...              ...              ...   \n",
       "807        2.475427         2.551951         1.539480         1.512872   \n",
       "808        1.952790         2.447231         1.275477         1.289074   \n",
       "809        1.146391         2.821909         1.865689         1.388315   \n",
       "810        2.000541         2.113264         1.390500         1.430642   \n",
       "811        1.291975         2.952959         1.342962         1.213875   \n",
       "\n",
       "     piR.hsa.2831324  piR.hsa.2833690  piR.hsa.2838249  piR.hsa.2851625  \\\n",
       "0           3.419414         3.679712         3.200914         3.075845   \n",
       "1           2.150402         3.676979         1.927951         3.073113   \n",
       "2           1.702423         3.862559         1.654281         3.032894   \n",
       "3           2.127008         3.955769         1.904427         3.351802   \n",
       "4           1.633585         3.513568         1.563778         3.040022   \n",
       "..               ...              ...              ...              ...   \n",
       "807         2.502757         3.778824         2.286861         3.174470   \n",
       "808         1.935499         4.591121         1.712571         3.939730   \n",
       "809         0.811309         3.293189         0.182048         3.267501   \n",
       "810         2.011856         2.578835         1.800838         1.947216   \n",
       "811         0.583261         3.291361         0.182048         3.122799   \n",
       "\n",
       "     piR.hsa.2851799  \n",
       "0           4.246273  \n",
       "1           1.439445  \n",
       "2           1.362492  \n",
       "3           0.374061  \n",
       "4           1.349626  \n",
       "..               ...  \n",
       "807         1.953297  \n",
       "808         1.349920  \n",
       "809         2.159927  \n",
       "810         1.340982  \n",
       "811         1.751319  \n",
       "\n",
       "[812 rows x 14 columns]"
      ]
     },
     "execution_count": 17,
     "metadata": {},
     "output_type": "execute_result"
    }
   ],
   "source": [
    "plasma_rf"
   ]
  },
  {
   "cell_type": "code",
   "execution_count": 18,
   "id": "045efc02",
   "metadata": {},
   "outputs": [],
   "source": [
    "X_train = plasma_rf.drop(columns=['group'])"
   ]
  },
  {
   "cell_type": "code",
   "execution_count": 19,
   "id": "3ec4600a",
   "metadata": {},
   "outputs": [],
   "source": [
    "y_train = plasma_rf['group']"
   ]
  },
  {
   "cell_type": "code",
   "execution_count": 166,
   "id": "5cfc176b",
   "metadata": {},
   "outputs": [],
   "source": [
    "test=pd.read_csv(\"R/GEO_count/exosome_test2_BC.csv\")"
   ]
  },
  {
   "cell_type": "code",
   "execution_count": 167,
   "id": "4d84ae84",
   "metadata": {},
   "outputs": [],
   "source": [
    "test=test.drop(columns=['Unnamed: 0'])"
   ]
  },
  {
   "cell_type": "code",
   "execution_count": 168,
   "id": "41742060",
   "metadata": {},
   "outputs": [
    {
     "data": {
      "text/html": [
       "<div>\n",
       "<style scoped>\n",
       "    .dataframe tbody tr th:only-of-type {\n",
       "        vertical-align: middle;\n",
       "    }\n",
       "\n",
       "    .dataframe tbody tr th {\n",
       "        vertical-align: top;\n",
       "    }\n",
       "\n",
       "    .dataframe thead th {\n",
       "        text-align: right;\n",
       "    }\n",
       "</style>\n",
       "<table border=\"1\" class=\"dataframe\">\n",
       "  <thead>\n",
       "    <tr style=\"text-align: right;\">\n",
       "      <th></th>\n",
       "      <th>group</th>\n",
       "      <th>piR.hsa.100956</th>\n",
       "      <th>piR.hsa.1288731</th>\n",
       "      <th>piR.hsa.131631</th>\n",
       "      <th>piR.hsa.138412</th>\n",
       "      <th>piR.hsa.141155</th>\n",
       "      <th>piR.hsa.2499988</th>\n",
       "      <th>piR.hsa.2826866</th>\n",
       "      <th>piR.hsa.2826956</th>\n",
       "      <th>piR.hsa.2831324</th>\n",
       "      <th>piR.hsa.2833690</th>\n",
       "      <th>piR.hsa.2838249</th>\n",
       "      <th>piR.hsa.2851625</th>\n",
       "      <th>piR.hsa.2851799</th>\n",
       "    </tr>\n",
       "  </thead>\n",
       "  <tbody>\n",
       "    <tr>\n",
       "      <th>0</th>\n",
       "      <td>tumor</td>\n",
       "      <td>5.916746</td>\n",
       "      <td>0.729600</td>\n",
       "      <td>5.313596</td>\n",
       "      <td>5.016454</td>\n",
       "      <td>2.336389</td>\n",
       "      <td>2.325916</td>\n",
       "      <td>1.693659</td>\n",
       "      <td>1.712170</td>\n",
       "      <td>2.432793</td>\n",
       "      <td>3.893055</td>\n",
       "      <td>2.209460</td>\n",
       "      <td>3.287503</td>\n",
       "      <td>1.474482</td>\n",
       "    </tr>\n",
       "    <tr>\n",
       "      <th>1</th>\n",
       "      <td>tumor</td>\n",
       "      <td>5.446118</td>\n",
       "      <td>4.705826</td>\n",
       "      <td>4.842823</td>\n",
       "      <td>4.545681</td>\n",
       "      <td>2.050439</td>\n",
       "      <td>3.132980</td>\n",
       "      <td>0.915356</td>\n",
       "      <td>0.744777</td>\n",
       "      <td>2.016852</td>\n",
       "      <td>3.421921</td>\n",
       "      <td>1.793480</td>\n",
       "      <td>2.816947</td>\n",
       "      <td>1.582692</td>\n",
       "    </tr>\n",
       "    <tr>\n",
       "      <th>2</th>\n",
       "      <td>tumor</td>\n",
       "      <td>5.046015</td>\n",
       "      <td>0.729600</td>\n",
       "      <td>4.442530</td>\n",
       "      <td>4.145389</td>\n",
       "      <td>1.968416</td>\n",
       "      <td>1.245362</td>\n",
       "      <td>1.846907</td>\n",
       "      <td>1.806928</td>\n",
       "      <td>1.868522</td>\n",
       "      <td>3.021153</td>\n",
       "      <td>1.645132</td>\n",
       "      <td>2.416939</td>\n",
       "      <td>1.821030</td>\n",
       "    </tr>\n",
       "    <tr>\n",
       "      <th>3</th>\n",
       "      <td>tumor</td>\n",
       "      <td>4.986942</td>\n",
       "      <td>0.729600</td>\n",
       "      <td>4.383422</td>\n",
       "      <td>4.086280</td>\n",
       "      <td>2.062667</td>\n",
       "      <td>-1.376835</td>\n",
       "      <td>0.982928</td>\n",
       "      <td>1.034371</td>\n",
       "      <td>2.159029</td>\n",
       "      <td>2.961957</td>\n",
       "      <td>1.935673</td>\n",
       "      <td>2.357883</td>\n",
       "      <td>1.911661</td>\n",
       "    </tr>\n",
       "    <tr>\n",
       "      <th>4</th>\n",
       "      <td>tumor</td>\n",
       "      <td>4.652436</td>\n",
       "      <td>0.729600</td>\n",
       "      <td>4.048674</td>\n",
       "      <td>3.751532</td>\n",
       "      <td>1.104336</td>\n",
       "      <td>1.084230</td>\n",
       "      <td>-0.262603</td>\n",
       "      <td>-0.786644</td>\n",
       "      <td>1.170838</td>\n",
       "      <td>2.626601</td>\n",
       "      <td>0.947315</td>\n",
       "      <td>2.023498</td>\n",
       "      <td>2.658551</td>\n",
       "    </tr>\n",
       "    <tr>\n",
       "      <th>5</th>\n",
       "      <td>tumor</td>\n",
       "      <td>5.687537</td>\n",
       "      <td>0.729600</td>\n",
       "      <td>5.084324</td>\n",
       "      <td>4.787182</td>\n",
       "      <td>2.026373</td>\n",
       "      <td>-1.376835</td>\n",
       "      <td>1.868627</td>\n",
       "      <td>1.774140</td>\n",
       "      <td>1.609166</td>\n",
       "      <td>3.663628</td>\n",
       "      <td>1.385737</td>\n",
       "      <td>3.058324</td>\n",
       "      <td>1.574140</td>\n",
       "    </tr>\n",
       "    <tr>\n",
       "      <th>6</th>\n",
       "      <td>tumor</td>\n",
       "      <td>5.551245</td>\n",
       "      <td>3.381490</td>\n",
       "      <td>4.947988</td>\n",
       "      <td>4.650846</td>\n",
       "      <td>2.037760</td>\n",
       "      <td>2.896852</td>\n",
       "      <td>1.062343</td>\n",
       "      <td>1.128089</td>\n",
       "      <td>1.714681</td>\n",
       "      <td>3.527182</td>\n",
       "      <td>1.491269</td>\n",
       "      <td>2.922054</td>\n",
       "      <td>1.545400</td>\n",
       "    </tr>\n",
       "    <tr>\n",
       "      <th>7</th>\n",
       "      <td>tumor</td>\n",
       "      <td>5.461571</td>\n",
       "      <td>0.729600</td>\n",
       "      <td>4.858282</td>\n",
       "      <td>4.561140</td>\n",
       "      <td>1.720112</td>\n",
       "      <td>2.052385</td>\n",
       "      <td>1.412731</td>\n",
       "      <td>1.393695</td>\n",
       "      <td>1.642708</td>\n",
       "      <td>3.437394</td>\n",
       "      <td>1.419285</td>\n",
       "      <td>2.832397</td>\n",
       "      <td>1.784519</td>\n",
       "    </tr>\n",
       "    <tr>\n",
       "      <th>8</th>\n",
       "      <td>tumor</td>\n",
       "      <td>5.378565</td>\n",
       "      <td>3.598528</td>\n",
       "      <td>4.775242</td>\n",
       "      <td>4.478101</td>\n",
       "      <td>2.037691</td>\n",
       "      <td>1.559630</td>\n",
       "      <td>1.524615</td>\n",
       "      <td>1.572056</td>\n",
       "      <td>2.002610</td>\n",
       "      <td>3.354272</td>\n",
       "      <td>1.779236</td>\n",
       "      <td>2.749407</td>\n",
       "      <td>1.292128</td>\n",
       "    </tr>\n",
       "    <tr>\n",
       "      <th>9</th>\n",
       "      <td>tumor</td>\n",
       "      <td>6.096375</td>\n",
       "      <td>4.930324</td>\n",
       "      <td>5.493264</td>\n",
       "      <td>5.196122</td>\n",
       "      <td>1.926306</td>\n",
       "      <td>4.218971</td>\n",
       "      <td>1.449541</td>\n",
       "      <td>1.513785</td>\n",
       "      <td>1.922694</td>\n",
       "      <td>4.072823</td>\n",
       "      <td>1.650671</td>\n",
       "      <td>3.467112</td>\n",
       "      <td>1.313707</td>\n",
       "    </tr>\n",
       "    <tr>\n",
       "      <th>10</th>\n",
       "      <td>tumor</td>\n",
       "      <td>5.681492</td>\n",
       "      <td>3.989273</td>\n",
       "      <td>5.078277</td>\n",
       "      <td>4.781136</td>\n",
       "      <td>2.792025</td>\n",
       "      <td>3.713077</td>\n",
       "      <td>1.511807</td>\n",
       "      <td>1.527451</td>\n",
       "      <td>2.870493</td>\n",
       "      <td>3.657577</td>\n",
       "      <td>2.647186</td>\n",
       "      <td>3.052280</td>\n",
       "      <td>1.800345</td>\n",
       "    </tr>\n",
       "    <tr>\n",
       "      <th>11</th>\n",
       "      <td>tumor</td>\n",
       "      <td>5.093441</td>\n",
       "      <td>3.810604</td>\n",
       "      <td>4.489983</td>\n",
       "      <td>4.192841</td>\n",
       "      <td>2.260659</td>\n",
       "      <td>2.443929</td>\n",
       "      <td>1.876698</td>\n",
       "      <td>1.954435</td>\n",
       "      <td>2.197438</td>\n",
       "      <td>3.068672</td>\n",
       "      <td>1.974085</td>\n",
       "      <td>2.464351</td>\n",
       "      <td>1.906085</td>\n",
       "    </tr>\n",
       "    <tr>\n",
       "      <th>12</th>\n",
       "      <td>tumor</td>\n",
       "      <td>5.256544</td>\n",
       "      <td>0.729600</td>\n",
       "      <td>4.653168</td>\n",
       "      <td>4.356027</td>\n",
       "      <td>1.937849</td>\n",
       "      <td>-1.376835</td>\n",
       "      <td>1.722930</td>\n",
       "      <td>1.737621</td>\n",
       "      <td>2.014042</td>\n",
       "      <td>3.232065</td>\n",
       "      <td>1.790671</td>\n",
       "      <td>2.627413</td>\n",
       "      <td>1.750197</td>\n",
       "    </tr>\n",
       "    <tr>\n",
       "      <th>13</th>\n",
       "      <td>tumor</td>\n",
       "      <td>5.419040</td>\n",
       "      <td>2.953405</td>\n",
       "      <td>4.815734</td>\n",
       "      <td>4.518592</td>\n",
       "      <td>2.504054</td>\n",
       "      <td>2.614330</td>\n",
       "      <td>1.977128</td>\n",
       "      <td>2.006367</td>\n",
       "      <td>2.584156</td>\n",
       "      <td>3.394805</td>\n",
       "      <td>2.360834</td>\n",
       "      <td>2.789874</td>\n",
       "      <td>1.674840</td>\n",
       "    </tr>\n",
       "    <tr>\n",
       "      <th>14</th>\n",
       "      <td>tumor</td>\n",
       "      <td>5.535007</td>\n",
       "      <td>3.464495</td>\n",
       "      <td>4.931744</td>\n",
       "      <td>4.634602</td>\n",
       "      <td>2.519661</td>\n",
       "      <td>1.425033</td>\n",
       "      <td>1.945705</td>\n",
       "      <td>1.896289</td>\n",
       "      <td>2.579192</td>\n",
       "      <td>3.510924</td>\n",
       "      <td>2.355869</td>\n",
       "      <td>2.905819</td>\n",
       "      <td>1.902172</td>\n",
       "    </tr>\n",
       "    <tr>\n",
       "      <th>15</th>\n",
       "      <td>tumor</td>\n",
       "      <td>5.538687</td>\n",
       "      <td>3.369757</td>\n",
       "      <td>4.935426</td>\n",
       "      <td>4.638284</td>\n",
       "      <td>1.794077</td>\n",
       "      <td>-1.376835</td>\n",
       "      <td>1.741181</td>\n",
       "      <td>1.706883</td>\n",
       "      <td>1.864038</td>\n",
       "      <td>3.514609</td>\n",
       "      <td>1.640647</td>\n",
       "      <td>2.909499</td>\n",
       "      <td>1.335354</td>\n",
       "    </tr>\n",
       "    <tr>\n",
       "      <th>16</th>\n",
       "      <td>tumor</td>\n",
       "      <td>5.420440</td>\n",
       "      <td>3.259773</td>\n",
       "      <td>4.817135</td>\n",
       "      <td>4.519993</td>\n",
       "      <td>2.094079</td>\n",
       "      <td>-1.376835</td>\n",
       "      <td>1.685503</td>\n",
       "      <td>1.614106</td>\n",
       "      <td>2.080908</td>\n",
       "      <td>3.396207</td>\n",
       "      <td>1.857544</td>\n",
       "      <td>2.791274</td>\n",
       "      <td>1.388137</td>\n",
       "    </tr>\n",
       "    <tr>\n",
       "      <th>17</th>\n",
       "      <td>tumor</td>\n",
       "      <td>6.084710</td>\n",
       "      <td>0.729600</td>\n",
       "      <td>5.481597</td>\n",
       "      <td>5.184455</td>\n",
       "      <td>2.359826</td>\n",
       "      <td>2.281555</td>\n",
       "      <td>1.457238</td>\n",
       "      <td>1.480428</td>\n",
       "      <td>2.486127</td>\n",
       "      <td>4.061150</td>\n",
       "      <td>2.262798</td>\n",
       "      <td>3.455448</td>\n",
       "      <td>1.280339</td>\n",
       "    </tr>\n",
       "    <tr>\n",
       "      <th>18</th>\n",
       "      <td>tumor</td>\n",
       "      <td>5.808309</td>\n",
       "      <td>0.729600</td>\n",
       "      <td>5.205130</td>\n",
       "      <td>4.907989</td>\n",
       "      <td>2.475634</td>\n",
       "      <td>1.745829</td>\n",
       "      <td>1.963147</td>\n",
       "      <td>2.005298</td>\n",
       "      <td>2.614698</td>\n",
       "      <td>3.784521</td>\n",
       "      <td>2.391378</td>\n",
       "      <td>3.179079</td>\n",
       "      <td>1.604979</td>\n",
       "    </tr>\n",
       "    <tr>\n",
       "      <th>19</th>\n",
       "      <td>tumor</td>\n",
       "      <td>4.911289</td>\n",
       "      <td>4.199096</td>\n",
       "      <td>4.307721</td>\n",
       "      <td>4.010580</td>\n",
       "      <td>2.342271</td>\n",
       "      <td>1.119829</td>\n",
       "      <td>1.779941</td>\n",
       "      <td>1.793490</td>\n",
       "      <td>2.277892</td>\n",
       "      <td>2.886136</td>\n",
       "      <td>2.054547</td>\n",
       "      <td>2.282254</td>\n",
       "      <td>1.492575</td>\n",
       "    </tr>\n",
       "    <tr>\n",
       "      <th>20</th>\n",
       "      <td>tumor</td>\n",
       "      <td>5.147893</td>\n",
       "      <td>3.292594</td>\n",
       "      <td>4.449932</td>\n",
       "      <td>4.152791</td>\n",
       "      <td>1.571830</td>\n",
       "      <td>2.582957</td>\n",
       "      <td>1.923251</td>\n",
       "      <td>2.062863</td>\n",
       "      <td>1.425840</td>\n",
       "      <td>3.028565</td>\n",
       "      <td>1.202377</td>\n",
       "      <td>2.424334</td>\n",
       "      <td>1.312682</td>\n",
       "    </tr>\n",
       "    <tr>\n",
       "      <th>21</th>\n",
       "      <td>tumor</td>\n",
       "      <td>6.177095</td>\n",
       "      <td>0.729600</td>\n",
       "      <td>5.574000</td>\n",
       "      <td>5.276858</td>\n",
       "      <td>2.993904</td>\n",
       "      <td>1.221457</td>\n",
       "      <td>1.533994</td>\n",
       "      <td>1.508490</td>\n",
       "      <td>3.066865</td>\n",
       "      <td>4.153598</td>\n",
       "      <td>2.843567</td>\n",
       "      <td>3.547824</td>\n",
       "      <td>1.490365</td>\n",
       "    </tr>\n",
       "    <tr>\n",
       "      <th>22</th>\n",
       "      <td>tumor</td>\n",
       "      <td>5.759838</td>\n",
       "      <td>4.392725</td>\n",
       "      <td>5.156647</td>\n",
       "      <td>4.859505</td>\n",
       "      <td>1.867509</td>\n",
       "      <td>3.952490</td>\n",
       "      <td>1.523787</td>\n",
       "      <td>1.544414</td>\n",
       "      <td>1.960340</td>\n",
       "      <td>3.736004</td>\n",
       "      <td>1.732692</td>\n",
       "      <td>3.130615</td>\n",
       "      <td>1.422658</td>\n",
       "    </tr>\n",
       "    <tr>\n",
       "      <th>23</th>\n",
       "      <td>tumor</td>\n",
       "      <td>5.478164</td>\n",
       "      <td>0.729600</td>\n",
       "      <td>4.874881</td>\n",
       "      <td>4.577740</td>\n",
       "      <td>2.567590</td>\n",
       "      <td>2.745615</td>\n",
       "      <td>2.001702</td>\n",
       "      <td>2.082693</td>\n",
       "      <td>2.709843</td>\n",
       "      <td>3.454009</td>\n",
       "      <td>2.486528</td>\n",
       "      <td>2.848987</td>\n",
       "      <td>1.614880</td>\n",
       "    </tr>\n",
       "    <tr>\n",
       "      <th>24</th>\n",
       "      <td>normal</td>\n",
       "      <td>4.815786</td>\n",
       "      <td>3.276953</td>\n",
       "      <td>4.212152</td>\n",
       "      <td>3.915010</td>\n",
       "      <td>2.168119</td>\n",
       "      <td>1.236562</td>\n",
       "      <td>2.230408</td>\n",
       "      <td>2.285563</td>\n",
       "      <td>2.134513</td>\n",
       "      <td>2.790401</td>\n",
       "      <td>1.911154</td>\n",
       "      <td>2.186784</td>\n",
       "      <td>1.432676</td>\n",
       "    </tr>\n",
       "    <tr>\n",
       "      <th>25</th>\n",
       "      <td>normal</td>\n",
       "      <td>6.109242</td>\n",
       "      <td>3.452862</td>\n",
       "      <td>5.506134</td>\n",
       "      <td>5.208992</td>\n",
       "      <td>1.939176</td>\n",
       "      <td>2.904338</td>\n",
       "      <td>1.208422</td>\n",
       "      <td>1.188454</td>\n",
       "      <td>1.952969</td>\n",
       "      <td>4.085699</td>\n",
       "      <td>1.729590</td>\n",
       "      <td>3.479978</td>\n",
       "      <td>1.151114</td>\n",
       "    </tr>\n",
       "    <tr>\n",
       "      <th>26</th>\n",
       "      <td>normal</td>\n",
       "      <td>5.324969</td>\n",
       "      <td>2.482491</td>\n",
       "      <td>4.721624</td>\n",
       "      <td>4.424483</td>\n",
       "      <td>2.060970</td>\n",
       "      <td>1.043478</td>\n",
       "      <td>1.253908</td>\n",
       "      <td>1.092901</td>\n",
       "      <td>1.777107</td>\n",
       "      <td>3.300598</td>\n",
       "      <td>1.553705</td>\n",
       "      <td>2.695823</td>\n",
       "      <td>1.510141</td>\n",
       "    </tr>\n",
       "    <tr>\n",
       "      <th>27</th>\n",
       "      <td>normal</td>\n",
       "      <td>5.499959</td>\n",
       "      <td>3.762896</td>\n",
       "      <td>4.896684</td>\n",
       "      <td>4.599543</td>\n",
       "      <td>2.046035</td>\n",
       "      <td>3.076566</td>\n",
       "      <td>1.954357</td>\n",
       "      <td>1.871178</td>\n",
       "      <td>2.118582</td>\n",
       "      <td>3.475832</td>\n",
       "      <td>1.895222</td>\n",
       "      <td>2.870778</td>\n",
       "      <td>1.564130</td>\n",
       "    </tr>\n",
       "    <tr>\n",
       "      <th>28</th>\n",
       "      <td>normal</td>\n",
       "      <td>5.881095</td>\n",
       "      <td>3.391666</td>\n",
       "      <td>5.277935</td>\n",
       "      <td>4.980794</td>\n",
       "      <td>2.136419</td>\n",
       "      <td>3.688557</td>\n",
       "      <td>1.893503</td>\n",
       "      <td>1.913848</td>\n",
       "      <td>2.149154</td>\n",
       "      <td>3.857373</td>\n",
       "      <td>1.925796</td>\n",
       "      <td>3.251856</td>\n",
       "      <td>1.791004</td>\n",
       "    </tr>\n",
       "    <tr>\n",
       "      <th>29</th>\n",
       "      <td>normal</td>\n",
       "      <td>5.456849</td>\n",
       "      <td>3.541113</td>\n",
       "      <td>4.853558</td>\n",
       "      <td>4.556416</td>\n",
       "      <td>1.862163</td>\n",
       "      <td>2.166627</td>\n",
       "      <td>1.833441</td>\n",
       "      <td>1.915848</td>\n",
       "      <td>1.855079</td>\n",
       "      <td>3.432666</td>\n",
       "      <td>1.631687</td>\n",
       "      <td>2.827676</td>\n",
       "      <td>1.348809</td>\n",
       "    </tr>\n",
       "    <tr>\n",
       "      <th>30</th>\n",
       "      <td>normal</td>\n",
       "      <td>5.987381</td>\n",
       "      <td>0.729600</td>\n",
       "      <td>5.384246</td>\n",
       "      <td>5.087105</td>\n",
       "      <td>2.086782</td>\n",
       "      <td>2.003178</td>\n",
       "      <td>1.511139</td>\n",
       "      <td>1.550021</td>\n",
       "      <td>2.076887</td>\n",
       "      <td>3.963747</td>\n",
       "      <td>1.853522</td>\n",
       "      <td>3.358129</td>\n",
       "      <td>1.621385</td>\n",
       "    </tr>\n",
       "    <tr>\n",
       "      <th>31</th>\n",
       "      <td>normal</td>\n",
       "      <td>5.821975</td>\n",
       "      <td>4.404599</td>\n",
       "      <td>5.218800</td>\n",
       "      <td>4.921659</td>\n",
       "      <td>2.031049</td>\n",
       "      <td>3.736276</td>\n",
       "      <td>1.531811</td>\n",
       "      <td>1.647883</td>\n",
       "      <td>1.966077</td>\n",
       "      <td>3.798200</td>\n",
       "      <td>1.742699</td>\n",
       "      <td>3.192744</td>\n",
       "      <td>1.108022</td>\n",
       "    </tr>\n",
       "    <tr>\n",
       "      <th>32</th>\n",
       "      <td>normal</td>\n",
       "      <td>6.096031</td>\n",
       "      <td>3.118768</td>\n",
       "      <td>5.478365</td>\n",
       "      <td>5.181224</td>\n",
       "      <td>1.584907</td>\n",
       "      <td>4.358136</td>\n",
       "      <td>1.210131</td>\n",
       "      <td>1.198727</td>\n",
       "      <td>1.430166</td>\n",
       "      <td>4.057917</td>\n",
       "      <td>1.206704</td>\n",
       "      <td>3.452218</td>\n",
       "      <td>0.796676</td>\n",
       "    </tr>\n",
       "    <tr>\n",
       "      <th>33</th>\n",
       "      <td>normal</td>\n",
       "      <td>6.001041</td>\n",
       "      <td>5.642696</td>\n",
       "      <td>5.397910</td>\n",
       "      <td>5.100768</td>\n",
       "      <td>1.953171</td>\n",
       "      <td>4.988359</td>\n",
       "      <td>1.042332</td>\n",
       "      <td>1.026110</td>\n",
       "      <td>1.925533</td>\n",
       "      <td>3.977418</td>\n",
       "      <td>1.599819</td>\n",
       "      <td>3.371788</td>\n",
       "      <td>0.998523</td>\n",
       "    </tr>\n",
       "    <tr>\n",
       "      <th>34</th>\n",
       "      <td>normal</td>\n",
       "      <td>5.275066</td>\n",
       "      <td>2.640472</td>\n",
       "      <td>4.671699</td>\n",
       "      <td>4.374558</td>\n",
       "      <td>2.661489</td>\n",
       "      <td>3.288062</td>\n",
       "      <td>1.492105</td>\n",
       "      <td>1.298032</td>\n",
       "      <td>2.769461</td>\n",
       "      <td>3.250617</td>\n",
       "      <td>2.546149</td>\n",
       "      <td>2.645931</td>\n",
       "      <td>2.251451</td>\n",
       "    </tr>\n",
       "    <tr>\n",
       "      <th>35</th>\n",
       "      <td>normal</td>\n",
       "      <td>6.292716</td>\n",
       "      <td>4.136168</td>\n",
       "      <td>5.689641</td>\n",
       "      <td>5.392499</td>\n",
       "      <td>2.129016</td>\n",
       "      <td>4.880983</td>\n",
       "      <td>0.484597</td>\n",
       "      <td>0.434750</td>\n",
       "      <td>2.174085</td>\n",
       "      <td>4.269289</td>\n",
       "      <td>1.928140</td>\n",
       "      <td>3.663435</td>\n",
       "      <td>1.390313</td>\n",
       "    </tr>\n",
       "    <tr>\n",
       "      <th>36</th>\n",
       "      <td>normal</td>\n",
       "      <td>5.999539</td>\n",
       "      <td>4.212153</td>\n",
       "      <td>5.396407</td>\n",
       "      <td>5.099266</td>\n",
       "      <td>1.777442</td>\n",
       "      <td>1.998452</td>\n",
       "      <td>1.033122</td>\n",
       "      <td>1.096334</td>\n",
       "      <td>1.626206</td>\n",
       "      <td>3.975915</td>\n",
       "      <td>1.402780</td>\n",
       "      <td>3.370286</td>\n",
       "      <td>1.306935</td>\n",
       "    </tr>\n",
       "    <tr>\n",
       "      <th>37</th>\n",
       "      <td>normal</td>\n",
       "      <td>5.879250</td>\n",
       "      <td>4.384312</td>\n",
       "      <td>5.276090</td>\n",
       "      <td>4.978949</td>\n",
       "      <td>2.196346</td>\n",
       "      <td>1.466812</td>\n",
       "      <td>1.516946</td>\n",
       "      <td>1.511663</td>\n",
       "      <td>2.170511</td>\n",
       "      <td>3.855527</td>\n",
       "      <td>1.936485</td>\n",
       "      <td>3.250011</td>\n",
       "      <td>1.391459</td>\n",
       "    </tr>\n",
       "    <tr>\n",
       "      <th>38</th>\n",
       "      <td>normal</td>\n",
       "      <td>5.600849</td>\n",
       "      <td>3.985338</td>\n",
       "      <td>4.997609</td>\n",
       "      <td>4.700468</td>\n",
       "      <td>2.207291</td>\n",
       "      <td>3.264473</td>\n",
       "      <td>1.154477</td>\n",
       "      <td>1.163445</td>\n",
       "      <td>2.168618</td>\n",
       "      <td>3.576845</td>\n",
       "      <td>1.945262</td>\n",
       "      <td>2.971650</td>\n",
       "      <td>1.632869</td>\n",
       "    </tr>\n",
       "    <tr>\n",
       "      <th>39</th>\n",
       "      <td>normal</td>\n",
       "      <td>5.524548</td>\n",
       "      <td>4.012887</td>\n",
       "      <td>4.921281</td>\n",
       "      <td>4.624140</td>\n",
       "      <td>2.344204</td>\n",
       "      <td>2.766610</td>\n",
       "      <td>1.705046</td>\n",
       "      <td>1.743881</td>\n",
       "      <td>2.436163</td>\n",
       "      <td>3.500452</td>\n",
       "      <td>2.212830</td>\n",
       "      <td>2.895362</td>\n",
       "      <td>1.843525</td>\n",
       "    </tr>\n",
       "    <tr>\n",
       "      <th>40</th>\n",
       "      <td>normal</td>\n",
       "      <td>5.614276</td>\n",
       "      <td>4.965885</td>\n",
       "      <td>5.011040</td>\n",
       "      <td>4.713898</td>\n",
       "      <td>2.026430</td>\n",
       "      <td>2.334944</td>\n",
       "      <td>1.833516</td>\n",
       "      <td>1.890983</td>\n",
       "      <td>2.037491</td>\n",
       "      <td>3.590287</td>\n",
       "      <td>1.814122</td>\n",
       "      <td>2.985075</td>\n",
       "      <td>1.604137</td>\n",
       "    </tr>\n",
       "    <tr>\n",
       "      <th>41</th>\n",
       "      <td>normal</td>\n",
       "      <td>5.772555</td>\n",
       "      <td>0.729600</td>\n",
       "      <td>5.169367</td>\n",
       "      <td>4.872226</td>\n",
       "      <td>1.962158</td>\n",
       "      <td>1.803948</td>\n",
       "      <td>1.434335</td>\n",
       "      <td>1.374233</td>\n",
       "      <td>2.007669</td>\n",
       "      <td>3.748734</td>\n",
       "      <td>1.784297</td>\n",
       "      <td>3.143331</td>\n",
       "      <td>0.769901</td>\n",
       "    </tr>\n",
       "    <tr>\n",
       "      <th>42</th>\n",
       "      <td>normal</td>\n",
       "      <td>5.604361</td>\n",
       "      <td>0.729600</td>\n",
       "      <td>5.001122</td>\n",
       "      <td>4.703981</td>\n",
       "      <td>1.573282</td>\n",
       "      <td>2.167048</td>\n",
       "      <td>1.275436</td>\n",
       "      <td>1.282741</td>\n",
       "      <td>1.538305</td>\n",
       "      <td>3.580361</td>\n",
       "      <td>1.314863</td>\n",
       "      <td>2.975162</td>\n",
       "      <td>1.559560</td>\n",
       "    </tr>\n",
       "    <tr>\n",
       "      <th>43</th>\n",
       "      <td>normal</td>\n",
       "      <td>5.645244</td>\n",
       "      <td>2.755782</td>\n",
       "      <td>5.042019</td>\n",
       "      <td>4.744877</td>\n",
       "      <td>1.965693</td>\n",
       "      <td>3.477624</td>\n",
       "      <td>1.270905</td>\n",
       "      <td>1.285973</td>\n",
       "      <td>1.982097</td>\n",
       "      <td>3.621290</td>\n",
       "      <td>1.753104</td>\n",
       "      <td>3.016039</td>\n",
       "      <td>1.579182</td>\n",
       "    </tr>\n",
       "    <tr>\n",
       "      <th>44</th>\n",
       "      <td>normal</td>\n",
       "      <td>6.222986</td>\n",
       "      <td>5.077926</td>\n",
       "      <td>5.619899</td>\n",
       "      <td>5.322758</td>\n",
       "      <td>1.854675</td>\n",
       "      <td>3.596497</td>\n",
       "      <td>1.258329</td>\n",
       "      <td>1.246613</td>\n",
       "      <td>1.841533</td>\n",
       "      <td>4.199518</td>\n",
       "      <td>1.618140</td>\n",
       "      <td>3.593711</td>\n",
       "      <td>1.214610</td>\n",
       "    </tr>\n",
       "    <tr>\n",
       "      <th>45</th>\n",
       "      <td>normal</td>\n",
       "      <td>6.529298</td>\n",
       "      <td>5.225765</td>\n",
       "      <td>5.926258</td>\n",
       "      <td>5.629116</td>\n",
       "      <td>1.987778</td>\n",
       "      <td>3.523518</td>\n",
       "      <td>1.127549</td>\n",
       "      <td>1.213226</td>\n",
       "      <td>1.965458</td>\n",
       "      <td>4.505993</td>\n",
       "      <td>1.694966</td>\n",
       "      <td>3.900000</td>\n",
       "      <td>1.501903</td>\n",
       "    </tr>\n",
       "    <tr>\n",
       "      <th>46</th>\n",
       "      <td>normal</td>\n",
       "      <td>5.965709</td>\n",
       "      <td>4.880036</td>\n",
       "      <td>5.362570</td>\n",
       "      <td>5.065429</td>\n",
       "      <td>2.279797</td>\n",
       "      <td>4.086189</td>\n",
       "      <td>1.822630</td>\n",
       "      <td>1.888660</td>\n",
       "      <td>2.423181</td>\n",
       "      <td>3.942059</td>\n",
       "      <td>2.186080</td>\n",
       "      <td>3.336460</td>\n",
       "      <td>1.028047</td>\n",
       "    </tr>\n",
       "    <tr>\n",
       "      <th>47</th>\n",
       "      <td>normal</td>\n",
       "      <td>5.224716</td>\n",
       "      <td>0.729600</td>\n",
       "      <td>4.621325</td>\n",
       "      <td>4.324183</td>\n",
       "      <td>1.812651</td>\n",
       "      <td>1.751612</td>\n",
       "      <td>2.346821</td>\n",
       "      <td>2.446112</td>\n",
       "      <td>1.712824</td>\n",
       "      <td>3.200183</td>\n",
       "      <td>1.489412</td>\n",
       "      <td>2.595592</td>\n",
       "      <td>1.534188</td>\n",
       "    </tr>\n",
       "    <tr>\n",
       "      <th>48</th>\n",
       "      <td>normal</td>\n",
       "      <td>5.194492</td>\n",
       "      <td>3.472520</td>\n",
       "      <td>4.591086</td>\n",
       "      <td>4.293945</td>\n",
       "      <td>2.279039</td>\n",
       "      <td>2.773180</td>\n",
       "      <td>1.883279</td>\n",
       "      <td>1.951842</td>\n",
       "      <td>2.046046</td>\n",
       "      <td>3.169908</td>\n",
       "      <td>1.822678</td>\n",
       "      <td>2.565376</td>\n",
       "      <td>1.704885</td>\n",
       "    </tr>\n",
       "    <tr>\n",
       "      <th>49</th>\n",
       "      <td>normal</td>\n",
       "      <td>5.795582</td>\n",
       "      <td>2.943668</td>\n",
       "      <td>5.192400</td>\n",
       "      <td>4.895259</td>\n",
       "      <td>2.437677</td>\n",
       "      <td>1.753952</td>\n",
       "      <td>2.008720</td>\n",
       "      <td>2.037697</td>\n",
       "      <td>2.542049</td>\n",
       "      <td>3.771782</td>\n",
       "      <td>2.318723</td>\n",
       "      <td>3.166354</td>\n",
       "      <td>2.025756</td>\n",
       "    </tr>\n",
       "  </tbody>\n",
       "</table>\n",
       "</div>"
      ],
      "text/plain": [
       "     group  piR.hsa.100956  piR.hsa.1288731  piR.hsa.131631  piR.hsa.138412  \\\n",
       "0    tumor        5.916746         0.729600        5.313596        5.016454   \n",
       "1    tumor        5.446118         4.705826        4.842823        4.545681   \n",
       "2    tumor        5.046015         0.729600        4.442530        4.145389   \n",
       "3    tumor        4.986942         0.729600        4.383422        4.086280   \n",
       "4    tumor        4.652436         0.729600        4.048674        3.751532   \n",
       "5    tumor        5.687537         0.729600        5.084324        4.787182   \n",
       "6    tumor        5.551245         3.381490        4.947988        4.650846   \n",
       "7    tumor        5.461571         0.729600        4.858282        4.561140   \n",
       "8    tumor        5.378565         3.598528        4.775242        4.478101   \n",
       "9    tumor        6.096375         4.930324        5.493264        5.196122   \n",
       "10   tumor        5.681492         3.989273        5.078277        4.781136   \n",
       "11   tumor        5.093441         3.810604        4.489983        4.192841   \n",
       "12   tumor        5.256544         0.729600        4.653168        4.356027   \n",
       "13   tumor        5.419040         2.953405        4.815734        4.518592   \n",
       "14   tumor        5.535007         3.464495        4.931744        4.634602   \n",
       "15   tumor        5.538687         3.369757        4.935426        4.638284   \n",
       "16   tumor        5.420440         3.259773        4.817135        4.519993   \n",
       "17   tumor        6.084710         0.729600        5.481597        5.184455   \n",
       "18   tumor        5.808309         0.729600        5.205130        4.907989   \n",
       "19   tumor        4.911289         4.199096        4.307721        4.010580   \n",
       "20   tumor        5.147893         3.292594        4.449932        4.152791   \n",
       "21   tumor        6.177095         0.729600        5.574000        5.276858   \n",
       "22   tumor        5.759838         4.392725        5.156647        4.859505   \n",
       "23   tumor        5.478164         0.729600        4.874881        4.577740   \n",
       "24  normal        4.815786         3.276953        4.212152        3.915010   \n",
       "25  normal        6.109242         3.452862        5.506134        5.208992   \n",
       "26  normal        5.324969         2.482491        4.721624        4.424483   \n",
       "27  normal        5.499959         3.762896        4.896684        4.599543   \n",
       "28  normal        5.881095         3.391666        5.277935        4.980794   \n",
       "29  normal        5.456849         3.541113        4.853558        4.556416   \n",
       "30  normal        5.987381         0.729600        5.384246        5.087105   \n",
       "31  normal        5.821975         4.404599        5.218800        4.921659   \n",
       "32  normal        6.096031         3.118768        5.478365        5.181224   \n",
       "33  normal        6.001041         5.642696        5.397910        5.100768   \n",
       "34  normal        5.275066         2.640472        4.671699        4.374558   \n",
       "35  normal        6.292716         4.136168        5.689641        5.392499   \n",
       "36  normal        5.999539         4.212153        5.396407        5.099266   \n",
       "37  normal        5.879250         4.384312        5.276090        4.978949   \n",
       "38  normal        5.600849         3.985338        4.997609        4.700468   \n",
       "39  normal        5.524548         4.012887        4.921281        4.624140   \n",
       "40  normal        5.614276         4.965885        5.011040        4.713898   \n",
       "41  normal        5.772555         0.729600        5.169367        4.872226   \n",
       "42  normal        5.604361         0.729600        5.001122        4.703981   \n",
       "43  normal        5.645244         2.755782        5.042019        4.744877   \n",
       "44  normal        6.222986         5.077926        5.619899        5.322758   \n",
       "45  normal        6.529298         5.225765        5.926258        5.629116   \n",
       "46  normal        5.965709         4.880036        5.362570        5.065429   \n",
       "47  normal        5.224716         0.729600        4.621325        4.324183   \n",
       "48  normal        5.194492         3.472520        4.591086        4.293945   \n",
       "49  normal        5.795582         2.943668        5.192400        4.895259   \n",
       "\n",
       "    piR.hsa.141155  piR.hsa.2499988  piR.hsa.2826866  piR.hsa.2826956  \\\n",
       "0         2.336389         2.325916         1.693659         1.712170   \n",
       "1         2.050439         3.132980         0.915356         0.744777   \n",
       "2         1.968416         1.245362         1.846907         1.806928   \n",
       "3         2.062667        -1.376835         0.982928         1.034371   \n",
       "4         1.104336         1.084230        -0.262603        -0.786644   \n",
       "5         2.026373        -1.376835         1.868627         1.774140   \n",
       "6         2.037760         2.896852         1.062343         1.128089   \n",
       "7         1.720112         2.052385         1.412731         1.393695   \n",
       "8         2.037691         1.559630         1.524615         1.572056   \n",
       "9         1.926306         4.218971         1.449541         1.513785   \n",
       "10        2.792025         3.713077         1.511807         1.527451   \n",
       "11        2.260659         2.443929         1.876698         1.954435   \n",
       "12        1.937849        -1.376835         1.722930         1.737621   \n",
       "13        2.504054         2.614330         1.977128         2.006367   \n",
       "14        2.519661         1.425033         1.945705         1.896289   \n",
       "15        1.794077        -1.376835         1.741181         1.706883   \n",
       "16        2.094079        -1.376835         1.685503         1.614106   \n",
       "17        2.359826         2.281555         1.457238         1.480428   \n",
       "18        2.475634         1.745829         1.963147         2.005298   \n",
       "19        2.342271         1.119829         1.779941         1.793490   \n",
       "20        1.571830         2.582957         1.923251         2.062863   \n",
       "21        2.993904         1.221457         1.533994         1.508490   \n",
       "22        1.867509         3.952490         1.523787         1.544414   \n",
       "23        2.567590         2.745615         2.001702         2.082693   \n",
       "24        2.168119         1.236562         2.230408         2.285563   \n",
       "25        1.939176         2.904338         1.208422         1.188454   \n",
       "26        2.060970         1.043478         1.253908         1.092901   \n",
       "27        2.046035         3.076566         1.954357         1.871178   \n",
       "28        2.136419         3.688557         1.893503         1.913848   \n",
       "29        1.862163         2.166627         1.833441         1.915848   \n",
       "30        2.086782         2.003178         1.511139         1.550021   \n",
       "31        2.031049         3.736276         1.531811         1.647883   \n",
       "32        1.584907         4.358136         1.210131         1.198727   \n",
       "33        1.953171         4.988359         1.042332         1.026110   \n",
       "34        2.661489         3.288062         1.492105         1.298032   \n",
       "35        2.129016         4.880983         0.484597         0.434750   \n",
       "36        1.777442         1.998452         1.033122         1.096334   \n",
       "37        2.196346         1.466812         1.516946         1.511663   \n",
       "38        2.207291         3.264473         1.154477         1.163445   \n",
       "39        2.344204         2.766610         1.705046         1.743881   \n",
       "40        2.026430         2.334944         1.833516         1.890983   \n",
       "41        1.962158         1.803948         1.434335         1.374233   \n",
       "42        1.573282         2.167048         1.275436         1.282741   \n",
       "43        1.965693         3.477624         1.270905         1.285973   \n",
       "44        1.854675         3.596497         1.258329         1.246613   \n",
       "45        1.987778         3.523518         1.127549         1.213226   \n",
       "46        2.279797         4.086189         1.822630         1.888660   \n",
       "47        1.812651         1.751612         2.346821         2.446112   \n",
       "48        2.279039         2.773180         1.883279         1.951842   \n",
       "49        2.437677         1.753952         2.008720         2.037697   \n",
       "\n",
       "    piR.hsa.2831324  piR.hsa.2833690  piR.hsa.2838249  piR.hsa.2851625  \\\n",
       "0          2.432793         3.893055         2.209460         3.287503   \n",
       "1          2.016852         3.421921         1.793480         2.816947   \n",
       "2          1.868522         3.021153         1.645132         2.416939   \n",
       "3          2.159029         2.961957         1.935673         2.357883   \n",
       "4          1.170838         2.626601         0.947315         2.023498   \n",
       "5          1.609166         3.663628         1.385737         3.058324   \n",
       "6          1.714681         3.527182         1.491269         2.922054   \n",
       "7          1.642708         3.437394         1.419285         2.832397   \n",
       "8          2.002610         3.354272         1.779236         2.749407   \n",
       "9          1.922694         4.072823         1.650671         3.467112   \n",
       "10         2.870493         3.657577         2.647186         3.052280   \n",
       "11         2.197438         3.068672         1.974085         2.464351   \n",
       "12         2.014042         3.232065         1.790671         2.627413   \n",
       "13         2.584156         3.394805         2.360834         2.789874   \n",
       "14         2.579192         3.510924         2.355869         2.905819   \n",
       "15         1.864038         3.514609         1.640647         2.909499   \n",
       "16         2.080908         3.396207         1.857544         2.791274   \n",
       "17         2.486127         4.061150         2.262798         3.455448   \n",
       "18         2.614698         3.784521         2.391378         3.179079   \n",
       "19         2.277892         2.886136         2.054547         2.282254   \n",
       "20         1.425840         3.028565         1.202377         2.424334   \n",
       "21         3.066865         4.153598         2.843567         3.547824   \n",
       "22         1.960340         3.736004         1.732692         3.130615   \n",
       "23         2.709843         3.454009         2.486528         2.848987   \n",
       "24         2.134513         2.790401         1.911154         2.186784   \n",
       "25         1.952969         4.085699         1.729590         3.479978   \n",
       "26         1.777107         3.300598         1.553705         2.695823   \n",
       "27         2.118582         3.475832         1.895222         2.870778   \n",
       "28         2.149154         3.857373         1.925796         3.251856   \n",
       "29         1.855079         3.432666         1.631687         2.827676   \n",
       "30         2.076887         3.963747         1.853522         3.358129   \n",
       "31         1.966077         3.798200         1.742699         3.192744   \n",
       "32         1.430166         4.057917         1.206704         3.452218   \n",
       "33         1.925533         3.977418         1.599819         3.371788   \n",
       "34         2.769461         3.250617         2.546149         2.645931   \n",
       "35         2.174085         4.269289         1.928140         3.663435   \n",
       "36         1.626206         3.975915         1.402780         3.370286   \n",
       "37         2.170511         3.855527         1.936485         3.250011   \n",
       "38         2.168618         3.576845         1.945262         2.971650   \n",
       "39         2.436163         3.500452         2.212830         2.895362   \n",
       "40         2.037491         3.590287         1.814122         2.985075   \n",
       "41         2.007669         3.748734         1.784297         3.143331   \n",
       "42         1.538305         3.580361         1.314863         2.975162   \n",
       "43         1.982097         3.621290         1.753104         3.016039   \n",
       "44         1.841533         4.199518         1.618140         3.593711   \n",
       "45         1.965458         4.505993         1.694966         3.900000   \n",
       "46         2.423181         3.942059         2.186080         3.336460   \n",
       "47         1.712824         3.200183         1.489412         2.595592   \n",
       "48         2.046046         3.169908         1.822678         2.565376   \n",
       "49         2.542049         3.771782         2.318723         3.166354   \n",
       "\n",
       "    piR.hsa.2851799  \n",
       "0          1.474482  \n",
       "1          1.582692  \n",
       "2          1.821030  \n",
       "3          1.911661  \n",
       "4          2.658551  \n",
       "5          1.574140  \n",
       "6          1.545400  \n",
       "7          1.784519  \n",
       "8          1.292128  \n",
       "9          1.313707  \n",
       "10         1.800345  \n",
       "11         1.906085  \n",
       "12         1.750197  \n",
       "13         1.674840  \n",
       "14         1.902172  \n",
       "15         1.335354  \n",
       "16         1.388137  \n",
       "17         1.280339  \n",
       "18         1.604979  \n",
       "19         1.492575  \n",
       "20         1.312682  \n",
       "21         1.490365  \n",
       "22         1.422658  \n",
       "23         1.614880  \n",
       "24         1.432676  \n",
       "25         1.151114  \n",
       "26         1.510141  \n",
       "27         1.564130  \n",
       "28         1.791004  \n",
       "29         1.348809  \n",
       "30         1.621385  \n",
       "31         1.108022  \n",
       "32         0.796676  \n",
       "33         0.998523  \n",
       "34         2.251451  \n",
       "35         1.390313  \n",
       "36         1.306935  \n",
       "37         1.391459  \n",
       "38         1.632869  \n",
       "39         1.843525  \n",
       "40         1.604137  \n",
       "41         0.769901  \n",
       "42         1.559560  \n",
       "43         1.579182  \n",
       "44         1.214610  \n",
       "45         1.501903  \n",
       "46         1.028047  \n",
       "47         1.534188  \n",
       "48         1.704885  \n",
       "49         2.025756  "
      ]
     },
     "execution_count": 168,
     "metadata": {},
     "output_type": "execute_result"
    }
   ],
   "source": [
    "test"
   ]
  },
  {
   "cell_type": "code",
   "execution_count": 169,
   "id": "03732a3f",
   "metadata": {},
   "outputs": [],
   "source": [
    "X_test=test.drop(columns=['group'])"
   ]
  },
  {
   "cell_type": "code",
   "execution_count": 170,
   "id": "26a0f2f3",
   "metadata": {},
   "outputs": [],
   "source": [
    "y_test=test['group']"
   ]
  },
  {
   "cell_type": "code",
   "execution_count": 171,
   "id": "f953818f",
   "metadata": {},
   "outputs": [
    {
     "name": "stdout",
     "output_type": "stream",
     "text": [
      "normal    26\n",
      "tumor     24\n",
      "Name: group, dtype: int64\n"
     ]
    }
   ],
   "source": [
    "print(test['group'].value_counts())"
   ]
  },
  {
   "cell_type": "code",
   "execution_count": 172,
   "id": "ba198a12",
   "metadata": {},
   "outputs": [],
   "source": [
    "#X_train, temp_set, y_train, y_temp = train_test_split(X, y, test_size=0.3, random_state=42)"
   ]
  },
  {
   "cell_type": "code",
   "execution_count": 173,
   "id": "87f61303",
   "metadata": {},
   "outputs": [],
   "source": [
    "# X_test, X_val, y_test, y_val = train_test_split(\n",
    "#     temp_set, y_temp, test_size=0.5, random_state=42)"
   ]
  },
  {
   "cell_type": "code",
   "execution_count": 174,
   "id": "77b4ff24",
   "metadata": {},
   "outputs": [
    {
     "data": {
      "text/plain": [
       "(50, 13)"
      ]
     },
     "execution_count": 174,
     "metadata": {},
     "output_type": "execute_result"
    }
   ],
   "source": [
    "X_test.shape"
   ]
  },
  {
   "cell_type": "code",
   "execution_count": 83,
   "id": "444eee3a",
   "metadata": {},
   "outputs": [
    {
     "data": {
      "text/plain": [
       "(812, 13)"
      ]
     },
     "execution_count": 83,
     "metadata": {},
     "output_type": "execute_result"
    }
   ],
   "source": [
    "X_train.shape"
   ]
  },
  {
   "cell_type": "code",
   "execution_count": 66,
   "id": "3e961936",
   "metadata": {},
   "outputs": [],
   "source": [
    "#X_val.shape"
   ]
  },
  {
   "cell_type": "code",
   "execution_count": 67,
   "id": "0ce8f9aa",
   "metadata": {},
   "outputs": [],
   "source": [
    "rf_classifier = RandomForestClassifier(random_state=42)"
   ]
  },
  {
   "cell_type": "code",
   "execution_count": 68,
   "id": "eb94fb7e",
   "metadata": {},
   "outputs": [
    {
     "data": {
      "text/plain": [
       "RandomForestClassifier(random_state=42)"
      ]
     },
     "execution_count": 68,
     "metadata": {},
     "output_type": "execute_result"
    }
   ],
   "source": [
    "rf_classifier.fit(X_train, y_train)"
   ]
  },
  {
   "cell_type": "code",
   "execution_count": 69,
   "id": "b981e2cb",
   "metadata": {},
   "outputs": [],
   "source": [
    "feature_importances = rf_classifier.feature_importances_"
   ]
  },
  {
   "cell_type": "code",
   "execution_count": 31,
   "id": "f7039b38",
   "metadata": {},
   "outputs": [],
   "source": [
    "feature_names = X_train.columns"
   ]
  },
  {
   "cell_type": "code",
   "execution_count": 32,
   "id": "9bcdcd87",
   "metadata": {},
   "outputs": [],
   "source": [
    "sorted_importances, sorted_features = zip(*sorted(zip(feature_importances, feature_names), reverse=True))"
   ]
  },
  {
   "cell_type": "code",
   "execution_count": 33,
   "id": "aa5b0549",
   "metadata": {},
   "outputs": [
    {
     "name": "stdout",
     "output_type": "stream",
     "text": [
      "Feature: piR.hsa.100956, Importance: 0.12171313005017292\n",
      "Feature: piR.hsa.2851799, Importance: 0.09760568252607138\n",
      "Feature: piR.hsa.131631, Importance: 0.08228431505750865\n",
      "Feature: piR.hsa.2499988, Importance: 0.07721030578234508\n",
      "Feature: piR.hsa.2838249, Importance: 0.07404075034598175\n",
      "Feature: piR.hsa.1288731, Importance: 0.07350416669109892\n",
      "Feature: piR.hsa.138412, Importance: 0.07188182692137564\n",
      "Feature: piR.hsa.2831324, Importance: 0.07084679740543341\n",
      "Feature: piR.hsa.2833690, Importance: 0.06986536293983721\n",
      "Feature: piR.hsa.141155, Importance: 0.06890655370660968\n",
      "Feature: piR.hsa.2826866, Importance: 0.06772142985249006\n",
      "Feature: piR.hsa.2826956, Importance: 0.0625695886969974\n",
      "Feature: piR.hsa.2851625, Importance: 0.06185009002407806\n"
     ]
    }
   ],
   "source": [
    "for feature, importance in zip(sorted_features, sorted_importances):\n",
    "    print(f\"Feature: {feature}, Importance: {importance}\")"
   ]
  },
  {
   "cell_type": "code",
   "execution_count": 25,
   "id": "f234e14c",
   "metadata": {},
   "outputs": [
    {
     "data": {
      "image/png": "[encoded data removed]",
      "text/plain": [
       "<Figure size 864x432 with 1 Axes>"
      ]
     },
     "metadata": {
      "needs_background": "light"
     },
     "output_type": "display_data"
    }
   ],
   "source": [
    "df = pd.DataFrame({'Features': sorted_features, 'Importances': sorted_importances})\n",
    "\n",
    "# Sort the DataFrame by Importances\n",
    "df = df.sort_values('Importances', ascending=False)\n",
    "\n",
    "# Bar Plot\n",
    "plt.figure(figsize=(12, 6))\n",
    "sns.barplot(x='Importances', y='Features', data=df,palette='YlGnBu')\n",
    "plt.xlabel('Importance')\n",
    "plt.ylabel('Features')\n",
    "plt.title('Feature Importances')\n",
    "#plt.savefig(\"/home/zgao/R/GEO_count/python_plot2/Training cohort feature_importance.pdf\", format='pdf')\n",
    "plt.show()"
   ]
  },
  {
   "cell_type": "code",
   "execution_count": 43,
   "id": "cb859429",
   "metadata": {},
   "outputs": [],
   "source": [
    "param_grid = {\n",
    "    'n_estimators': [50, 100, 200,300],\n",
    "    'max_features': ['sqrt', 2, 3, 4, 5],\n",
    "    'max_depth': [2, 3, 4, 5, None],\n",
    "    'min_samples_split': [2, 3, 4],\n",
    "   'min_samples_leaf': [1, 2, 3],\n",
    "    'bootstrap': [True, False]\n",
    "}"
   ]
  },
  {
   "cell_type": "code",
   "execution_count": 44,
   "id": "9d8c817b",
   "metadata": {},
   "outputs": [],
   "source": [
    "grid_search = GridSearchCV(estimator=rf_classifier, param_grid=param_grid,\n",
    "                           cv=5, n_jobs=50, verbose=2)"
   ]
  },
  {
   "cell_type": "code",
   "execution_count": 45,
   "id": "86c52fe9",
   "metadata": {},
   "outputs": [
    {
     "name": "stdout",
     "output_type": "stream",
     "text": [
      "Fitting 5 folds for each of 1800 candidates, totalling 9000 fits\n"
     ]
    },
    {
     "data": {
      "text/plain": [
       "GridSearchCV(cv=5, estimator=RandomForestClassifier(random_state=42), n_jobs=50,\n",
       "             param_grid={'bootstrap': [True, False],\n",
       "                         'max_depth': [2, 3, 4, 5, None],\n",
       "                         'max_features': ['sqrt', 2, 3, 4, 5],\n",
       "                         'min_samples_leaf': [1, 2, 3],\n",
       "                         'min_samples_split': [2, 3, 4],\n",
       "                         'n_estimators': [50, 100, 200, 300]},\n",
       "             verbose=2)"
      ]
     },
     "execution_count": 45,
     "metadata": {},
     "output_type": "execute_result"
    }
   ],
   "source": [
    "grid_search.fit(X_train, y_train)"
   ]
  },
  {
   "cell_type": "code",
   "execution_count": 40,
   "id": "33a4ea82",
   "metadata": {},
   "outputs": [
    {
     "name": "stdout",
     "output_type": "stream",
     "text": [
      "Best parameters found:  {'bootstrap': True, 'max_depth': None, 'max_features': 'sqrt', 'min_samples_leaf': 3, 'min_samples_split': 2, 'n_estimators': 50}\n"
     ]
    }
   ],
   "source": [
    "best_params = grid_search.best_params_\n",
    "best_params = {'bootstrap': True, 'max_depth': None, 'max_features': 'sqrt', 'min_samples_leaf': 3, 'min_samples_split': 2, 'n_estimators': 50}\n",
    "print(\"Best parameters found: \", best_params)"
   ]
  },
  {
   "cell_type": "code",
   "execution_count": 46,
   "id": "cee30e74",
   "metadata": {},
   "outputs": [
    {
     "data": {
      "text/plain": [
       "RandomForestClassifier(max_features='sqrt', min_samples_leaf=3, n_estimators=50,\n",
       "                       random_state=42)"
      ]
     },
     "execution_count": 46,
     "metadata": {},
     "output_type": "execute_result"
    }
   ],
   "source": [
    "best_rf_classifier = RandomForestClassifier(**best_params,random_state=42)\n",
    "best_rf_classifier.fit(X_train, y_train)"
   ]
  },
  {
   "cell_type": "code",
   "execution_count": 47,
   "id": "4aa91e11",
   "metadata": {},
   "outputs": [
    {
     "name": "stdout",
     "output_type": "stream",
     "text": [
      "train set accuracy:  0.958128078817734\n",
      "Average CV accuracy:  0.7929485722941754\n"
     ]
    }
   ],
   "source": [
    "accuracy_train = best_rf_classifier.score(X_train, y_train)\n",
    "print(\"train set accuracy: \", accuracy_train)\n",
    "\n",
    "average_cv_accuracy = grid_search.best_score_\n",
    "print(\"Average CV accuracy: \", average_cv_accuracy)"
   ]
  },
  {
   "cell_type": "code",
   "execution_count": 175,
   "id": "321dbaff",
   "metadata": {},
   "outputs": [
    {
     "name": "stdout",
     "output_type": "stream",
     "text": [
      "Test set accuracy:  0.6\n"
     ]
    }
   ],
   "source": [
    "accuracy_test = best_rf_classifier.score(X_test, y_test)\n",
    "\n",
    "print(\"Test set accuracy: \", accuracy_test)\n"
   ]
  },
  {
   "cell_type": "code",
   "execution_count": 138,
   "id": "610fd716",
   "metadata": {},
   "outputs": [
    {
     "name": "stdout",
     "output_type": "stream",
     "text": [
      "AUC_train: 0.9956791135298168\n",
      "Best Threshold=0.562429, Youden J=0.940\n"
     ]
    }
   ],
   "source": [
    "y_pred_proba_train = best_rf_classifier.predict_proba(X_train)[:, 1]\n",
    "fpr_train, tpr_train, thresholds_train = roc_curve(y_train, y_pred_proba_train, pos_label='tumor')\n",
    "auc_value_train = roc_auc_score(y_train, y_pred_proba_train)\n",
    "print(\"AUC_train:\",auc_value_train)\n",
    "youden_J_train = tpr_train - fpr_train\n",
    "\n",
    "# Locate the index of the largest J statistic\n",
    "ix = np.argmax(youden_J_train)\n",
    "optimal_threshold_train = thresholds_train[ix]\n",
    "\n",
    "print('Best Threshold=%f, Youden J=%.3f' % (optimal_threshold_train, youden_J_train[ix]))\n",
    "\n",
    "# gmeans_train = np.sqrt(tpr_train * (1-fpr_train))\n",
    "\n",
    "# # Locate the index of the largest G-mean\n",
    "# ix = np.argmax(gmeans_train)\n",
    "# print(\"AUC: \", auc_value_train)\n",
    "# print('Best Threshold=%f, G-Mean=%.3f' % (thresholds_train[ix], gmeans_train[ix]))"
   ]
  },
  {
   "cell_type": "code",
   "execution_count": 176,
   "id": "94032501",
   "metadata": {},
   "outputs": [
    {
     "name": "stdout",
     "output_type": "stream",
     "text": [
      "AUC_test: 0.6121794871794872\n",
      "Best Threshold=0.624263, Youden J=0.333\n"
     ]
    }
   ],
   "source": [
    "y_pred_proba_test = best_rf_classifier.predict_proba(X_test)[:, 1]\n",
    "fpr_test, tpr_test, thresholds_test = roc_curve(y_test, y_pred_proba_test, pos_label='tumor')\n",
    "auc_value_test = roc_auc_score(y_test, y_pred_proba_test)\n",
    "print(\"AUC_test:\",auc_value_test)\n",
    "youden_J_test = tpr_test - fpr_test\n",
    "\n",
    "# Locate the index of the largest J statistic\n",
    "ix_test = np.argmax(youden_J_test)\n",
    "optimal_threshold_test = thresholds_test[ix_test]\n",
    "\n",
    "print('Best Threshold=%f, Youden J=%.3f' % (optimal_threshold_test, youden_J_test[ix_test]))\n",
    "\n",
    "# gmeans_test = np.sqrt(tpr_test * (1-fpr_test))\n",
    "\n",
    "# # Locate the index of the largest G-mean\n",
    "# ix = np.argmax(gmeans_test)\n",
    "# print(\"AUC: \", auc_value_test)\n",
    "# print('Best Threshold=%f, G-Mean=%.3f' % (thresholds_test[ix], gmeans_test[ix]))\n"
   ]
  },
  {
   "cell_type": "code",
   "execution_count": 51,
   "id": "3ac2d992",
   "metadata": {},
   "outputs": [
    {
     "name": "stdout",
     "output_type": "stream",
     "text": [
      "F1-Score_train: 0.9678030303030303\n",
      "Precision_train: 0.948051948051948\n",
      "Recall_train: 0.988394584139265\n",
      "F1-Score_test: 0.8432203389830509\n",
      "Precision_test: 0.7991967871485943\n",
      "Recall_test: 0.8923766816143498\n"
     ]
    }
   ],
   "source": [
    "#threshold at 0.5\n",
    "y_pred_train=best_rf_classifier.predict(X_train)\n",
    "f1_train=f1_score(y_train,y_pred_train,pos_label='tumor')\n",
    "precision_train_score = precision_score(y_train, y_pred_train, pos_label='tumor')\n",
    "recall_train_score = recall_score(y_train, y_pred_train, pos_label='tumor')\n",
    "print(f\"F1-Score_train: {f1_train}\")\n",
    "print(f\"Precision_train: {precision_train_score}\")\n",
    "print(f\"Recall_train: {recall_train_score}\")\n",
    "\n",
    "y_pred_test=best_rf_classifier.predict(X_test)\n",
    "f1_test=f1_score(y_test,y_pred_test,pos_label='tumor')\n",
    "precision_test_score = precision_score(y_test, y_pred_test, pos_label='tumor')\n",
    "recall_test_score = recall_score(y_test, y_pred_test, pos_label='tumor')\n",
    "print(f\"F1-Score_test: {f1_test}\")\n",
    "print(f\"Precision_test: {precision_test_score}\")\n",
    "print(f\"Recall_test: {recall_test_score}\")\n",
    "\n"
   ]
  },
  {
   "cell_type": "code",
   "execution_count": 52,
   "id": "437f6f46",
   "metadata": {},
   "outputs": [
    {
     "name": "stdout",
     "output_type": "stream",
     "text": [
      "Optimal threshold: 0.44159523809523804\n",
      "best f score: 0.9787644787644788\n",
      "auprc_train: 0.9976260120765177\n",
      "PPV/Precision: 0.9276672694394213\n",
      "NPV: 0.9845559845559846\n",
      "Sensitivity/Recall: 0.9922630560928434\n",
      "Specificity: 0.864406779661017\n"
     ]
    }
   ],
   "source": [
    "precision_train, recall_train, thresholds_train = precision_recall_curve(y_train, y_pred_proba_train,pos_label='tumor')\n",
    "f1_scores_train = 2 * (precision_train * recall_train) / (precision_train + recall_train)\n",
    "# Handle division by zero in case precision and recall are both zero\n",
    "f1_scores_train = np.nan_to_num(f1_scores_train)\n",
    "\n",
    "optimal_idx_train = np.argmax(f1_scores_train)\n",
    "optimal_threshold_train = thresholds_test[optimal_idx_train]\n",
    "best_f1_score_train = f1_scores_train[optimal_idx_train] \n",
    "print(\"Optimal threshold:\", optimal_threshold_train)\n",
    "print(\"best f score:\", best_f1_score_train)\n",
    "\n",
    "\n",
    "y_pred_optimal_threshold_train = np.where(y_pred_proba_train >= optimal_threshold_train, \"tumor\", \"normal\")\n",
    "\n",
    "tn_train, fp_train, fn_train, tp_train = confusion_matrix(y_train, y_pred_optimal_threshold_train).ravel()\n",
    "\n",
    "ppv_train = tp_train / (tp_train + fp_train) if (tp_train + fp_train) != 0 else 0\n",
    "\n",
    "# Negative Predictive Value\n",
    "npv_train = tn_train / (tn_train + fn_train) if (tn_train + fn_train) != 0 else 0\n",
    "\n",
    "# Sensitivity (Recall)\n",
    "sensitivity_train = tp_train / (tp_train + fn_train) if (tp_train + fn_train) != 0 else 0\n",
    "\n",
    "# Specificity\n",
    "specificity_train = tn_train / (tn_train + fp_train) if (tn_train + fp_train) != 0 else 0\n",
    "\n",
    "#AUPRC\n",
    "auprc_train = auc(recall_train, precision_train)\n",
    "print(\"auprc_train:\", auprc_train)\n",
    "\n",
    "print(f\"PPV/Precision: {ppv_train}\")\n",
    "print(f\"NPV: {npv_train}\")\n",
    "print(f\"Sensitivity/Recall: {sensitivity_train}\")\n",
    "print(f\"Specificity: {specificity_train}\")"
   ]
  },
  {
   "cell_type": "code",
   "execution_count": 177,
   "id": "f4475adf",
   "metadata": {},
   "outputs": [
    {
     "name": "stdout",
     "output_type": "stream",
     "text": [
      "Optimal threshold: 0.6242626262626261\n",
      "best f score: 0.7017543859649124\n",
      "auprc_test: 0.5376626424088083\n",
      "PPV/Precision: 0.6060606060606061\n",
      "NPV: 0.7647058823529411\n",
      "Sensitivity/Recall: 0.8333333333333334\n",
      "Specificity: 0.5\n"
     ]
    }
   ],
   "source": [
    "precision_test, recall_test, thresholds_test = precision_recall_curve(y_test, y_pred_proba_test,pos_label='tumor')\n",
    "f1_scores_test = 2 * (precision_test * recall_test) / (precision_test + recall_test)\n",
    "# Handle division by zero in case precision and recall are both zero\n",
    "f1_scores_test = np.nan_to_num(f1_scores_test)\n",
    "\n",
    "optimal_idx_test = np.argmax(f1_scores_test)\n",
    "optimal_threshold_test = thresholds_test[optimal_idx_test]\n",
    "best_f1_score_test = f1_scores_test[optimal_idx_test] \n",
    "print(\"Optimal threshold:\", optimal_threshold_test)\n",
    "print(\"best f score:\", best_f1_score_test)\n",
    "\n",
    "\n",
    "y_pred_optimal_threshold_test = np.where(y_pred_proba_test >= optimal_threshold_test, \"tumor\", \"normal\")\n",
    "\n",
    "tn_test, fp_test, fn_test, tp_test = confusion_matrix(y_test, y_pred_optimal_threshold_test).ravel()\n",
    "\n",
    "ppv_test = tp_test / (tp_test + fp_test) if (tp_test + fp_test) != 0 else 0\n",
    "\n",
    "# Negative Predictive Value\n",
    "npv_test = tn_test / (tn_test + fn_test) if (tn_test + fn_test) != 0 else 0\n",
    "\n",
    "# Sensitivity (Recall)\n",
    "sensitivity_test = tp_test / (tp_test + fn_test) if (tp_test + fn_test) != 0 else 0\n",
    "\n",
    "# Specificity\n",
    "specificity_test = tn_test / (tn_test + fp_test) if (tn_test + fp_test) != 0 else 0\n",
    "\n",
    "\n",
    "#AUPRC\n",
    "auprc_test = auc(recall_test, precision_test)\n",
    "print(\"auprc_test:\", auprc_test)\n",
    "\n",
    "print(f\"PPV/Precision: {ppv_test}\")\n",
    "print(f\"NPV: {npv_test}\")\n",
    "print(f\"Sensitivity/Recall: {sensitivity_test}\")\n",
    "print(f\"Specificity: {specificity_test}\")"
   ]
  },
  {
   "cell_type": "code",
   "execution_count": 36,
   "id": "375b9908",
   "metadata": {},
   "outputs": [],
   "source": [
    "# y_pred_proba_val = best_rf_classifier.predict_proba(X_val)[:, 1]\n",
    "# fpr_val, tpr_val, thresholds_val = roc_curve(y_val, y_pred_proba_val, pos_label='tumor')\n",
    "# auc_value_val = roc_auc_score(y_val, y_pred_proba_val)\n",
    "\n",
    "# gmeans_val = np.sqrt(tpr_val * (1-fpr_val))\n",
    "\n",
    "# # Locate the index of the largest G-mean\n",
    "# ix = np.argmax(gmeans_val)\n",
    "# print(\"AUC: \", auc_value_val)\n",
    "# print('Best Threshold=%f, G-Mean=%.3f' % (thresholds_val[ix], gmeans_val[ix]))"
   ]
  },
  {
   "cell_type": "code",
   "execution_count": 41,
   "id": "0370ea02",
   "metadata": {
    "scrolled": true
   },
   "outputs": [
    {
     "data": {
      "image/png": "[encoded data removed]",
      "text/plain": [
       "<Figure size 360x360 with 1 Axes>"
      ]
     },
     "metadata": {
      "needs_background": "light"
     },
     "output_type": "display_data"
    }
   ],
   "source": [
    "# Assuming fpr_val, tpr_val, and auc_val contain the FPR, TPR, and AUC for the validation set\n",
    "\n",
    "plt.figure(figsize=(5, 5))\n",
    "\n",
    "# plot ROC curve for the train set\n",
    "plt.plot(fpr_train, tpr_train, label=f'Train Set AUC = {auc_value_train:.2f}')\n",
    "\n",
    "# Plot ROC curve for the test set\n",
    "plt.plot(fpr_test, tpr_test, label=f'Test Set AUC = {auc_value_test:.2f}')\n",
    "\n",
    "# Plot ROC curve for the validation set\n",
    "# plt.plot(fpr_val, tpr_val, label=f'Validation Set AUC = {auc_value_val:.2f}', linestyle='-.')  # You can change the linestyle as you like\n",
    "\n",
    "# Plot diagonal line\n",
    "plt.plot([0, 1], [0, 1], linestyle='--', color='gray')\n",
    "\n",
    "# Labels, title, and other settings\n",
    "plt.xlabel('1 - Specificity (False Positive Rate)', fontweight='bold')\n",
    "plt.ylabel('Sensitivity (True Positive Rate)', fontweight='bold')\n",
    "plt.title('Tissue group 2 cohort non-cancer vs cancer',fontweight='bold')\n",
    "legend = plt.legend(loc='lower right')\n",
    "plt.grid(False)\n",
    "#plt.savefig('/home/zgao/R/GEO_count/python_plot/Tissue group 2 test_roc.pdf', format='pdf')\n",
    "plt.show()\n"
   ]
  },
  {
   "cell_type": "code",
   "execution_count": 178,
   "id": "ff251784",
   "metadata": {},
   "outputs": [
    {
     "name": "stdout",
     "output_type": "stream",
     "text": [
      "auprc_train: 0.9976260120765177\n",
      "auprc_test: 0.5376626424088083\n"
     ]
    },
    {
     "data": {
      "image/png": "[encoded data removed]",
      "text/plain": [
       "<Figure size 360x360 with 1 Axes>"
      ]
     },
     "metadata": {
      "needs_background": "light"
     },
     "output_type": "display_data"
    }
   ],
   "source": [
    "precision_train, recall_train, _ = precision_recall_curve(y_train, y_pred_proba_train,pos_label='tumor')\n",
    "precision_test, recall_test, _ = precision_recall_curve(y_test, y_pred_proba_test,pos_label='tumor')\n",
    "auprc_train = auc(recall_train, precision_train)\n",
    "print(\"auprc_train:\", auprc_train)\n",
    "auprc_test = auc(recall_test, precision_test)\n",
    "print(\"auprc_test:\", auprc_test)\n",
    "\n",
    "# precision_val, recall_val, _ = precision_recall_curve(y_val, y_pred_proba_val,pos_label='tumor')\n",
    "\n",
    "\n",
    "plt.figure(figsize=(5, 5))\n",
    "plt.plot(recall_train, precision_train, marker='.', label=f'Train Set AUCPRC = {auprc_train:.2f}', color='blue')\n",
    "\n",
    "# Plot for test set\n",
    "plt.plot(recall_test, precision_test, marker='.', label=f'Test Set AUCPRC = {auprc_test:.2f}', color='green')\n",
    "\n",
    "# Plot for validation set\n",
    "# plt.plot(recall_val, precision_val, marker='.', label='Validation', color='red')\n",
    "\n",
    "# Labeling the axes and setting the title\n",
    "plt.xlabel('Recall',fontweight='bold')\n",
    "plt.ylabel('Precision',fontweight='bold')\n",
    "plt.title('Exosome Cohort benign vs cancer',fontweight='bold')\n",
    "\n",
    "# Display the legend\n",
    "plt.legend()\n",
    "plt.savefig('/home/zgao/R/GEO_count/python_plot/exosome_BC_13_precision_recall.pdf', format='pdf')\n",
    "# Show the plot\n",
    "plt.show()"
   ]
  },
  {
   "cell_type": "code",
   "execution_count": 48,
   "id": "663e55bb",
   "metadata": {},
   "outputs": [],
   "source": [
    "def compute_metrics_from_cm(cm):\n",
    "    # Extracting values from the confusion matrix\n",
    "    TP = cm[0, 0]\n",
    "    FN = cm[0, 1]\n",
    "    FP = cm[1, 0]\n",
    "    TN = cm[1, 1]\n",
    "\n",
    "    # Calculating Sensitivity and Specificity\n",
    "    sensitivity = TP / (TP + FN)\n",
    "    specificity = TN / (TN + FP)\n",
    "    \n",
    "\n",
    "    return sensitivity, specificity"
   ]
  },
  {
   "cell_type": "code",
   "execution_count": 49,
   "id": "801b9a96",
   "metadata": {},
   "outputs": [],
   "source": [
    "y_pred_train_labels = [\"tumor\" if p >= 0.56 else \"normal\" for p in y_pred_proba_train]\n",
    "y_pred_test_labels = [\"tumor\" if p >= 0.597841 else \"normal\" for p in y_pred_proba_test]"
   ]
  },
  {
   "cell_type": "code",
   "execution_count": 50,
   "id": "02039b3b",
   "metadata": {},
   "outputs": [
    {
     "name": "stdout",
     "output_type": "stream",
     "text": [
      "Confusion Matrix:\n",
      "[[ 56  12]\n",
      " [ 25 141]]\n",
      "sensitivity_test, specificity_test:\n",
      "0.8235294117647058 0.8493975903614458\n",
      "sensitivity_train, specificity_train:\n",
      "0.9491525423728814 0.9806576402321083\n"
     ]
    }
   ],
   "source": [
    "cm_test = confusion_matrix(y_test, y_pred_test_labels)\n",
    "print(\"Confusion Matrix:\")\n",
    "print(cm_test)\n",
    "sensitivity_test, specificity_test = compute_metrics_from_cm(cm_test)\n",
    "print(\"sensitivity_test, specificity_test:\")\n",
    "print(sensitivity_test, specificity_test)\n",
    "\n",
    "cm_train = confusion_matrix(y_train, y_pred_train_labels)\n",
    "sensitivity_train, specificity_train = compute_metrics_from_cm(cm_train)\n",
    "print(\"sensitivity_train, specificity_train:\")\n",
    "print(sensitivity_train, specificity_train)"
   ]
  },
  {
   "cell_type": "code",
   "execution_count": 51,
   "id": "69639b03",
   "metadata": {},
   "outputs": [],
   "source": [
    "import numpy as np\n",
    "import matplotlib.pyplot as plt\n",
    "from sklearn.metrics import confusion_matrix\n",
    "import itertools\n",
    "\n",
    "def plot_confusion_matrix(y_true, y_pred, classes=None, figsize=(7, 5), text_size=14):\n",
    "    cm = confusion_matrix(y_true, y_pred)\n",
    "    cm_norm = cm.astype('float') / cm.sum(axis=1)[:, np.newaxis]\n",
    "    n_classes = cm.shape[0]\n",
    "\n",
    "    if classes is None:\n",
    "        classes = [str(i) for i in range(n_classes)]\n",
    "        \n",
    "    fig, ax = plt.subplots(figsize=figsize)\n",
    "    cax = ax.matshow(cm_norm, cmap=plt.cm.Blues)\n",
    "    fig.colorbar(cax)\n",
    "\n",
    "    ax.set(title=' threhold', \n",
    "           xlabel='Predicted Label', \n",
    "           ylabel='True Label', \n",
    "           xticks=np.arange(n_classes), \n",
    "           yticks=np.arange(n_classes), \n",
    "           xticklabels=classes, \n",
    "           yticklabels=classes)\n",
    "    ax.xaxis.set_label_position('bottom')\n",
    "    ax.xaxis.tick_bottom()\n",
    "\n",
    "    ax.yaxis.label.set_size(text_size)\n",
    "    ax.xaxis.label.set_size(text_size)\n",
    "    ax.title.set_size(text_size * 1.2)\n",
    "    \n",
    "    threshold = (cm_norm.max() + cm_norm.min()) / 2\n",
    "    for i, j in itertools.product(range(cm.shape[0]), range(cm.shape[1])):\n",
    "        plt.text(j, i, f'{cm[i, j]} ({cm_norm[i, j]*100:.1f}%)', \n",
    "                 horizontalalignment='center', \n",
    "                 color='white' if cm_norm[i, j] > threshold else 'black', \n",
    "                 size=text_size)\n",
    "    \n"
   ]
  },
  {
   "cell_type": "code",
   "execution_count": 254,
   "id": "3243765b",
   "metadata": {},
   "outputs": [
    {
     "data": {
      "image/png": "[encoded data removed]",
      "text/plain": [
       "<Figure size 504x360 with 2 Axes>"
      ]
     },
     "metadata": {
      "needs_background": "light"
     },
     "output_type": "display_data"
    }
   ],
   "source": [
    "classes = ['Normal', 'Tumor']\n",
    "plot_confusion_matrix(y_test, y_pred_test_labels, classes)\n",
    "plt.savefig('/home/zgao/R/GEO_count/confusion_matrix/tissue_13_confusion_matrix.svg', format='svg')\n",
    "plt.show()"
   ]
  },
  {
   "cell_type": "code",
   "execution_count": 494,
   "id": "f54fa55d",
   "metadata": {},
   "outputs": [],
   "source": [
    "inde_data=pd.read_csv(\"R/GEO_count/GSE148861_rf.csv\")"
   ]
  },
  {
   "cell_type": "code",
   "execution_count": 495,
   "id": "8ab46698",
   "metadata": {},
   "outputs": [],
   "source": [
    "inde_data=inde_data.drop(columns=['Unnamed: 0'])"
   ]
  },
  {
   "cell_type": "code",
   "execution_count": 496,
   "id": "9ec70008",
   "metadata": {},
   "outputs": [],
   "source": [
    "inde_test=inde_data.drop(columns=['group'])\n",
    "y_inde=inde_data['group']"
   ]
  },
  {
   "cell_type": "code",
   "execution_count": 497,
   "id": "30c89251",
   "metadata": {},
   "outputs": [
    {
     "data": {
      "text/html": [
       "<div>\n",
       "<style scoped>\n",
       "    .dataframe tbody tr th:only-of-type {\n",
       "        vertical-align: middle;\n",
       "    }\n",
       "\n",
       "    .dataframe tbody tr th {\n",
       "        vertical-align: top;\n",
       "    }\n",
       "\n",
       "    .dataframe thead th {\n",
       "        text-align: right;\n",
       "    }\n",
       "</style>\n",
       "<table border=\"1\" class=\"dataframe\">\n",
       "  <thead>\n",
       "    <tr style=\"text-align: right;\">\n",
       "      <th></th>\n",
       "      <th>piR-hsa-1255575</th>\n",
       "      <th>piR-hsa-130844</th>\n",
       "      <th>piR-hsa-134405</th>\n",
       "      <th>piR-hsa-137567</th>\n",
       "      <th>piR-hsa-146397</th>\n",
       "      <th>piR-hsa-147491</th>\n",
       "      <th>piR-hsa-152144</th>\n",
       "      <th>piR-hsa-157340</th>\n",
       "      <th>piR-hsa-165803</th>\n",
       "      <th>piR-hsa-168625</th>\n",
       "      <th>piR-hsa-2843805</th>\n",
       "      <th>piR-hsa-2852354</th>\n",
       "      <th>piR-hsa-333323</th>\n",
       "      <th>piR-hsa-339610</th>\n",
       "      <th>piR-hsa-3631004</th>\n",
       "      <th>piR-hsa-4462631</th>\n",
       "      <th>piR-hsa-720022</th>\n",
       "      <th>piR-hsa-728565</th>\n",
       "      <th>piR-hsa-742754</th>\n",
       "      <th>piR-hsa-777268</th>\n",
       "    </tr>\n",
       "  </thead>\n",
       "  <tbody>\n",
       "    <tr>\n",
       "      <th>0</th>\n",
       "      <td>0.830416</td>\n",
       "      <td>6.963583</td>\n",
       "      <td>6.288279</td>\n",
       "      <td>1.463780</td>\n",
       "      <td>-0.226828</td>\n",
       "      <td>1.205398</td>\n",
       "      <td>1.324736</td>\n",
       "      <td>1.083946</td>\n",
       "      <td>3.520868</td>\n",
       "      <td>1.414228</td>\n",
       "      <td>2.567361</td>\n",
       "      <td>1.584477</td>\n",
       "      <td>0.549755</td>\n",
       "      <td>1.211966</td>\n",
       "      <td>0.887131</td>\n",
       "      <td>1.449910</td>\n",
       "      <td>2.863626</td>\n",
       "      <td>2.261808</td>\n",
       "      <td>0.511820</td>\n",
       "      <td>0.275708</td>\n",
       "    </tr>\n",
       "    <tr>\n",
       "      <th>1</th>\n",
       "      <td>0.815609</td>\n",
       "      <td>6.603349</td>\n",
       "      <td>5.934849</td>\n",
       "      <td>1.445841</td>\n",
       "      <td>0.401504</td>\n",
       "      <td>1.209179</td>\n",
       "      <td>1.323514</td>\n",
       "      <td>0.733562</td>\n",
       "      <td>3.507080</td>\n",
       "      <td>1.494591</td>\n",
       "      <td>2.735870</td>\n",
       "      <td>1.558235</td>\n",
       "      <td>0.454312</td>\n",
       "      <td>1.045463</td>\n",
       "      <td>0.737541</td>\n",
       "      <td>1.425798</td>\n",
       "      <td>2.756307</td>\n",
       "      <td>2.655815</td>\n",
       "      <td>0.505140</td>\n",
       "      <td>0.272080</td>\n",
       "    </tr>\n",
       "    <tr>\n",
       "      <th>2</th>\n",
       "      <td>0.818284</td>\n",
       "      <td>6.258260</td>\n",
       "      <td>5.594791</td>\n",
       "      <td>1.601015</td>\n",
       "      <td>-0.470962</td>\n",
       "      <td>1.203054</td>\n",
       "      <td>1.315101</td>\n",
       "      <td>0.850161</td>\n",
       "      <td>3.658075</td>\n",
       "      <td>1.478803</td>\n",
       "      <td>2.605294</td>\n",
       "      <td>1.578971</td>\n",
       "      <td>0.478458</td>\n",
       "      <td>1.286795</td>\n",
       "      <td>0.965183</td>\n",
       "      <td>1.487299</td>\n",
       "      <td>3.134408</td>\n",
       "      <td>2.919192</td>\n",
       "      <td>0.523144</td>\n",
       "      <td>0.291343</td>\n",
       "    </tr>\n",
       "    <tr>\n",
       "      <th>3</th>\n",
       "      <td>0.825377</td>\n",
       "      <td>6.506381</td>\n",
       "      <td>5.850002</td>\n",
       "      <td>1.457189</td>\n",
       "      <td>-0.056718</td>\n",
       "      <td>1.203054</td>\n",
       "      <td>1.315101</td>\n",
       "      <td>1.048379</td>\n",
       "      <td>3.856886</td>\n",
       "      <td>1.497634</td>\n",
       "      <td>2.763190</td>\n",
       "      <td>1.611803</td>\n",
       "      <td>0.512126</td>\n",
       "      <td>1.231694</td>\n",
       "      <td>0.924932</td>\n",
       "      <td>1.429725</td>\n",
       "      <td>2.822967</td>\n",
       "      <td>3.136073</td>\n",
       "      <td>0.520168</td>\n",
       "      <td>0.280037</td>\n",
       "    </tr>\n",
       "    <tr>\n",
       "      <th>4</th>\n",
       "      <td>0.842689</td>\n",
       "      <td>6.545233</td>\n",
       "      <td>5.890593</td>\n",
       "      <td>1.531792</td>\n",
       "      <td>-0.178802</td>\n",
       "      <td>1.219691</td>\n",
       "      <td>1.337906</td>\n",
       "      <td>0.979786</td>\n",
       "      <td>3.826203</td>\n",
       "      <td>1.531620</td>\n",
       "      <td>2.688505</td>\n",
       "      <td>1.700674</td>\n",
       "      <td>0.356785</td>\n",
       "      <td>1.181011</td>\n",
       "      <td>0.852632</td>\n",
       "      <td>1.441166</td>\n",
       "      <td>3.183275</td>\n",
       "      <td>3.158522</td>\n",
       "      <td>0.519576</td>\n",
       "      <td>0.249678</td>\n",
       "    </tr>\n",
       "    <tr>\n",
       "      <th>...</th>\n",
       "      <td>...</td>\n",
       "      <td>...</td>\n",
       "      <td>...</td>\n",
       "      <td>...</td>\n",
       "      <td>...</td>\n",
       "      <td>...</td>\n",
       "      <td>...</td>\n",
       "      <td>...</td>\n",
       "      <td>...</td>\n",
       "      <td>...</td>\n",
       "      <td>...</td>\n",
       "      <td>...</td>\n",
       "      <td>...</td>\n",
       "      <td>...</td>\n",
       "      <td>...</td>\n",
       "      <td>...</td>\n",
       "      <td>...</td>\n",
       "      <td>...</td>\n",
       "      <td>...</td>\n",
       "      <td>...</td>\n",
       "    </tr>\n",
       "    <tr>\n",
       "      <th>71</th>\n",
       "      <td>0.815791</td>\n",
       "      <td>6.146834</td>\n",
       "      <td>5.503653</td>\n",
       "      <td>1.447351</td>\n",
       "      <td>1.400104</td>\n",
       "      <td>1.221885</td>\n",
       "      <td>1.340904</td>\n",
       "      <td>0.850718</td>\n",
       "      <td>3.453783</td>\n",
       "      <td>1.551512</td>\n",
       "      <td>2.460535</td>\n",
       "      <td>1.545418</td>\n",
       "      <td>0.159417</td>\n",
       "      <td>1.014205</td>\n",
       "      <td>0.712408</td>\n",
       "      <td>1.296651</td>\n",
       "      <td>2.851651</td>\n",
       "      <td>2.056739</td>\n",
       "      <td>0.511943</td>\n",
       "      <td>0.246899</td>\n",
       "    </tr>\n",
       "    <tr>\n",
       "      <th>72</th>\n",
       "      <td>0.817556</td>\n",
       "      <td>5.999721</td>\n",
       "      <td>5.354820</td>\n",
       "      <td>1.427488</td>\n",
       "      <td>1.887471</td>\n",
       "      <td>1.233351</td>\n",
       "      <td>1.356527</td>\n",
       "      <td>0.897041</td>\n",
       "      <td>3.329709</td>\n",
       "      <td>1.609234</td>\n",
       "      <td>2.392085</td>\n",
       "      <td>1.562772</td>\n",
       "      <td>0.132779</td>\n",
       "      <td>1.084271</td>\n",
       "      <td>0.769909</td>\n",
       "      <td>1.293564</td>\n",
       "      <td>2.769289</td>\n",
       "      <td>2.463243</td>\n",
       "      <td>0.504056</td>\n",
       "      <td>0.225621</td>\n",
       "    </tr>\n",
       "    <tr>\n",
       "      <th>73</th>\n",
       "      <td>0.819372</td>\n",
       "      <td>4.931163</td>\n",
       "      <td>4.278545</td>\n",
       "      <td>1.406785</td>\n",
       "      <td>1.840749</td>\n",
       "      <td>1.236664</td>\n",
       "      <td>1.361029</td>\n",
       "      <td>0.796971</td>\n",
       "      <td>3.587277</td>\n",
       "      <td>1.446435</td>\n",
       "      <td>2.524012</td>\n",
       "      <td>1.519695</td>\n",
       "      <td>0.160665</td>\n",
       "      <td>0.864825</td>\n",
       "      <td>0.564994</td>\n",
       "      <td>1.323774</td>\n",
       "      <td>2.587825</td>\n",
       "      <td>2.179437</td>\n",
       "      <td>0.509929</td>\n",
       "      <td>0.258851</td>\n",
       "    </tr>\n",
       "    <tr>\n",
       "      <th>74</th>\n",
       "      <td>0.871605</td>\n",
       "      <td>6.634252</td>\n",
       "      <td>5.980954</td>\n",
       "      <td>1.484521</td>\n",
       "      <td>4.084650</td>\n",
       "      <td>1.321393</td>\n",
       "      <td>1.474440</td>\n",
       "      <td>1.171677</td>\n",
       "      <td>4.169828</td>\n",
       "      <td>2.538920</td>\n",
       "      <td>2.846706</td>\n",
       "      <td>1.677744</td>\n",
       "      <td>0.243454</td>\n",
       "      <td>1.724180</td>\n",
       "      <td>1.395114</td>\n",
       "      <td>1.472658</td>\n",
       "      <td>3.107110</td>\n",
       "      <td>2.841021</td>\n",
       "      <td>0.515160</td>\n",
       "      <td>0.323830</td>\n",
       "    </tr>\n",
       "    <tr>\n",
       "      <th>75</th>\n",
       "      <td>0.839559</td>\n",
       "      <td>6.389232</td>\n",
       "      <td>5.743825</td>\n",
       "      <td>1.462905</td>\n",
       "      <td>3.210978</td>\n",
       "      <td>1.249588</td>\n",
       "      <td>1.378542</td>\n",
       "      <td>0.911697</td>\n",
       "      <td>3.925570</td>\n",
       "      <td>2.445003</td>\n",
       "      <td>3.175291</td>\n",
       "      <td>1.745700</td>\n",
       "      <td>0.194439</td>\n",
       "      <td>1.319918</td>\n",
       "      <td>0.978199</td>\n",
       "      <td>1.321529</td>\n",
       "      <td>3.104811</td>\n",
       "      <td>2.970888</td>\n",
       "      <td>0.517597</td>\n",
       "      <td>0.347790</td>\n",
       "    </tr>\n",
       "  </tbody>\n",
       "</table>\n",
       "<p>76 rows × 20 columns</p>\n",
       "</div>"
      ],
      "text/plain": [
       "    piR-hsa-1255575  piR-hsa-130844  piR-hsa-134405  piR-hsa-137567  \\\n",
       "0          0.830416        6.963583        6.288279        1.463780   \n",
       "1          0.815609        6.603349        5.934849        1.445841   \n",
       "2          0.818284        6.258260        5.594791        1.601015   \n",
       "3          0.825377        6.506381        5.850002        1.457189   \n",
       "4          0.842689        6.545233        5.890593        1.531792   \n",
       "..              ...             ...             ...             ...   \n",
       "71         0.815791        6.146834        5.503653        1.447351   \n",
       "72         0.817556        5.999721        5.354820        1.427488   \n",
       "73         0.819372        4.931163        4.278545        1.406785   \n",
       "74         0.871605        6.634252        5.980954        1.484521   \n",
       "75         0.839559        6.389232        5.743825        1.462905   \n",
       "\n",
       "    piR-hsa-146397  piR-hsa-147491  piR-hsa-152144  piR-hsa-157340  \\\n",
       "0        -0.226828        1.205398        1.324736        1.083946   \n",
       "1         0.401504        1.209179        1.323514        0.733562   \n",
       "2        -0.470962        1.203054        1.315101        0.850161   \n",
       "3        -0.056718        1.203054        1.315101        1.048379   \n",
       "4        -0.178802        1.219691        1.337906        0.979786   \n",
       "..             ...             ...             ...             ...   \n",
       "71        1.400104        1.221885        1.340904        0.850718   \n",
       "72        1.887471        1.233351        1.356527        0.897041   \n",
       "73        1.840749        1.236664        1.361029        0.796971   \n",
       "74        4.084650        1.321393        1.474440        1.171677   \n",
       "75        3.210978        1.249588        1.378542        0.911697   \n",
       "\n",
       "    piR-hsa-165803  piR-hsa-168625  piR-hsa-2843805  piR-hsa-2852354  \\\n",
       "0         3.520868        1.414228         2.567361         1.584477   \n",
       "1         3.507080        1.494591         2.735870         1.558235   \n",
       "2         3.658075        1.478803         2.605294         1.578971   \n",
       "3         3.856886        1.497634         2.763190         1.611803   \n",
       "4         3.826203        1.531620         2.688505         1.700674   \n",
       "..             ...             ...              ...              ...   \n",
       "71        3.453783        1.551512         2.460535         1.545418   \n",
       "72        3.329709        1.609234         2.392085         1.562772   \n",
       "73        3.587277        1.446435         2.524012         1.519695   \n",
       "74        4.169828        2.538920         2.846706         1.677744   \n",
       "75        3.925570        2.445003         3.175291         1.745700   \n",
       "\n",
       "    piR-hsa-333323  piR-hsa-339610  piR-hsa-3631004  piR-hsa-4462631  \\\n",
       "0         0.549755        1.211966         0.887131         1.449910   \n",
       "1         0.454312        1.045463         0.737541         1.425798   \n",
       "2         0.478458        1.286795         0.965183         1.487299   \n",
       "3         0.512126        1.231694         0.924932         1.429725   \n",
       "4         0.356785        1.181011         0.852632         1.441166   \n",
       "..             ...             ...              ...              ...   \n",
       "71        0.159417        1.014205         0.712408         1.296651   \n",
       "72        0.132779        1.084271         0.769909         1.293564   \n",
       "73        0.160665        0.864825         0.564994         1.323774   \n",
       "74        0.243454        1.724180         1.395114         1.472658   \n",
       "75        0.194439        1.319918         0.978199         1.321529   \n",
       "\n",
       "    piR-hsa-720022  piR-hsa-728565  piR-hsa-742754  piR-hsa-777268  \n",
       "0         2.863626        2.261808        0.511820        0.275708  \n",
       "1         2.756307        2.655815        0.505140        0.272080  \n",
       "2         3.134408        2.919192        0.523144        0.291343  \n",
       "3         2.822967        3.136073        0.520168        0.280037  \n",
       "4         3.183275        3.158522        0.519576        0.249678  \n",
       "..             ...             ...             ...             ...  \n",
       "71        2.851651        2.056739        0.511943        0.246899  \n",
       "72        2.769289        2.463243        0.504056        0.225621  \n",
       "73        2.587825        2.179437        0.509929        0.258851  \n",
       "74        3.107110        2.841021        0.515160        0.323830  \n",
       "75        3.104811        2.970888        0.517597        0.347790  \n",
       "\n",
       "[76 rows x 20 columns]"
      ]
     },
     "execution_count": 497,
     "metadata": {},
     "output_type": "execute_result"
    }
   ],
   "source": [
    "inde_test"
   ]
  },
  {
   "cell_type": "code",
   "execution_count": 498,
   "id": "81ccab26",
   "metadata": {},
   "outputs": [
    {
     "name": "stdout",
     "output_type": "stream",
     "text": [
      "AUC:  0.7694117647058824\n"
     ]
    }
   ],
   "source": [
    "y_pred_proba_inde = best_rf_classifier.predict_proba(inde_test)[:, 1]\n",
    "y_inde_binary = label_binarize(y_inde, classes=['normal', 'tumor']).flatten()\n",
    "fpr_inde, tpr_inde, _ = roc_curve(y_inde_binary, y_pred_proba_inde)\n",
    "auc_value_inde = roc_auc_score(y_inde_binary, y_pred_proba_inde)\n",
    "print(\"AUC: \", auc_value_inde)"
   ]
  },
  {
   "cell_type": "code",
   "execution_count": 429,
   "id": "b8d23d41",
   "metadata": {},
   "outputs": [
    {
     "name": "stdout",
     "output_type": "stream",
     "text": [
      "Test set accuracy:  0.4888888888888889\n"
     ]
    }
   ],
   "source": [
    "accuracy_inde = best_rf_classifier.score(inde_test, y_inde)\n",
    "\n",
    "print(\"Test set accuracy: \", accuracy_inde)"
   ]
  },
  {
   "cell_type": "code",
   "execution_count": 263,
   "id": "1dc5ef08",
   "metadata": {},
   "outputs": [
    {
     "name": "stdout",
     "output_type": "stream",
     "text": [
      "AUC:  0.8093306288032454\n",
      "Best Threshold=0.480000, G-Mean=0.754\n"
     ]
    }
   ],
   "source": [
    "y_pred_proba_inde = best_rf_classifier.predict_proba(inde_test)[:, 1]\n",
    "fpr_inde, tpr_inde, thresholds_inde = roc_curve(y_inde, y_pred_proba_inde, pos_label='tumor')\n",
    "auc_value_inde = roc_auc_score(y_inde, y_pred_proba_inde)\n",
    "\n",
    "gmeans_inde = np.sqrt(tpr_inde * (1-fpr_inde))\n",
    "\n",
    "# Locate the index of the largest G-mean\n",
    "ix = np.argmax(gmeans_inde)\n",
    "print(\"AUC: \", auc_value_inde)\n",
    "print('Best Threshold=%f, G-Mean=%.3f' % (thresholds_inde[ix], gmeans_inde[ix]))\n"
   ]
  },
  {
   "cell_type": "code",
   "execution_count": 91,
   "id": "a8cdde09",
   "metadata": {},
   "outputs": [],
   "source": [
    "y_pred_inde_labels = [\"tumor\" if p >= 0.355125 else \"normal\" for p in y_pred_proba_inde]"
   ]
  },
  {
   "cell_type": "code",
   "execution_count": 710,
   "id": "ed89fade",
   "metadata": {},
   "outputs": [
    {
     "name": "stdout",
     "output_type": "stream",
     "text": [
      "Confusion Matrix:\n",
      "[[18  7]\n",
      " [ 5 46]]\n",
      "sensitivity_inde, specificity_inde:\n",
      "0.72 0.9019607843137255\n"
     ]
    }
   ],
   "source": [
    "cm = confusion_matrix(y_inde, y_pred_inde_labels)\n",
    "print(\"Confusion Matrix:\")\n",
    "print(cm)\n",
    "sensitivity_inde, specificity_inde = compute_metrics_from_cm(cm)\n",
    "print(\"sensitivity_inde, specificity_inde:\")\n",
    "print(sensitivity_inde, specificity_inde)"
   ]
  },
  {
   "cell_type": "code",
   "execution_count": null,
   "id": "f9b289c8",
   "metadata": {},
   "outputs": [],
   "source": []
  },
  {
   "cell_type": "code",
   "execution_count": null,
   "id": "4a2e49c9",
   "metadata": {},
   "outputs": [],
   "source": []
  },
  {
   "cell_type": "code",
   "execution_count": null,
   "id": "25f0428c",
   "metadata": {},
   "outputs": [],
   "source": []
  },
  {
   "cell_type": "code",
   "execution_count": null,
   "id": "722fc83a",
   "metadata": {},
   "outputs": [],
   "source": []
  },
  {
   "cell_type": "code",
   "execution_count": null,
   "id": "0002f611",
   "metadata": {},
   "outputs": [],
   "source": []
  },
  {
   "cell_type": "code",
   "execution_count": null,
   "id": "6210d045",
   "metadata": {},
   "outputs": [],
   "source": []
  },
  {
   "cell_type": "code",
   "execution_count": null,
   "id": "a68982c7",
   "metadata": {},
   "outputs": [],
   "source": []
  },
  {
   "cell_type": "code",
   "execution_count": null,
   "id": "3c6b9937",
   "metadata": {},
   "outputs": [],
   "source": []
  },
  {
   "cell_type": "code",
   "execution_count": 207,
   "id": "fa7b8183",
   "metadata": {},
   "outputs": [],
   "source": [
    "bar_2=pd.DataFrame({'group': 'GSE204951','F1-Score_test':f1_test.flatten(),'Precision_test':precision_test_score.flatten(),'Recall_test': recall_test_score.flatten(),\n",
    "                    'F1-Score_val':f1_val.flatten(),'Precision_val':precision_val_score.flatten(),'Recall_val': recall_val_score.flatten(),\n",
    "                    'sensitivity_test':sensitivity_test, 'specificity_test':specificity_test,\n",
    "                     'sensitivity_val':sensitivity_val, 'specificity_val':specificity_val,\n",
    "                    'accuracy_test':accuracy_test,'accuracy_val':accuracy_val})"
   ]
  },
  {
   "cell_type": "code",
   "execution_count": 208,
   "id": "9494f99c",
   "metadata": {},
   "outputs": [
    {
     "data": {
      "text/html": [
       "<div>\n",
       "<style scoped>\n",
       "    .dataframe tbody tr th:only-of-type {\n",
       "        vertical-align: middle;\n",
       "    }\n",
       "\n",
       "    .dataframe tbody tr th {\n",
       "        vertical-align: top;\n",
       "    }\n",
       "\n",
       "    .dataframe thead th {\n",
       "        text-align: right;\n",
       "    }\n",
       "</style>\n",
       "<table border=\"1\" class=\"dataframe\">\n",
       "  <thead>\n",
       "    <tr style=\"text-align: right;\">\n",
       "      <th></th>\n",
       "      <th>group</th>\n",
       "      <th>F1-Score_test</th>\n",
       "      <th>Precision_test</th>\n",
       "      <th>Recall_test</th>\n",
       "      <th>F1-Score_val</th>\n",
       "      <th>Precision_val</th>\n",
       "      <th>Recall_val</th>\n",
       "      <th>sensitivity_test</th>\n",
       "      <th>specificity_test</th>\n",
       "      <th>sensitivity_val</th>\n",
       "      <th>specificity_val</th>\n",
       "      <th>accuracy_test</th>\n",
       "      <th>accuracy_val</th>\n",
       "    </tr>\n",
       "  </thead>\n",
       "  <tbody>\n",
       "    <tr>\n",
       "      <th>0</th>\n",
       "      <td>GSE204951</td>\n",
       "      <td>0.75</td>\n",
       "      <td>0.666667</td>\n",
       "      <td>0.857143</td>\n",
       "      <td>0.9</td>\n",
       "      <td>0.9</td>\n",
       "      <td>0.9</td>\n",
       "      <td>0.727273</td>\n",
       "      <td>0.857143</td>\n",
       "      <td>0.888889</td>\n",
       "      <td>0.9</td>\n",
       "      <td>0.777778</td>\n",
       "      <td>0.894737</td>\n",
       "    </tr>\n",
       "  </tbody>\n",
       "</table>\n",
       "</div>"
      ],
      "text/plain": [
       "       group  F1-Score_test  Precision_test  Recall_test  F1-Score_val  \\\n",
       "0  GSE204951           0.75        0.666667     0.857143           0.9   \n",
       "\n",
       "   Precision_val  Recall_val  sensitivity_test  specificity_test  \\\n",
       "0            0.9         0.9          0.727273          0.857143   \n",
       "\n",
       "   sensitivity_val  specificity_val  accuracy_test  accuracy_val  \n",
       "0         0.888889              0.9       0.777778      0.894737  "
      ]
     },
     "execution_count": 208,
     "metadata": {},
     "output_type": "execute_result"
    }
   ],
   "source": [
    "bar_2"
   ]
  },
  {
   "cell_type": "code",
   "execution_count": 163,
   "id": "786c8ca1",
   "metadata": {},
   "outputs": [],
   "source": [
    "bar_1=pd.DataFrame({'group': 'GSE148861','F1-Score_test':f1_test.flatten(),'Precision_test':precision_test_score.flatten(),'Recall_test': recall_test_score.flatten(),\n",
    "                    'F1-Score_val':f1_val.flatten(),'Precision_val':precision_val_score.flatten(),'Recall_val': recall_val_score.flatten(),\n",
    "                    'sensitivity_test':sensitivity_test, 'specificity_test':specificity_test,\n",
    "                     'sensitivity_val':sensitivity_val, 'specificity_val':specificity_val,\n",
    "                    'accuracy_test':accuracy_test,'accuracy_val':accuracy_val})"
   ]
  },
  {
   "cell_type": "code",
   "execution_count": 164,
   "id": "0b14f57a",
   "metadata": {},
   "outputs": [
    {
     "data": {
      "text/html": [
       "<div>\n",
       "<style scoped>\n",
       "    .dataframe tbody tr th:only-of-type {\n",
       "        vertical-align: middle;\n",
       "    }\n",
       "\n",
       "    .dataframe tbody tr th {\n",
       "        vertical-align: top;\n",
       "    }\n",
       "\n",
       "    .dataframe thead th {\n",
       "        text-align: right;\n",
       "    }\n",
       "</style>\n",
       "<table border=\"1\" class=\"dataframe\">\n",
       "  <thead>\n",
       "    <tr style=\"text-align: right;\">\n",
       "      <th></th>\n",
       "      <th>group</th>\n",
       "      <th>F1-Score_test</th>\n",
       "      <th>Precision_test</th>\n",
       "      <th>Recall_test</th>\n",
       "      <th>F1-Score_val</th>\n",
       "      <th>Precision_val</th>\n",
       "      <th>Recall_val</th>\n",
       "      <th>sensitivity_test</th>\n",
       "      <th>specificity_test</th>\n",
       "      <th>sensitivity_val</th>\n",
       "      <th>specificity_val</th>\n",
       "      <th>accuracy_test</th>\n",
       "      <th>accuracy_val</th>\n",
       "    </tr>\n",
       "  </thead>\n",
       "  <tbody>\n",
       "    <tr>\n",
       "      <th>0</th>\n",
       "      <td>GSE148861</td>\n",
       "      <td>0.761905</td>\n",
       "      <td>0.727273</td>\n",
       "      <td>0.8</td>\n",
       "      <td>0.869565</td>\n",
       "      <td>0.769231</td>\n",
       "      <td>1.0</td>\n",
       "      <td>0.4</td>\n",
       "      <td>0.8</td>\n",
       "      <td>0.5</td>\n",
       "      <td>1.0</td>\n",
       "      <td>0.666667</td>\n",
       "      <td>0.8125</td>\n",
       "    </tr>\n",
       "  </tbody>\n",
       "</table>\n",
       "</div>"
      ],
      "text/plain": [
       "       group  F1-Score_test  Precision_test  Recall_test  F1-Score_val  \\\n",
       "0  GSE148861       0.761905        0.727273          0.8      0.869565   \n",
       "\n",
       "   Precision_val  Recall_val  sensitivity_test  specificity_test  \\\n",
       "0       0.769231         1.0               0.4               0.8   \n",
       "\n",
       "   sensitivity_val  specificity_val  accuracy_test  accuracy_val  \n",
       "0              0.5              1.0       0.666667        0.8125  "
      ]
     },
     "execution_count": 164,
     "metadata": {},
     "output_type": "execute_result"
    }
   ],
   "source": [
    "bar_1"
   ]
  },
  {
   "cell_type": "code",
   "execution_count": null,
   "id": "b36683ac",
   "metadata": {},
   "outputs": [],
   "source": []
  },
  {
   "cell_type": "code",
   "execution_count": 255,
   "id": "18b218a1",
   "metadata": {},
   "outputs": [],
   "source": [
    "perm = PermutationImportance(best_rf_classifier, random_state=42).fit(X_test, y_test)\n",
    "\n",
    "perm_importances = perm.feature_importances_\n",
    "std = perm.feature_importances_std_\n",
    "indices = np.argsort(perm_importances)[::-1]"
   ]
  },
  {
   "cell_type": "code",
   "execution_count": 256,
   "id": "8a796b6d",
   "metadata": {},
   "outputs": [],
   "source": [
    "perm_importances = [(feature, importance) for feature, importance in zip(sorted_features, perm_importances[indices])]"
   ]
  },
  {
   "cell_type": "code",
   "execution_count": 257,
   "id": "b5199b69",
   "metadata": {},
   "outputs": [],
   "source": [
    "perm_importances.sort(key=lambda x: x[1], reverse=True)"
   ]
  },
  {
   "cell_type": "code",
   "execution_count": 258,
   "id": "7e6ab3e7",
   "metadata": {},
   "outputs": [],
   "source": [
    "features, importances = zip(*perm_importances)"
   ]
  },
  {
   "cell_type": "code",
   "execution_count": 259,
   "id": "b5b68466",
   "metadata": {},
   "outputs": [
    {
     "data": {
      "text/plain": [
       "('piR-hsa-130959',\n",
       " 'piR-hsa-100956',\n",
       " 'piR-hsa-122506',\n",
       " 'piR-hsa-1248077',\n",
       " 'piR-hsa-1254233')"
      ]
     },
     "execution_count": 259,
     "metadata": {},
     "output_type": "execute_result"
    }
   ],
   "source": [
    "sorted_features"
   ]
  },
  {
   "cell_type": "code",
   "execution_count": 260,
   "id": "78254e19",
   "metadata": {
    "scrolled": true
   },
   "outputs": [
    {
     "name": "stdout",
     "output_type": "stream",
     "text": [
      "5\n"
     ]
    }
   ],
   "source": [
    "print(len(sorted_features))"
   ]
  },
  {
   "cell_type": "code",
   "execution_count": 261,
   "id": "5163be94",
   "metadata": {},
   "outputs": [
    {
     "data": {
      "image/png": "[encoded data removed]",
      "text/plain": [
       "<Figure size 864x504 with 1 Axes>"
      ]
     },
     "metadata": {
      "needs_background": "light"
     },
     "output_type": "display_data"
    }
   ],
   "source": [
    "plt.figure(figsize=(12, 7))\n",
    "plt.barh(range(len(features)), importances, align='center')\n",
    "plt.yticks(range(len(features)), features)\n",
    "plt.gca().invert_yaxis() # Invert the y-axis to have the most important feature on top\n",
    "plt.xlabel('Permutation Importance',fontweight='bold')\n",
    "plt.title('Feature Importances',fontweight='bold')\n",
    "#plt.savefig('plasma_permutation_importance.pdf', format='pdf')\n",
    "plt.show()"
   ]
  },
  {
   "cell_type": "code",
   "execution_count": 35,
   "id": "2270bc2a",
   "metadata": {},
   "outputs": [],
   "source": [
    "positive_importance_features = [feature for feature, importance in zip(features, importances) if importance > 0]"
   ]
  },
  {
   "cell_type": "code",
   "execution_count": 36,
   "id": "a9d7f952",
   "metadata": {},
   "outputs": [
    {
     "data": {
      "text/plain": [
       "['piR_hsa_2499988',\n",
       " 'piR_hsa_100956',\n",
       " 'piR_hsa_112592',\n",
       " 'piR_hsa_1248077',\n",
       " 'piR_hsa_108790',\n",
       " 'piR_hsa_1248184']"
      ]
     },
     "execution_count": 36,
     "metadata": {},
     "output_type": "execute_result"
    }
   ],
   "source": [
    "positive_importance_features"
   ]
  },
  {
   "cell_type": "code",
   "execution_count": 37,
   "id": "48c24e21",
   "metadata": {},
   "outputs": [
    {
     "name": "stdout",
     "output_type": "stream",
     "text": [
      "6\n"
     ]
    }
   ],
   "source": [
    "print(len(positive_importance_features))"
   ]
  },
  {
   "cell_type": "code",
   "execution_count": 38,
   "id": "a5c7790a",
   "metadata": {},
   "outputs": [],
   "source": [
    "selected_indices = [X_train.columns.get_loc(feature) for feature in positive_importance_features]"
   ]
  },
  {
   "cell_type": "code",
   "execution_count": 39,
   "id": "eb98b028",
   "metadata": {},
   "outputs": [],
   "source": [
    "X_train_selected_features = X_train.iloc[:, selected_indices]\n",
    "X_test_selected_features = X_test.iloc[:, selected_indices]\n",
    "X_val_selected_features = X_val.iloc[:, selected_indices]"
   ]
  },
  {
   "cell_type": "code",
   "execution_count": 40,
   "id": "04fa5d9d",
   "metadata": {},
   "outputs": [
    {
     "data": {
      "text/plain": [
       "(26, 6)"
      ]
     },
     "execution_count": 40,
     "metadata": {},
     "output_type": "execute_result"
    }
   ],
   "source": [
    "X_val_selected_features.shape"
   ]
  },
  {
   "cell_type": "code",
   "execution_count": 41,
   "id": "3a029a83",
   "metadata": {},
   "outputs": [],
   "source": [
    "rf_classifier = RandomForestClassifier(n_estimators=100, random_state=42)"
   ]
  },
  {
   "cell_type": "code",
   "execution_count": 42,
   "id": "23ace27b",
   "metadata": {},
   "outputs": [],
   "source": [
    "grid_search = GridSearchCV(estimator=rf_classifier, param_grid=param_grid,\n",
    "                           cv=5, n_jobs=-1, verbose=2)"
   ]
  },
  {
   "cell_type": "code",
   "execution_count": 43,
   "id": "8c120b16",
   "metadata": {},
   "outputs": [
    {
     "name": "stdout",
     "output_type": "stream",
     "text": [
      "Fitting 5 folds for each of 1458 candidates, totalling 7290 fits\n"
     ]
    },
    {
     "data": {
      "text/plain": [
       "GridSearchCV(cv=5, estimator=RandomForestClassifier(random_state=42), n_jobs=-1,\n",
       "             param_grid={'bootstrap': [True, False],\n",
       "                         'max_depth': [2, 3, 4, 5, 6, 7, 8, 9, 10],\n",
       "                         'max_features': ['auto', 'sqrt', 'log2'],\n",
       "                         'min_samples_leaf': [1, 2, 4],\n",
       "                         'min_samples_split': [2, 5, 10],\n",
       "                         'n_estimators': [50, 100, 200]},\n",
       "             verbose=2)"
      ]
     },
     "execution_count": 43,
     "metadata": {},
     "output_type": "execute_result"
    }
   ],
   "source": [
    "grid_search.fit(X_train_selected_features, y_train)"
   ]
  },
  {
   "cell_type": "code",
   "execution_count": 44,
   "id": "89c7ad27",
   "metadata": {},
   "outputs": [
    {
     "name": "stdout",
     "output_type": "stream",
     "text": [
      "Best parameters found:  {'bootstrap': True, 'max_depth': 3, 'max_features': 'auto', 'min_samples_leaf': 2, 'min_samples_split': 2, 'n_estimators': 100}\n"
     ]
    }
   ],
   "source": [
    "best_params_perm = grid_search.best_params_\n",
    "print(\"Best parameters found: \", best_params_perm)"
   ]
  },
  {
   "cell_type": "code",
   "execution_count": 45,
   "id": "61a24eb3",
   "metadata": {},
   "outputs": [
    {
     "data": {
      "text/plain": [
       "RandomForestClassifier(max_depth=3, min_samples_leaf=2, random_state=42)"
      ]
     },
     "execution_count": 45,
     "metadata": {},
     "output_type": "execute_result"
    }
   ],
   "source": [
    "best_rf_classifier = RandomForestClassifier(**best_params_perm,random_state=42)\n",
    "best_rf_classifier.fit(X_train_selected_features, y_train)"
   ]
  },
  {
   "cell_type": "code",
   "execution_count": 46,
   "id": "feadd793",
   "metadata": {},
   "outputs": [
    {
     "name": "stdout",
     "output_type": "stream",
     "text": [
      "Test set accuracy:  0.88\n"
     ]
    }
   ],
   "source": [
    "accuracy_test = best_rf_classifier.score(X_test_selected_features, y_test)\n",
    "print(\"Test set accuracy: \", accuracy_test)"
   ]
  },
  {
   "cell_type": "code",
   "execution_count": 47,
   "id": "71329c81",
   "metadata": {},
   "outputs": [
    {
     "name": "stdout",
     "output_type": "stream",
     "text": [
      "Test set accuracy:  0.9615384615384616\n"
     ]
    }
   ],
   "source": [
    "accuracy_val = best_rf_classifier.score(X_val_selected_features, y_val)\n",
    "print(\"Test set accuracy: \", accuracy_val)"
   ]
  },
  {
   "cell_type": "code",
   "execution_count": 48,
   "id": "4cd30f63",
   "metadata": {},
   "outputs": [
    {
     "name": "stdout",
     "output_type": "stream",
     "text": [
      "AUC:  0.98559670781893\n"
     ]
    }
   ],
   "source": [
    "y_pred_proba_train = best_rf_classifier.predict_proba(X_train_selected_features)[:, 1]\n",
    "y_train_binary = label_binarize(y_train, classes=['normal', 'tumor']).flatten()\n",
    "fpr_train, tpr_train, _ = roc_curve(y_train_binary, y_pred_proba_train)\n",
    "auc_value_train = roc_auc_score(y_train_binary, y_pred_proba_train)\n",
    "print(\"AUC: \", auc_value_train)"
   ]
  },
  {
   "cell_type": "code",
   "execution_count": 49,
   "id": "4750f947",
   "metadata": {},
   "outputs": [
    {
     "name": "stdout",
     "output_type": "stream",
     "text": [
      "AUC:  0.9533333333333334\n"
     ]
    }
   ],
   "source": [
    "y_pred_proba_test = best_rf_classifier.predict_proba(X_test_selected_features)[:, 1]\n",
    "fpr_test, tpr_test, _ = roc_curve(y_test, y_pred_proba_test, pos_label='tumor')\n",
    "auc_value_test = roc_auc_score(y_test, y_pred_proba_test)\n",
    "print(\"AUC: \", auc_value_test)"
   ]
  },
  {
   "cell_type": "code",
   "execution_count": 50,
   "id": "58474640",
   "metadata": {},
   "outputs": [
    {
     "name": "stdout",
     "output_type": "stream",
     "text": [
      "AUC:  0.9869281045751633\n"
     ]
    }
   ],
   "source": [
    "y_pred_proba_val = best_rf_classifier.predict_proba(X_val_selected_features)[:, 1]\n",
    "fpr_val, tpr_val, _ = roc_curve(y_val, y_pred_proba_val, pos_label='tumor')\n",
    "auc_value_val = roc_auc_score(y_val, y_pred_proba_val)\n",
    "print(\"AUC: \", auc_value_val)"
   ]
  },
  {
   "cell_type": "code",
   "execution_count": 51,
   "id": "8d6679ea",
   "metadata": {},
   "outputs": [
    {
     "data": {
      "image/png": "[encoded data removed]",
      "text/plain": [
       "<Figure size 432x432 with 1 Axes>"
      ]
     },
     "metadata": {
      "needs_background": "light"
     },
     "output_type": "display_data"
    }
   ],
   "source": [
    "# Assuming fpr_val, tpr_val, and auc_val contain the FPR, TPR, and AUC for the validation set\n",
    "\n",
    "plt.figure(figsize=(6, 6))\n",
    "\n",
    "# plot ROC curve for the train set\n",
    "plt.plot(fpr_train, tpr_train, label=f'Train Set AUC = {auc_value_train:.2f}')\n",
    "\n",
    "# Plot ROC curve for the test set\n",
    "plt.plot(fpr_test, tpr_test, label=f'Test Set AUC = {auc_value_test:.2f}')\n",
    "\n",
    "# Plot ROC curve for the validation set\n",
    "plt.plot(fpr_val, tpr_val, label=f'Validation Set AUC = {auc_value_val:.2f}', linestyle='-.')  # You can change the linestyle as you like\n",
    "\n",
    "# Plot diagonal line\n",
    "plt.plot([0, 1], [0, 1], linestyle='--', color='gray')\n",
    "\n",
    "# Labels, title, and other settings\n",
    "plt.xlabel('1 - Specificity (False Positive Rate)', fontweight='bold')\n",
    "plt.ylabel('Sensitivity (True Positive Rate)', fontweight='bold')\n",
    "plt.title('plasma_fivefold_test_ROC',fontweight='bold')\n",
    "legend = plt.legend(loc='lower right')\n",
    "plt.grid(False)\n",
    "plt.savefig('plasma_test_roc.pdf', format='pdf')\n",
    "plt.show()\n"
   ]
  },
  {
   "cell_type": "code",
   "execution_count": 52,
   "id": "e2009d51",
   "metadata": {},
   "outputs": [],
   "source": [
    "def compute_metrics_from_cm(cm):\n",
    "    # Extracting values from the confusion matrix\n",
    "    TP = cm[0, 0]\n",
    "    FN = cm[0, 1]\n",
    "    FP = cm[1, 0]\n",
    "    TN = cm[1, 1]\n",
    "\n",
    "    # Calculating Sensitivity and Specificity\n",
    "    sensitivity = TP / (TP + FN)\n",
    "    specificity = TN / (TN + FP)\n",
    "\n",
    "    return sensitivity, specificity\n"
   ]
  },
  {
   "cell_type": "code",
   "execution_count": 53,
   "id": "595f58f5",
   "metadata": {},
   "outputs": [],
   "source": [
    "y_pred_test_labels = [\"tumor\" if p >= 0.5 else \"normal\" for p in y_pred_proba_test]"
   ]
  },
  {
   "cell_type": "code",
   "execution_count": 54,
   "id": "bfc9d840",
   "metadata": {},
   "outputs": [
    {
     "name": "stdout",
     "output_type": "stream",
     "text": [
      "Confusion Matrix:\n",
      "[[ 9  1]\n",
      " [ 2 13]]\n",
      "sensitivity, specificity:\n",
      "0.9 0.8666666666666667\n"
     ]
    }
   ],
   "source": [
    "cm = confusion_matrix(y_test, y_pred_test_labels)\n",
    "sensitivity, specificity = compute_metrics_from_cm(cm)\n",
    "print(\"Confusion Matrix:\")\n",
    "print(cm)\n",
    "print(\"sensitivity, specificity:\")\n",
    "print(sensitivity, specificity)"
   ]
  },
  {
   "cell_type": "code",
   "execution_count": 55,
   "id": "78daac7c",
   "metadata": {},
   "outputs": [
    {
     "data": {
      "image/png": "[encoded data removed]",
      "text/plain": [
       "<Figure size 576x432 with 1 Axes>"
      ]
     },
     "metadata": {
      "needs_background": "light"
     },
     "output_type": "display_data"
    }
   ],
   "source": [
    "# Plotting the heatmap\n",
    "plt.figure(figsize=(8, 6))\n",
    "ax = sns.heatmap(cm, annot=True, fmt='d', cmap='Blues', cbar=False)\n",
    "plt.xlabel('Predicted',fontweight='bold')\n",
    "plt.ylabel('True',fontweight='bold')\n",
    "\n",
    "# Adding Sensitivity and Specificity to the heatmap\n",
    "ax.text(0.5, 2.5, f\"Sensitivity: {sensitivity:.2f}\", size=12, ha=\"center\", va=\"center\")\n",
    "ax.text(1.5, 2.5, f\"Specificity: {specificity:.2f}\", size=12, ha=\"center\", va=\"center\")\n",
    "\n",
    "plt.savefig('plasma_test_confusion_matrices.pdf', format='pdf')\n",
    "plt.show()\n",
    "\n",
    "\n"
   ]
  },
  {
   "cell_type": "code",
   "execution_count": 56,
   "id": "6a3c67fb",
   "metadata": {},
   "outputs": [],
   "source": [
    "y_pred_val_labels = [\"tumor\" if p >= 0.5 else \"normal\" for p in y_pred_proba_val]"
   ]
  },
  {
   "cell_type": "code",
   "execution_count": 57,
   "id": "733a5f1d",
   "metadata": {},
   "outputs": [
    {
     "name": "stdout",
     "output_type": "stream",
     "text": [
      "Confusion Matrix:\n",
      "[[ 8  1]\n",
      " [ 0 17]]\n",
      "sensitivity, specificity:\n",
      "0.8888888888888888 1.0\n"
     ]
    }
   ],
   "source": [
    "cm = confusion_matrix(y_val, y_pred_val_labels)\n",
    "print(\"Confusion Matrix:\")\n",
    "print(cm)\n",
    "sensitivity, specificity = compute_metrics_from_cm(cm)\n",
    "print(\"sensitivity, specificity:\")\n",
    "print(sensitivity, specificity)"
   ]
  },
  {
   "cell_type": "code",
   "execution_count": 58,
   "id": "5cc2e3f3",
   "metadata": {},
   "outputs": [
    {
     "data": {
      "image/png": "[encoded data removed]",
      "text/plain": [
       "<Figure size 576x432 with 1 Axes>"
      ]
     },
     "metadata": {
      "needs_background": "light"
     },
     "output_type": "display_data"
    }
   ],
   "source": [
    "# Plotting the heatmap\n",
    "plt.figure(figsize=(8, 6))\n",
    "ax = sns.heatmap(cm, annot=True, fmt='d', cmap='Blues', cbar=False)\n",
    "plt.xlabel('Predicted',fontweight='bold')\n",
    "plt.ylabel('True',fontweight='bold')\n",
    "\n",
    "# Adding Sensitivity and Specificity to the heatmap\n",
    "ax.text(0.5, 2.5, f\"Sensitivity: {sensitivity:.2f}\", size=12, ha=\"center\", va=\"center\")\n",
    "ax.text(1.5, 2.5, f\"Specificity: {specificity:.2f}\", size=12, ha=\"center\", va=\"center\")\n",
    "\n",
    "plt.savefig('plasma_val_confusion_matrices.pdf', format='pdf')\n",
    "plt.show()\n"
   ]
  },
  {
   "cell_type": "code",
   "execution_count": 140,
   "id": "93520077",
   "metadata": {},
   "outputs": [],
   "source": [
    "new_candidate=['piR_hsa_2856477', 'piR_hsa_142355','piR_hsa_100956']"
   ]
  },
  {
   "cell_type": "code",
   "execution_count": 25,
   "id": "86bc58c6",
   "metadata": {},
   "outputs": [],
   "source": [
    "new_candidate=['piR_hsa_100956','piR_hsa_1248077']"
   ]
  },
  {
   "cell_type": "code",
   "execution_count": 13,
   "id": "06cc04e8",
   "metadata": {},
   "outputs": [],
   "source": [
    "new_candidate=['piR_hsa_1248077']"
   ]
  },
  {
   "cell_type": "code",
   "execution_count": 26,
   "id": "78126bf5",
   "metadata": {},
   "outputs": [],
   "source": [
    "plasma_new_X = X[new_candidate]"
   ]
  },
  {
   "cell_type": "code",
   "execution_count": 27,
   "id": "256cacbf",
   "metadata": {},
   "outputs": [],
   "source": [
    "new_y = plasma_rf['group']"
   ]
  },
  {
   "cell_type": "code",
   "execution_count": 28,
   "id": "33d375b5",
   "metadata": {},
   "outputs": [
    {
     "data": {
      "text/html": [
       "<div>\n",
       "<style scoped>\n",
       "    .dataframe tbody tr th:only-of-type {\n",
       "        vertical-align: middle;\n",
       "    }\n",
       "\n",
       "    .dataframe tbody tr th {\n",
       "        vertical-align: top;\n",
       "    }\n",
       "\n",
       "    .dataframe thead th {\n",
       "        text-align: right;\n",
       "    }\n",
       "</style>\n",
       "<table border=\"1\" class=\"dataframe\">\n",
       "  <thead>\n",
       "    <tr style=\"text-align: right;\">\n",
       "      <th></th>\n",
       "      <th>piR_hsa_100956</th>\n",
       "      <th>piR_hsa_1248077</th>\n",
       "    </tr>\n",
       "  </thead>\n",
       "  <tbody>\n",
       "    <tr>\n",
       "      <th>0</th>\n",
       "      <td>12.910722</td>\n",
       "      <td>5.616039</td>\n",
       "    </tr>\n",
       "    <tr>\n",
       "      <th>1</th>\n",
       "      <td>12.687488</td>\n",
       "      <td>5.498734</td>\n",
       "    </tr>\n",
       "    <tr>\n",
       "      <th>2</th>\n",
       "      <td>11.605544</td>\n",
       "      <td>5.407376</td>\n",
       "    </tr>\n",
       "    <tr>\n",
       "      <th>3</th>\n",
       "      <td>12.083015</td>\n",
       "      <td>4.691218</td>\n",
       "    </tr>\n",
       "    <tr>\n",
       "      <th>4</th>\n",
       "      <td>11.946797</td>\n",
       "      <td>4.915469</td>\n",
       "    </tr>\n",
       "    <tr>\n",
       "      <th>...</th>\n",
       "      <td>...</td>\n",
       "      <td>...</td>\n",
       "    </tr>\n",
       "    <tr>\n",
       "      <th>163</th>\n",
       "      <td>11.968415</td>\n",
       "      <td>5.610301</td>\n",
       "    </tr>\n",
       "    <tr>\n",
       "      <th>164</th>\n",
       "      <td>11.352650</td>\n",
       "      <td>5.874073</td>\n",
       "    </tr>\n",
       "    <tr>\n",
       "      <th>165</th>\n",
       "      <td>11.080142</td>\n",
       "      <td>5.541921</td>\n",
       "    </tr>\n",
       "    <tr>\n",
       "      <th>166</th>\n",
       "      <td>11.161624</td>\n",
       "      <td>5.802862</td>\n",
       "    </tr>\n",
       "    <tr>\n",
       "      <th>167</th>\n",
       "      <td>11.121178</td>\n",
       "      <td>5.891984</td>\n",
       "    </tr>\n",
       "  </tbody>\n",
       "</table>\n",
       "<p>168 rows × 2 columns</p>\n",
       "</div>"
      ],
      "text/plain": [
       "     piR_hsa_100956  piR_hsa_1248077\n",
       "0         12.910722         5.616039\n",
       "1         12.687488         5.498734\n",
       "2         11.605544         5.407376\n",
       "3         12.083015         4.691218\n",
       "4         11.946797         4.915469\n",
       "..              ...              ...\n",
       "163       11.968415         5.610301\n",
       "164       11.352650         5.874073\n",
       "165       11.080142         5.541921\n",
       "166       11.161624         5.802862\n",
       "167       11.121178         5.891984\n",
       "\n",
       "[168 rows x 2 columns]"
      ]
     },
     "execution_count": 28,
     "metadata": {},
     "output_type": "execute_result"
    }
   ],
   "source": [
    "plasma_new_X"
   ]
  },
  {
   "cell_type": "code",
   "execution_count": 29,
   "id": "0b1d8ec1",
   "metadata": {},
   "outputs": [],
   "source": [
    "X_train_new, temp_set_new, y_train_new, y_temp_new = train_test_split(plasma_new_X, new_y, test_size=0.3, random_state=42)"
   ]
  },
  {
   "cell_type": "code",
   "execution_count": 30,
   "id": "8f1760be",
   "metadata": {},
   "outputs": [],
   "source": [
    "X_test_new, X_val_new, y_test_new, y_val_new = train_test_split(\n",
    "    temp_set_new, y_temp_new, test_size=0.5, random_state=42)"
   ]
  },
  {
   "cell_type": "code",
   "execution_count": 31,
   "id": "3d3e7840",
   "metadata": {},
   "outputs": [
    {
     "data": {
      "text/plain": [
       "(117, 2)"
      ]
     },
     "execution_count": 31,
     "metadata": {},
     "output_type": "execute_result"
    }
   ],
   "source": [
    "X_train_new.shape"
   ]
  },
  {
   "cell_type": "code",
   "execution_count": 32,
   "id": "c5275a65",
   "metadata": {},
   "outputs": [
    {
     "data": {
      "text/plain": [
       "(25, 2)"
      ]
     },
     "execution_count": 32,
     "metadata": {},
     "output_type": "execute_result"
    }
   ],
   "source": [
    "X_test_new.shape"
   ]
  },
  {
   "cell_type": "code",
   "execution_count": 21,
   "id": "2f1cd3c7",
   "metadata": {},
   "outputs": [],
   "source": [
    "rf_classifier_new = RandomForestClassifier(random_state=42)"
   ]
  },
  {
   "cell_type": "code",
   "execution_count": 22,
   "id": "041ba630",
   "metadata": {},
   "outputs": [
    {
     "data": {
      "text/plain": [
       "RandomForestClassifier(random_state=42)"
      ]
     },
     "execution_count": 22,
     "metadata": {},
     "output_type": "execute_result"
    }
   ],
   "source": [
    "rf_classifier_new.fit(X_train_new, y_train_new)"
   ]
  },
  {
   "cell_type": "code",
   "execution_count": 25,
   "id": "e6ec6f20",
   "metadata": {},
   "outputs": [],
   "source": [
    "grid_search = GridSearchCV(estimator=rf_classifier_new, param_grid=param_grid,\n",
    "                           cv=5, n_jobs=50, verbose=2)"
   ]
  },
  {
   "cell_type": "code",
   "execution_count": 26,
   "id": "8529bba2",
   "metadata": {},
   "outputs": [
    {
     "name": "stdout",
     "output_type": "stream",
     "text": [
      "Fitting 5 folds for each of 1458 candidates, totalling 7290 fits\n"
     ]
    },
    {
     "data": {
      "text/plain": [
       "GridSearchCV(cv=5, estimator=RandomForestClassifier(random_state=42), n_jobs=50,\n",
       "             param_grid={'bootstrap': [True, False],\n",
       "                         'max_depth': [2, 3, 4, 5, 6, 7, 8, 9, 10],\n",
       "                         'max_features': ['auto', 'sqrt', 'log2'],\n",
       "                         'min_samples_leaf': [1, 2, 4],\n",
       "                         'min_samples_split': [2, 5, 10],\n",
       "                         'n_estimators': [50, 100, 200]},\n",
       "             verbose=2)"
      ]
     },
     "execution_count": 26,
     "metadata": {},
     "output_type": "execute_result"
    }
   ],
   "source": [
    "grid_search.fit(X_train_new, y_train_new)"
   ]
  },
  {
   "cell_type": "code",
   "execution_count": 27,
   "id": "733608ab",
   "metadata": {},
   "outputs": [
    {
     "name": "stdout",
     "output_type": "stream",
     "text": [
      "Best parameters found:  {'bootstrap': False, 'max_depth': 2, 'max_features': 'auto', 'min_samples_leaf': 1, 'min_samples_split': 2, 'n_estimators': 50}\n"
     ]
    }
   ],
   "source": [
    "best_params_perm = grid_search.best_params_\n",
    "print(\"Best parameters found: \", best_params_perm)"
   ]
  },
  {
   "cell_type": "code",
   "execution_count": 28,
   "id": "335f3055",
   "metadata": {},
   "outputs": [
    {
     "data": {
      "text/plain": [
       "RandomForestClassifier(bootstrap=False, max_depth=2, n_estimators=50,\n",
       "                       random_state=42)"
      ]
     },
     "execution_count": 28,
     "metadata": {},
     "output_type": "execute_result"
    }
   ],
   "source": [
    "best_rf_classifier = RandomForestClassifier(**best_params_perm,random_state=42)\n",
    "best_rf_classifier.fit(X_train_new, y_train_new)"
   ]
  },
  {
   "cell_type": "code",
   "execution_count": 29,
   "id": "b7c9d88a",
   "metadata": {},
   "outputs": [
    {
     "name": "stdout",
     "output_type": "stream",
     "text": [
      "Test set accuracy:  0.8\n"
     ]
    }
   ],
   "source": [
    "accuracy_test_new = best_rf_classifier.score(X_test_new, y_test_new)\n",
    "print(\"Test set accuracy: \", accuracy_test_new)"
   ]
  },
  {
   "cell_type": "code",
   "execution_count": 30,
   "id": "705ea334",
   "metadata": {},
   "outputs": [
    {
     "name": "stdout",
     "output_type": "stream",
     "text": [
      "Test set accuracy:  0.7692307692307693\n"
     ]
    }
   ],
   "source": [
    "accuracy_val_new = best_rf_classifier.score(X_val_new, y_val_new)\n",
    "print(\"Test set accuracy: \", accuracy_val_new)"
   ]
  },
  {
   "cell_type": "code",
   "execution_count": 31,
   "id": "05980b98",
   "metadata": {},
   "outputs": [
    {
     "name": "stdout",
     "output_type": "stream",
     "text": [
      "AUC:  0.8952087007642564\n"
     ]
    }
   ],
   "source": [
    "y_pred_proba_train_new = best_rf_classifier.predict_proba(X_train_new)[:, 1]\n",
    "y_train_binary_new = label_binarize(y_train_new, classes=['normal', 'tumor']).flatten()\n",
    "fpr_train_new, tpr_train_new, _ = roc_curve(y_train_binary_new, y_pred_proba_train_new)\n",
    "auc_value_train_new = roc_auc_score(y_train_binary_new, y_pred_proba_train_new)\n",
    "print(\"AUC: \", auc_value_train_new)"
   ]
  },
  {
   "cell_type": "code",
   "execution_count": 32,
   "id": "b25ad6ee",
   "metadata": {},
   "outputs": [
    {
     "name": "stdout",
     "output_type": "stream",
     "text": [
      "AUC:  0.8566666666666667\n"
     ]
    }
   ],
   "source": [
    "y_pred_proba_test_new = best_rf_classifier.predict_proba(X_test_new)[:, 1]\n",
    "fpr_test_new, tpr_test_new, _ = roc_curve(y_test_new, y_pred_proba_test_new, pos_label='tumor')\n",
    "auc_value_test_new = roc_auc_score(y_test_new, y_pred_proba_test_new)\n",
    "print(\"AUC: \", auc_value_test_new)"
   ]
  },
  {
   "cell_type": "code",
   "execution_count": 33,
   "id": "ba7734f9",
   "metadata": {},
   "outputs": [
    {
     "name": "stdout",
     "output_type": "stream",
     "text": [
      "AUC:  0.8333333333333333\n"
     ]
    }
   ],
   "source": [
    "y_pred_proba_val_new = best_rf_classifier.predict_proba(X_val_new)[:, 1]\n",
    "fpr_val_new, tpr_val_new, _ = roc_curve(y_val_new, y_pred_proba_val_new, pos_label='tumor')\n",
    "auc_value_val_new = roc_auc_score(y_val_new, y_pred_proba_val_new)\n",
    "print(\"AUC: \", auc_value_val_new)"
   ]
  },
  {
   "cell_type": "code",
   "execution_count": 36,
   "id": "577ff3cf",
   "metadata": {},
   "outputs": [
    {
     "data": {
      "image/png": "[encoded data removed]",
      "text/plain": [
       "<Figure size 432x432 with 1 Axes>"
      ]
     },
     "metadata": {
      "needs_background": "light"
     },
     "output_type": "display_data"
    }
   ],
   "source": [
    "# Assuming fpr_val, tpr_val, and auc_val contain the FPR, TPR, and AUC for the validation set\n",
    "\n",
    "plt.figure(figsize=(6, 6))\n",
    "\n",
    "# plot ROC curve for the train set\n",
    "plt.plot(fpr_train_new, tpr_train_new, label=f'Train Set AUC = {auc_value_train_new:.2f}')\n",
    "\n",
    "# Plot ROC curve for the test set\n",
    "plt.plot(fpr_test_new, tpr_test_new, label=f'Test Set AUC = {auc_value_test_new:.2f}')\n",
    "\n",
    "# Plot ROC curve for the validation set\n",
    "plt.plot(fpr_val_new, tpr_val_new, label=f'Validation Set AUC = {auc_value_val_new:.2f}', linestyle='-.')  # You can change the linestyle as you like\n",
    "\n",
    "# Plot diagonal line\n",
    "plt.plot([0, 1], [0, 1], linestyle='--', color='gray')\n",
    "\n",
    "# Labels, title, and other settings\n",
    "plt.xlabel('1 - Specificity (False Positive Rate)', fontweight='bold')\n",
    "plt.ylabel('Sensitivity (True Positive Rate)', fontweight='bold')\n",
    "plt.title('plasma_two_piRNA_test_ROC',fontweight='bold')\n",
    "legend = plt.legend(loc='lower right')\n",
    "plt.grid(False)\n",
    "plt.savefig('plasma_2piRNA.pdf', format='pdf')\n",
    "plt.show()\n"
   ]
  },
  {
   "cell_type": "code",
   "execution_count": 33,
   "id": "853f4509",
   "metadata": {},
   "outputs": [
    {
     "data": {
      "text/plain": [
       "LogisticRegression()"
      ]
     },
     "execution_count": 33,
     "metadata": {},
     "output_type": "execute_result"
    }
   ],
   "source": [
    "model = LogisticRegression()\n",
    "model.fit(X_train_new, y_train_new)"
   ]
  },
  {
   "cell_type": "code",
   "execution_count": 34,
   "id": "31190c97",
   "metadata": {},
   "outputs": [],
   "source": [
    "y_train_pred_log = model.predict(X_train_new)\n",
    "y_test_pred_log = model.predict(X_test_new)\n",
    "y_val_pred_log = model.predict(X_val_new)"
   ]
  },
  {
   "cell_type": "code",
   "execution_count": 35,
   "id": "6dc18af9",
   "metadata": {},
   "outputs": [
    {
     "name": "stdout",
     "output_type": "stream",
     "text": [
      "train Accuracy: 0.7521\n",
      "train AUC: 0.8189\n",
      "Validation Accuracy: 0.7308\n",
      "Validation AUC: 0.8105\n",
      "test Accuracy: 0.7600\n",
      "Test AUC: 0.8800\n"
     ]
    }
   ],
   "source": [
    "\n",
    "# Compute accuracy for validation and test sets\n",
    "acc_train_log = accuracy_score(y_train_new, y_train_pred_log)\n",
    "acc_val_log = accuracy_score(y_val_new, y_val_pred_log)\n",
    "acc_test_log = accuracy_score(y_test_new, y_test_pred_log)\n",
    "\n",
    "# Compute predicted probabilities for AUC calculation\n",
    "y_train_prob_log = model.predict_proba(X_train_new)[:, 1]\n",
    "y_val_prob_log = model.predict_proba(X_val_new)[:, 1]\n",
    "y_test_prob_log = model.predict_proba(X_test_new)[:, 1]\n",
    "\n",
    "# Compute AUC for validation and test sets\n",
    "auc_train_log = roc_auc_score(y_train_new, y_train_prob_log)\n",
    "auc_val_log = roc_auc_score(y_val_new, y_val_prob_log)\n",
    "auc_test_log = roc_auc_score(y_test_new, y_test_prob_log)\n",
    "\n",
    "#roc_curve\n",
    "y_train_binary_log = label_binarize(y_train_new, classes=['normal', 'tumor']).flatten()\n",
    "fpr_train_log, tpr_train_log, _ = roc_curve(y_train_binary_log, y_train_prob_log)\n",
    "\n",
    "y_test_binary_log = label_binarize(y_test_new, classes=['normal', 'tumor']).flatten()\n",
    "fpr_test_log, tpr_test_log, _ = roc_curve(y_test_binary_log, y_test_prob_log)\n",
    "\n",
    "y_val_binary_log = label_binarize(y_val_new, classes=['normal', 'tumor']).flatten()\n",
    "fpr_val_log, tpr_val_log, _ = roc_curve(y_val_binary_log, y_val_prob_log)\n",
    "\n",
    "print(f\"train Accuracy: {acc_train_log:.4f}\")\n",
    "print(f\"train AUC: {auc_train_log:.4f}\")\n",
    "\n",
    "print(f\"Validation Accuracy: {acc_val_log:.4f}\")\n",
    "print(f\"Validation AUC: {auc_val_log:.4f}\")\n",
    "\n",
    "print(f\"test Accuracy: {acc_test_log:.4f}\")\n",
    "print(f\"Test AUC: {auc_test_log:.4f}\")\n",
    "\n",
    "\n"
   ]
  },
  {
   "cell_type": "code",
   "execution_count": 24,
   "id": "b3de3bdb",
   "metadata": {},
   "outputs": [
    {
     "data": {
      "image/png": "[encoded data removed]",
      "text/plain": [
       "<Figure size 432x432 with 1 Axes>"
      ]
     },
     "metadata": {
      "needs_background": "light"
     },
     "output_type": "display_data"
    }
   ],
   "source": [
    "# Assuming fpr_val, tpr_val, and auc_val contain the FPR, TPR, and AUC for the validation set\n",
    "\n",
    "plt.figure(figsize=(6, 6))\n",
    "\n",
    "# plot ROC curve for the train set\n",
    "plt.plot(fpr_train_log, tpr_train_log, label=f'Train Set AUC = {auc_train_log:.2f}')\n",
    "\n",
    "# Plot ROC curve for the test set\n",
    "plt.plot(fpr_test_log, tpr_test_log, label=f'Test Set AUC = {auc_test_log:.2f}')\n",
    "\n",
    "# Plot ROC curve for the validation set\n",
    "plt.plot(fpr_val_log, tpr_val_log, label=f'Validation Set AUC = {auc_val_log:.2f}', linestyle='-.')  # You can change the linestyle as you like\n",
    "\n",
    "# Plot diagonal line\n",
    "plt.plot([0, 1], [0, 1], linestyle='--', color='gray')\n",
    "\n",
    "# Labels, title, and other settings\n",
    "plt.xlabel('1 - Specificity (False Positive Rate)', fontweight='bold')\n",
    "plt.ylabel('Sensitivity (True Positive Rate)', fontweight='bold')\n",
    "plt.title('plasma_piR_hsa_1248077_logistic',fontweight='bold')\n",
    "legend = plt.legend(loc='lower right')\n",
    "plt.grid(False)\n",
    "plt.savefig('plasma_piR_hsa_1248077_logistic.pdf', format='pdf')\n",
    "plt.show()\n"
   ]
  },
  {
   "cell_type": "code",
   "execution_count": 36,
   "id": "a0a8110d",
   "metadata": {},
   "outputs": [
    {
     "data": {
      "image/png": "[encoded data removed]",
      "text/plain": [
       "<Figure size 432x432 with 1 Axes>"
      ]
     },
     "metadata": {
      "needs_background": "light"
     },
     "output_type": "display_data"
    }
   ],
   "source": [
    "# Assuming fpr_val, tpr_val, and auc_val contain the FPR, TPR, and AUC for the validation set\n",
    "\n",
    "plt.figure(figsize=(6, 6))\n",
    "\n",
    "# plot ROC curve for the train set\n",
    "plt.plot(fpr_train_log, tpr_train_log, label=f'Train Set AUC = {auc_train_log:.2f}')\n",
    "\n",
    "# Plot ROC curve for the test set\n",
    "plt.plot(fpr_test_log, tpr_test_log, label=f'Test Set AUC = {auc_test_log:.2f}')\n",
    "\n",
    "# Plot ROC curve for the validation set\n",
    "plt.plot(fpr_val_log, tpr_val_log, label=f'Validation Set AUC = {auc_val_log:.2f}', linestyle='-.')  # You can change the linestyle as you like\n",
    "\n",
    "# Plot diagonal line\n",
    "plt.plot([0, 1], [0, 1], linestyle='--', color='gray')\n",
    "\n",
    "# Labels, title, and other settings\n",
    "plt.xlabel('1 - Specificity (False Positive Rate)', fontweight='bold')\n",
    "plt.ylabel('Sensitivity (True Positive Rate)', fontweight='bold')\n",
    "plt.title('plasma_twopiRNA_logistic',fontweight='bold')\n",
    "legend = plt.legend(loc='lower right')\n",
    "plt.grid(False)\n",
    "plt.savefig('plasma_twopiRNA_logistic.pdf', format='pdf')\n",
    "plt.show()\n"
   ]
  },
  {
   "cell_type": "code",
   "execution_count": null,
   "id": "f5a76e44",
   "metadata": {},
   "outputs": [],
   "source": []
  }
 ],
 "metadata": {
  "kernelspec": {
   "display_name": "Python 3",
   "language": "python",
   "name": "python3"
  },
  "language_info": {
   "codemirror_mode": {
    "name": "ipython",
    "version": 3
   },
   "file_extension": ".py",
   "mimetype": "text/x-python",
   "name": "python",
   "nbconvert_exporter": "python",
   "pygments_lexer": "ipython3",
   "version": "3.8.8"
  }
 },
 "nbformat": 4,
 "nbformat_minor": 5
}
